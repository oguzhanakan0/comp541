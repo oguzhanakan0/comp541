{
 "cells": [
  {
   "cell_type": "markdown",
   "metadata": {},
   "source": [
    "### Import Libraries"
   ]
  },
  {
   "cell_type": "code",
   "execution_count": 6,
   "metadata": {},
   "outputs": [],
   "source": [
    "import pandas as pd\n",
    "import numpy as np\n",
    "import time\n",
    "from sklearn.model_selection import KFold\n",
    "from sklearn.model_selection import train_test_split\n",
    "from sklearn.ensemble import GradientBoostingClassifier\n",
    "from sklearn.metrics import roc_auc_score\n",
    "import matplotlib.pyplot as plt\n",
    "from sklearn.metrics import confusion_matrix\n",
    "from sklearn.metrics import roc_curve"
   ]
  },
  {
   "cell_type": "markdown",
   "metadata": {},
   "source": [
    "### Read Data & Assign Accordingly"
   ]
  },
  {
   "cell_type": "code",
   "execution_count": 7,
   "metadata": {},
   "outputs": [],
   "source": [
    "df = pd.read_csv('data/final_training_data.csv')"
   ]
  },
  {
   "cell_type": "code",
   "execution_count": 8,
   "metadata": {},
   "outputs": [],
   "source": [
    "clf_target = 'isprofit' # classification model target\n",
    "reg_target = 'profitability_ratio' # regression model target\n",
    "des_features = ['budget', 'budget_norm', 'genre', 'popularity', 'popularity_norm', 'rating', 'runtime',\n",
    "                'runtime_norm', 'score', 'score_norm', 'votes', 'votes_norm', 'year'] # descriptive features"
   ]
  },
  {
   "cell_type": "code",
   "execution_count": 9,
   "metadata": {},
   "outputs": [],
   "source": [
    "X = df[des_features] # training data is the same for classification model and regression model\n",
    "y1 = df[clf_target] # y1 corresponds to binary label outcome that will be used in classification\n",
    "y2 = df[reg_target] # y2 corresponds to continuous outcome that will be used in regression\n",
    "\n",
    "X_train, X_test, y1_train, y1_test = train_test_split(X, y1, test_size=0.2, random_state=17)\n",
    "X_train, X_test, y2_train, y2_test = train_test_split(X, y2, test_size=0.2, random_state=17)\n",
    "\n",
    "X_train = X_train.reset_index(drop=True)\n",
    "y1_train = pd.DataFrame(y1_train).reset_index(drop=True)\n",
    "y2_train = pd.DataFrame(y2_train).reset_index(drop=True)\n",
    "X_test = X_test.reset_index(drop=True)\n",
    "y1_test = pd.DataFrame(y1_test).reset_index(drop=True)\n",
    "y2_test = pd.DataFrame(y2_test).reset_index(drop=True)"
   ]
  },
  {
   "cell_type": "markdown",
   "metadata": {},
   "source": [
    "### Helper Functions"
   ]
  },
  {
   "cell_type": "code",
   "execution_count": 10,
   "metadata": {},
   "outputs": [],
   "source": [
    "def plot_confusion_matrix(y_true, y_pred, classes,\n",
    "                          normalize=False,\n",
    "                          title=None,\n",
    "                          cmap=plt.cm.Blues):\n",
    "    if not title:\n",
    "        if normalize:\n",
    "            pass\n",
    "        else:\n",
    "            title = 'Confusion matrix, without normalization'\n",
    "\n",
    "    # Compute confusion matrix\n",
    "    cm = confusion_matrix(y_true, y_pred)\n",
    "\n",
    "    fig, ax = plt.subplots()\n",
    "    im = ax.imshow(cm, interpolation='nearest', cmap=cmap)\n",
    "    ax.figure.colorbar(im, ax=ax)\n",
    "    ax.set(xticks=np.arange(cm.shape[1]),\n",
    "           yticks=np.arange(cm.shape[0]),\n",
    "           xticklabels=classes, yticklabels=classes,\n",
    "           title=title,\n",
    "           ylabel='True label',\n",
    "           xlabel='Predicted label')\n",
    "\n",
    "    plt.setp(ax.get_xticklabels(), rotation=45, ha=\"right\",\n",
    "             rotation_mode=\"anchor\")\n",
    "\n",
    "    fmt = '.2f' if normalize else 'd'\n",
    "    thresh = cm.max() / 2.\n",
    "    for i in range(cm.shape[0]):\n",
    "        for j in range(cm.shape[1]):\n",
    "            ax.text(j, i, format(cm[i, j], fmt),\n",
    "                    ha=\"center\", va=\"center\",\n",
    "                    color=\"white\" if cm[i, j] > thresh else \"black\")\n",
    "    fig.tight_layout()\n",
    "    return cm"
   ]
  },
  {
   "cell_type": "code",
   "execution_count": 11,
   "metadata": {},
   "outputs": [],
   "source": [
    "def run_kfold_model(X,y,X_test,y_test,model,fold_indexes,folds=[1,2,3],model_name='Unknown'):\n",
    "    results = {}\n",
    "    for fold in folds:\n",
    "        print('='*5+' '+model_name+' - fold '+str(fold)+' '+'='*5)\n",
    "        x_train = X.loc[list(fold_indexes[fold]['train'])]\n",
    "        x_valid = X.loc[list(fold_indexes[fold]['valid'])]\n",
    "        y_train = y.loc[list(fold_indexes[fold]['train'])]\n",
    "        y_valid = y.loc[list(fold_indexes[fold]['valid'])]\n",
    "        print('fitting model...')\n",
    "        start_time = time.time()\n",
    "        model.fit(x_train, np.ravel(y_train))\n",
    "        ex_time = (time.time() - start_time)\n",
    "        print('model fit!')\n",
    "        results[fold] = {}\n",
    "        results[fold]['model'] = model\n",
    "        results[fold]['preds'] = {\n",
    "            'train_y_pred': model.predict(x_train),\n",
    "            'train_y_prob': model.predict_proba(x_train)[:,0],\n",
    "            'valid_y_pred': model.predict(x_valid),\n",
    "            'valid_y_prob': model.predict_proba(x_valid)[:,0],\n",
    "            'test_y_pred': model.predict(X_test),\n",
    "            'test_y_prob': model.predict_proba(X_test)[:,0],\n",
    "        }\n",
    "        results[fold]['execution_time'] = ex_time\n",
    "        # pprint.pprint(results[fold])\n",
    "    return results"
   ]
  },
  {
   "cell_type": "code",
   "execution_count": 12,
   "metadata": {},
   "outputs": [],
   "source": [
    "# This is where we create our folds\n",
    "kf = KFold(n_splits=3, random_state=17, shuffle=True)\n",
    "kf.get_n_splits(X_train)\n",
    "fold_indexes = {}\n",
    "i = 1\n",
    "for train_index, valid_index in kf.split(X_train):\n",
    "    fold_indexes[i]={}\n",
    "    fold_indexes[i]['train']=train_index\n",
    "    fold_indexes[i]['valid']=valid_index\n",
    "    i+=1\n",
    "    \n",
    "y1_valid = np.ravel(y1_train.loc[list(fold_indexes[1]['valid'])+list(fold_indexes[2]['valid'])+list(fold_indexes[3]['valid'])])\n",
    "y1_test = np.ravel(y1_test)"
   ]
  },
  {
   "cell_type": "markdown",
   "metadata": {},
   "source": [
    "# ========= YOU CAN RUN ABOVE CODE UNTIL THIS POINT ========== "
   ]
  },
  {
   "cell_type": "markdown",
   "metadata": {},
   "source": [
    "## Classification Models"
   ]
  },
  {
   "cell_type": "markdown",
   "metadata": {},
   "source": [
    "### Gradient Boosting Classifier"
   ]
  },
  {
   "cell_type": "code",
   "execution_count": 13,
   "metadata": {},
   "outputs": [
    {
     "name": "stdout",
     "output_type": "stream",
     "text": [
      "===== GB Classification - fold 1 =====\n",
      "fitting model...\n",
      "model fit!\n",
      "===== GB Classification - fold 2 =====\n",
      "fitting model...\n",
      "model fit!\n",
      "===== GB Classification - fold 3 =====\n",
      "fitting model...\n",
      "model fit!\n"
     ]
    }
   ],
   "source": [
    "gb = GradientBoostingClassifier(n_estimators=100)\n",
    "gb_results = run_kfold_model(X_train,y1_train,X_test,y1_test,gb,fold_indexes,model_name='GB Classification')"
   ]
  },
  {
   "cell_type": "markdown",
   "metadata": {},
   "source": [
    "#### Confusion Matrix (Validation)"
   ]
  },
  {
   "cell_type": "code",
   "execution_count": 14,
   "metadata": {},
   "outputs": [],
   "source": [
    "valid_pred = list(gb_results[1]['preds']['valid_y_pred'])+\\\n",
    "             list(gb_results[2]['preds']['valid_y_pred'])+\\\n",
    "             list(gb_results[3]['preds']['valid_y_pred'])"
   ]
  },
  {
   "cell_type": "code",
   "execution_count": 15,
   "metadata": {},
   "outputs": [
    {
     "data": {
      "image/png": "[encoded data removed]",
      "text/plain": [
       "<Figure size 432x288 with 2 Axes>"
      ]
     },
     "metadata": {
      "needs_background": "light"
     },
     "output_type": "display_data"
    }
   ],
   "source": [
    "cm = plot_confusion_matrix(y1_valid,valid_pred,classes=[0,1],title='Confusion matrix')\n",
    "plt.show()"
   ]
  },
  {
   "cell_type": "code",
   "execution_count": 16,
   "metadata": {},
   "outputs": [
    {
     "name": "stdout",
     "output_type": "stream",
     "text": [
      "Accuracy: 0.7\n"
     ]
    }
   ],
   "source": [
    "accuracy = (cm[0,0] + cm[1,1]) / cm.sum() # Overall, how often is the classifier correct?\n",
    "print('Accuracy: {}'.format(round(accuracy,2)))"
   ]
  },
  {
   "cell_type": "markdown",
   "metadata": {},
   "source": [
    "#### Confusion Matrix (Test)"
   ]
  },
  {
   "cell_type": "code",
   "execution_count": 17,
   "metadata": {},
   "outputs": [],
   "source": [
    "threshold = 0.5\n",
    "test_probs = gb_results[1]['preds']['test_y_prob']+\\\n",
    "             gb_results[2]['preds']['test_y_prob']+\\\n",
    "             gb_results[3]['preds']['test_y_prob']\n",
    "test_probs /= 3\n",
    "test_pred = (test_probs>=threshold).astype(int)"
   ]
  },
  {
   "cell_type": "code",
   "execution_count": 18,
   "metadata": {},
   "outputs": [
    {
     "data": {
      "image/png": "[encoded data removed]",
      "text/plain": [
       "<Figure size 432x288 with 2 Axes>"
      ]
     },
     "metadata": {
      "needs_background": "light"
     },
     "output_type": "display_data"
    }
   ],
   "source": [
    "cm = plot_confusion_matrix(y1_test,test_pred,classes=[0,1],title='Confusion matrix')\n",
    "plt.show()"
   ]
  },
  {
   "cell_type": "code",
   "execution_count": 19,
   "metadata": {},
   "outputs": [
    {
     "name": "stdout",
     "output_type": "stream",
     "text": [
      "Accuracy: 0.31\n"
     ]
    }
   ],
   "source": [
    "accuracy = (cm[0,0] + cm[1,1]) / cm.sum() # Overall, how often is the classifier correct?\n",
    "print('Accuracy: {}'.format(round(accuracy,2)))"
   ]
  },
  {
   "cell_type": "markdown",
   "metadata": {},
   "source": [
    "### Libraries"
   ]
  },
  {
   "cell_type": "code",
   "execution_count": null,
   "metadata": {},
   "outputs": [],
   "source": [
    "from sklearn.neighbors import KNeighborsClassifier\n",
    "from sklearn.neighbors import KNeighborsRegressor\n",
    "\n",
    "from sklearn.metrics import mean_squared_error\n",
    "from sklearn.metrics import r2_score\n",
    "from sklearn.metrics import mean_absolute_error\n",
    "import sklearn.metrics as metrics"
   ]
  },
  {
   "cell_type": "markdown",
   "metadata": {},
   "source": [
    "### K-Nearest Neighbor"
   ]
  },
  {
   "cell_type": "markdown",
   "metadata": {},
   "source": [
    "#### Finding The Best Value of K"
   ]
  },
  {
   "cell_type": "code",
   "execution_count": 64,
   "metadata": {},
   "outputs": [],
   "source": [
    "error = []\n",
    "\n",
    "# Calculating error for K values between 1 and 40\n",
    "for i in range(1, 40):\n",
    "    knn = KNeighborsClassifier(n_neighbors=i)\n",
    "    knn.fit(X_train, y1_train.values.ravel())\n",
    "    pred_i = knn.predict(X_test)\n",
    "    error.append(np.mean(pred_i != y1_test))"
   ]
  },
  {
   "cell_type": "code",
   "execution_count": 65,
   "metadata": {},
   "outputs": [
    {
     "data": {
      "text/plain": [
       "Text(0, 0.5, 'Mean Error')"
      ]
     },
     "execution_count": 65,
     "metadata": {},
     "output_type": "execute_result"
    },
    {
     "data": {
      "image/png": "[encoded data removed]",
      "text/plain": [
       "<Figure size 864x432 with 1 Axes>"
      ]
     },
     "metadata": {
      "needs_background": "light"
     },
     "output_type": "display_data"
    }
   ],
   "source": [
    "plt.figure(figsize=(12, 6))\n",
    "plt.plot(range(1, 40), error, color='red', linestyle='dashed', marker='o',\n",
    "         markerfacecolor='blue', markersize=10)\n",
    "plt.title('Error Rate K Value')\n",
    "plt.xlabel('K Value')\n",
    "plt.ylabel('Mean Error')"
   ]
  },
  {
   "cell_type": "markdown",
   "metadata": {},
   "source": [
    "The best suitable value of K is 5, as it has the lowest mean error."
   ]
  },
  {
   "cell_type": "markdown",
   "metadata": {},
   "source": [
    "#### Confusion Matrix (Validation)"
   ]
  },
  {
   "cell_type": "code",
   "execution_count": 22,
   "metadata": {},
   "outputs": [
    {
     "name": "stdout",
     "output_type": "stream",
     "text": [
      "===== KNN Classification - fold 1 =====\n",
      "fitting model...\n",
      "model fit!\n",
      "===== KNN Classification - fold 2 =====\n",
      "fitting model...\n",
      "model fit!\n",
      "===== KNN Classification - fold 3 =====\n",
      "fitting model...\n",
      "model fit!\n"
     ]
    }
   ],
   "source": [
    "\n",
    "knn = KNeighborsClassifier(n_neighbors=5)\n",
    "knn_results = run_kfold_model(X_train,y1_train,X_test,y1_test,knn,fold_indexes,model_name='KNN Classification')"
   ]
  },
  {
   "cell_type": "code",
   "execution_count": 23,
   "metadata": {},
   "outputs": [],
   "source": [
    "valid_pred = list(knn_results[1]['preds']['valid_y_pred'])+\\\n",
    "             list(knn_results[2]['preds']['valid_y_pred'])+\\\n",
    "             list(knn_results[3]['preds']['valid_y_pred'])"
   ]
  },
  {
   "cell_type": "code",
   "execution_count": 28,
   "metadata": {},
   "outputs": [
    {
     "data": {
      "image/png": "[encoded data removed]",
      "text/plain": [
       "<Figure size 432x288 with 2 Axes>"
      ]
     },
     "metadata": {
      "needs_background": "light"
     },
     "output_type": "display_data"
    },
    {
     "name": "stdout",
     "output_type": "stream",
     "text": [
      "Accuracy: 0.61\n"
     ]
    }
   ],
   "source": [
    "cm = plot_confusion_matrix(y1_valid,valid_pred,classes=[0,1],title='Confusion matrix')\n",
    "plt.show()\n",
    "accuracy = (cm[0,0] + cm[1,1]) / cm.sum() \n",
    "print('Accuracy: {}'.format(round(accuracy,2)))"
   ]
  },
  {
   "cell_type": "markdown",
   "metadata": {},
   "source": [
    "#### Confusion Matrix (Test)"
   ]
  },
  {
   "cell_type": "code",
   "execution_count": 25,
   "metadata": {},
   "outputs": [],
   "source": [
    "threshold = 0.5\n",
    "test_probs = knn_results[1]['preds']['test_y_prob']+\\\n",
    "             knn_results[2]['preds']['test_y_prob']+\\\n",
    "             knn_results[3]['preds']['test_y_prob']\n",
    "test_probs /= 3\n",
    "test_pred = (test_probs>=threshold).astype(int)"
   ]
  },
  {
   "cell_type": "code",
   "execution_count": 59,
   "metadata": {},
   "outputs": [
    {
     "data": {
      "image/png": "[encoded data removed]",
      "text/plain": [
       "<Figure size 432x288 with 2 Axes>"
      ]
     },
     "metadata": {
      "needs_background": "light"
     },
     "output_type": "display_data"
    },
    {
     "name": "stdout",
     "output_type": "stream",
     "text": [
      "Accuracy: 0.4\n"
     ]
    }
   ],
   "source": [
    "\n",
    "cm = plot_confusion_matrix(y1_test,test_pred,classes=[0,1],title='Confusion matrix')\n",
    "plt.show()\n",
    "accuracy = (cm[0,0] + cm[1,1]) / cm.sum() \n",
    "print('Accuracy: {}'.format(round(accuracy,2)))"
   ]
  },
  {
   "cell_type": "markdown",
   "metadata": {},
   "source": [
    "### Regression"
   ]
  },
  {
   "cell_type": "markdown",
   "metadata": {},
   "source": [
    "## MSA, MSE, RMSE"
   ]
  },
  {
   "cell_type": "code",
   "execution_count": 58,
   "metadata": {},
   "outputs": [
    {
     "name": "stdout",
     "output_type": "stream",
     "text": [
      "Starting for value of k = 2\n",
      "KNN: median absolute error  0.3546213835\n",
      "KNN: mean absolute error  0.48980557062280705\n",
      "KNN: RMSE 0.674506436082748\n",
      "\n",
      "Starting for value of k = 3\n",
      "KNN: median absolute error  0.4145985556666668\n",
      "KNN: mean absolute error  0.5787009043776108\n",
      "KNN: RMSE 0.7710800811622848\n",
      "\n",
      "Starting for value of k = 4\n",
      "KNN: median absolute error  0.4847553499999999\n",
      "KNN: mean absolute error  0.6294762109849625\n",
      "KNN: RMSE 0.8301586632456512\n",
      "\n",
      "Starting for value of k = 5\n",
      "KNN: median absolute error  0.47148334000000025\n",
      "KNN: mean absolute error  0.6393429907197995\n",
      "KNN: RMSE 0.852815329990368\n",
      "\n",
      "Starting for value of k = 6\n",
      "KNN: median absolute error  0.5066450235000001\n",
      "KNN: mean absolute error  0.6581025761537176\n",
      "KNN: RMSE 0.8743306715076686\n",
      "\n",
      "Starting for value of k = 7\n",
      "KNN: median absolute error  0.5485822734285714\n",
      "KNN: mean absolute error  0.6782721813537413\n",
      "KNN: RMSE 0.8901174430776804\n",
      "\n",
      "Starting for value of k = 8\n",
      "KNN: median absolute error  0.553605283375\n",
      "KNN: mean absolute error  0.6939881937550125\n",
      "KNN: RMSE 0.9097471432310675\n",
      "\n",
      "Starting for value of k = 9\n",
      "KNN: median absolute error  0.5810348009999999\n",
      "KNN: mean absolute error  0.713666151502367\n",
      "KNN: RMSE 0.9277576574024978\n",
      "\n",
      "Starting for value of k = 10\n",
      "KNN: median absolute error  0.5695395876999999\n",
      "KNN: mean absolute error  0.7224197438060151\n",
      "KNN: RMSE 0.9424178208836097\n",
      "\n",
      "Starting for value of k = 11\n",
      "KNN: median absolute error  0.5820167927272727\n",
      "KNN: mean absolute error  0.7257888316395534\n",
      "KNN: RMSE 0.9457428384591453\n",
      "\n",
      "Starting for value of k = 12\n",
      "KNN: median absolute error  0.6037898259166666\n",
      "KNN: mean absolute error  0.7374139363051379\n",
      "KNN: RMSE 0.9554319885567754\n",
      "\n",
      "Starting for value of k = 13\n",
      "KNN: median absolute error  0.6099818333846154\n",
      "KNN: mean absolute error  0.7424197453346829\n",
      "KNN: RMSE 0.9630546573652383\n",
      "\n",
      "Starting for value of k = 14\n",
      "KNN: median absolute error  0.5997820761428572\n",
      "KNN: mean absolute error  0.7464251297653062\n",
      "KNN: RMSE 0.9708338792930028\n",
      "\n",
      "Starting for value of k = 15\n",
      "KNN: median absolute error  0.6154364159333333\n",
      "KNN: mean absolute error  0.7483145029423559\n",
      "KNN: RMSE 0.9707569056131549\n",
      "\n",
      "Starting for value of k = 16\n",
      "KNN: median absolute error  0.6178224477500001\n",
      "KNN: mean absolute error  0.7466298596292292\n",
      "KNN: RMSE 0.9666710163295796\n",
      "\n",
      "Starting for value of k = 17\n",
      "KNN: median absolute error  0.6417443698235294\n",
      "KNN: mean absolute error  0.7543173942926433\n",
      "KNN: RMSE 0.9756320423684229\n",
      "\n",
      "Starting for value of k = 18\n",
      "KNN: median absolute error  0.6513568256111111\n",
      "KNN: mean absolute error  0.7603050614448621\n",
      "KNN: RMSE 0.9801816155656793\n",
      "\n",
      "Starting for value of k = 19\n",
      "KNN: median absolute error  0.663843926631579\n",
      "KNN: mean absolute error  0.7656964516371192\n",
      "KNN: RMSE 0.9821356100938502\n",
      "\n"
     ]
    }
   ],
   "source": [
    "for k in range(2, 20):\n",
    "    print(\"Starting for value of k = \" + str(k))\n",
    "    knn = KNeighborsRegressor(n_neighbors = k)\n",
    "    knn.fit(X_test, y2_test)\n",
    "    knn_medianAbsoluteError = metrics.median_absolute_error(y2_test, knn.predict(X_test))\n",
    "    print (\"KNN: median absolute error  \" + str(knn_medianAbsoluteError))\n",
    "    knn_meanAbsoluteError = metrics.mean_absolute_error(y2_test, knn.predict(X_test))\n",
    "    print (\"KNN: mean absolute error  \" + str(knn_meanAbsoluteError))\n",
    "    knn_RMSE = np.sqrt(metrics.mean_squared_error(y2_test, knn.predict(X_test)))\n",
    "    print (\"KNN: RMSE \" + str(knn_RMSE))\n",
    "    print(\"\")"
   ]
  }
 ],
 "metadata": {
  "kernelspec": {
   "display_name": "Python 3",
   "language": "python",
   "name": "python3"
  },
  "language_info": {
   "codemirror_mode": {
    "name": "ipython",
    "version": 3
   },
   "file_extension": ".py",
   "mimetype": "text/x-python",
   "name": "python",
   "nbconvert_exporter": "python",
   "pygments_lexer": "ipython3",
   "version": "3.8.3"
  }
 },
 "nbformat": 4,
 "nbformat_minor": 4
}
