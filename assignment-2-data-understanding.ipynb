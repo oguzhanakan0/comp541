{
 "cells": [
  {
   "cell_type": "markdown",
   "metadata": {},
   "source": [
    "### 1. Load Libraries"
   ]
  },
  {
   "cell_type": "code",
   "execution_count": 2,
   "metadata": {},
   "outputs": [],
   "source": [
    "import pandas as pd\n",
    "import seaborn as sns"
   ]
  },
  {
   "cell_type": "markdown",
   "metadata": {},
   "source": [
    "### 2. Create Data Types for each Dataset"
   ]
  },
  {
   "cell_type": "markdown",
   "metadata": {},
   "source": [
    "#### 2.1. Movies Industry - \"movies.csv\""
   ]
  },
  {
   "cell_type": "code",
   "execution_count": 306,
   "metadata": {},
   "outputs": [],
   "source": [
    "movies = pd.read_csv('./data/movies.csv')\n",
    "movies = movies[(movies.gross!=0)&(movies.budget!=0)]\n",
    "movies['isprofit'] = movies.apply(lambda x: 1 if x['gross']>x['budget'] else 0, axis = 1)\n",
    "movies['profitability_ratio'] = movies.apply(lambda x: (x['gross']-x['budget'])/x['budget'], axis = 1)\n",
    "movies['profitability_ratio_bucket'] = movies.profitability_ratio.apply(lambda x: int(round(x,1)*100))"
   ]
  },
  {
   "cell_type": "code",
   "execution_count": 65,
   "metadata": {},
   "outputs": [
    {
     "data": {
      "text/plain": [
       "<matplotlib.axes._subplots.AxesSubplot at 0x28521faaf98>"
      ]
     },
     "execution_count": 65,
     "metadata": {},
     "output_type": "execute_result"
    },
    {
     "data": {
      "image/png": "[encoded data removed]",
      "text/plain": [
       "<Figure size 432x288 with 1 Axes>"
      ]
     },
     "metadata": {
      "needs_background": "light"
     },
     "output_type": "display_data"
    }
   ],
   "source": [
    "sns.distplot([e for e in movies.profitability_ratio_bucket if e <= 1000])"
   ]
  },
  {
   "cell_type": "code",
   "execution_count": null,
   "metadata": {},
   "outputs": [],
   "source": [
    "movies_dtypes = pd.DataFrame(movies.dtypes, columns=['data_format'])\n",
    "movies_dtypes['is_descriptive'] = [0,0,1,1,1,0,1,0,1,1,0,0,0,1,1,0,0,0]\n",
    "movies_dtypes['is_target'] = [0,0,0,0,0,0,0,0,0,0,0,0,0,0,0,1,1,0]\n",
    "movies_dtypes['data_attribute'] = [\n",
    "    \"continuous\",\n",
    "    \"categorical -> nominal\",\n",
    "    \"categorical -> nominal\",\n",
    "    \"categorical -> nominal\",\n",
    "    \"categorical -> nominal\",\n",
    "    \"continuous\",\n",
    "    \"categorical -> nominal\",\n",
    "    \"categorical -> nominal\",\n",
    "    \"continuous -> date\",\n",
    "    \"continuous\",\n",
    "    \"continuous\",\n",
    "    \"categorical -> nominal\",\n",
    "    \"discrete\",\n",
    "    \"categorical -> nominal\",\n",
    "    \"categorical -> ordinal\",\n",
    "    \"categorical -> nominal -> binary\",\n",
    "    \"continuous -> ratio-scaled\",\n",
    "    \"continuous -> ratio-scaled\",\n",
    "]"
   ]
  },
  {
   "cell_type": "code",
   "execution_count": 294,
   "metadata": {},
   "outputs": [
    {
     "data": {
      "text/html": [
       "<div>\n",
       "<style scoped>\n",
       "    .dataframe tbody tr th:only-of-type {\n",
       "        vertical-align: middle;\n",
       "    }\n",
       "\n",
       "    .dataframe tbody tr th {\n",
       "        vertical-align: top;\n",
       "    }\n",
       "\n",
       "    .dataframe thead th {\n",
       "        text-align: right;\n",
       "    }\n",
       "</style>\n",
       "<table border=\"1\" class=\"dataframe\">\n",
       "  <thead>\n",
       "    <tr style=\"text-align: right;\">\n",
       "      <th></th>\n",
       "      <th>data_format</th>\n",
       "      <th>is_descriptive</th>\n",
       "      <th>is_target</th>\n",
       "      <th>data_attribute</th>\n",
       "      <th>example</th>\n",
       "    </tr>\n",
       "  </thead>\n",
       "  <tbody>\n",
       "    <tr>\n",
       "      <th>budget</th>\n",
       "      <td>int64</td>\n",
       "      <td>0</td>\n",
       "      <td>0</td>\n",
       "      <td>continuous</td>\n",
       "      <td>8000000</td>\n",
       "    </tr>\n",
       "    <tr>\n",
       "      <th>company</th>\n",
       "      <td>object</td>\n",
       "      <td>0</td>\n",
       "      <td>0</td>\n",
       "      <td>categorical -&gt; nominal</td>\n",
       "      <td>Columbia Pictures Corporation</td>\n",
       "    </tr>\n",
       "    <tr>\n",
       "      <th>country</th>\n",
       "      <td>object</td>\n",
       "      <td>1</td>\n",
       "      <td>0</td>\n",
       "      <td>categorical -&gt; nominal</td>\n",
       "      <td>USA</td>\n",
       "    </tr>\n",
       "    <tr>\n",
       "      <th>director</th>\n",
       "      <td>object</td>\n",
       "      <td>1</td>\n",
       "      <td>0</td>\n",
       "      <td>categorical -&gt; nominal</td>\n",
       "      <td>Rob Reiner</td>\n",
       "    </tr>\n",
       "    <tr>\n",
       "      <th>genre</th>\n",
       "      <td>object</td>\n",
       "      <td>1</td>\n",
       "      <td>0</td>\n",
       "      <td>categorical -&gt; nominal</td>\n",
       "      <td>Adventure</td>\n",
       "    </tr>\n",
       "    <tr>\n",
       "      <th>gross</th>\n",
       "      <td>int64</td>\n",
       "      <td>0</td>\n",
       "      <td>0</td>\n",
       "      <td>continuous</td>\n",
       "      <td>52287414</td>\n",
       "    </tr>\n",
       "    <tr>\n",
       "      <th>name</th>\n",
       "      <td>object</td>\n",
       "      <td>1</td>\n",
       "      <td>0</td>\n",
       "      <td>categorical -&gt; nominal</td>\n",
       "      <td>Stand by Me</td>\n",
       "    </tr>\n",
       "    <tr>\n",
       "      <th>rating</th>\n",
       "      <td>object</td>\n",
       "      <td>0</td>\n",
       "      <td>0</td>\n",
       "      <td>categorical -&gt; nominal</td>\n",
       "      <td>R</td>\n",
       "    </tr>\n",
       "    <tr>\n",
       "      <th>released</th>\n",
       "      <td>object</td>\n",
       "      <td>1</td>\n",
       "      <td>0</td>\n",
       "      <td>continuous -&gt; date</td>\n",
       "      <td>1986-08-22 00:00:00</td>\n",
       "    </tr>\n",
       "    <tr>\n",
       "      <th>runtime</th>\n",
       "      <td>int64</td>\n",
       "      <td>1</td>\n",
       "      <td>0</td>\n",
       "      <td>continuous</td>\n",
       "      <td>89</td>\n",
       "    </tr>\n",
       "    <tr>\n",
       "      <th>score</th>\n",
       "      <td>float64</td>\n",
       "      <td>0</td>\n",
       "      <td>0</td>\n",
       "      <td>continuous</td>\n",
       "      <td>8.1</td>\n",
       "    </tr>\n",
       "    <tr>\n",
       "      <th>star</th>\n",
       "      <td>object</td>\n",
       "      <td>0</td>\n",
       "      <td>0</td>\n",
       "      <td>categorical -&gt; nominal</td>\n",
       "      <td>Wil Wheaton</td>\n",
       "    </tr>\n",
       "    <tr>\n",
       "      <th>votes</th>\n",
       "      <td>int64</td>\n",
       "      <td>0</td>\n",
       "      <td>0</td>\n",
       "      <td>discrete</td>\n",
       "      <td>299174</td>\n",
       "    </tr>\n",
       "    <tr>\n",
       "      <th>writer</th>\n",
       "      <td>object</td>\n",
       "      <td>1</td>\n",
       "      <td>0</td>\n",
       "      <td>categorical -&gt; nominal</td>\n",
       "      <td>Stephen King</td>\n",
       "    </tr>\n",
       "    <tr>\n",
       "      <th>year</th>\n",
       "      <td>int64</td>\n",
       "      <td>1</td>\n",
       "      <td>0</td>\n",
       "      <td>categorical -&gt; ordinal</td>\n",
       "      <td>1986</td>\n",
       "    </tr>\n",
       "    <tr>\n",
       "      <th>isprofit</th>\n",
       "      <td>int64</td>\n",
       "      <td>0</td>\n",
       "      <td>1</td>\n",
       "      <td>categorical -&gt; nominal -&gt; binary</td>\n",
       "      <td>1</td>\n",
       "    </tr>\n",
       "    <tr>\n",
       "      <th>profitability_ratio</th>\n",
       "      <td>float64</td>\n",
       "      <td>0</td>\n",
       "      <td>1</td>\n",
       "      <td>continuous -&gt; ratio-scaled</td>\n",
       "      <td>5.53593</td>\n",
       "    </tr>\n",
       "    <tr>\n",
       "      <th>profitability_ratio_bucket</th>\n",
       "      <td>int64</td>\n",
       "      <td>0</td>\n",
       "      <td>0</td>\n",
       "      <td>continuous -&gt; ratio-scaled</td>\n",
       "      <td>550</td>\n",
       "    </tr>\n",
       "  </tbody>\n",
       "</table>\n",
       "</div>"
      ],
      "text/plain": [
       "                           data_format  is_descriptive  is_target  \\\n",
       "budget                           int64               0          0   \n",
       "company                         object               0          0   \n",
       "country                         object               1          0   \n",
       "director                        object               1          0   \n",
       "genre                           object               1          0   \n",
       "gross                            int64               0          0   \n",
       "name                            object               1          0   \n",
       "rating                          object               0          0   \n",
       "released                        object               1          0   \n",
       "runtime                          int64               1          0   \n",
       "score                          float64               0          0   \n",
       "star                            object               0          0   \n",
       "votes                            int64               0          0   \n",
       "writer                          object               1          0   \n",
       "year                             int64               1          0   \n",
       "isprofit                         int64               0          1   \n",
       "profitability_ratio            float64               0          1   \n",
       "profitability_ratio_bucket       int64               0          0   \n",
       "\n",
       "                                              data_attribute  \\\n",
       "budget                                            continuous   \n",
       "company                               categorical -> nominal   \n",
       "country                               categorical -> nominal   \n",
       "director                              categorical -> nominal   \n",
       "genre                                 categorical -> nominal   \n",
       "gross                                             continuous   \n",
       "name                                  categorical -> nominal   \n",
       "rating                                categorical -> nominal   \n",
       "released                                  continuous -> date   \n",
       "runtime                                           continuous   \n",
       "score                                             continuous   \n",
       "star                                  categorical -> nominal   \n",
       "votes                                               discrete   \n",
       "writer                                categorical -> nominal   \n",
       "year                                  categorical -> ordinal   \n",
       "isprofit                    categorical -> nominal -> binary   \n",
       "profitability_ratio               continuous -> ratio-scaled   \n",
       "profitability_ratio_bucket        continuous -> ratio-scaled   \n",
       "\n",
       "                                                  example  \n",
       "budget                                            8000000  \n",
       "company                     Columbia Pictures Corporation  \n",
       "country                                               USA  \n",
       "director                                       Rob Reiner  \n",
       "genre                                           Adventure  \n",
       "gross                                            52287414  \n",
       "name                                          Stand by Me  \n",
       "rating                                                  R  \n",
       "released                              1986-08-22 00:00:00  \n",
       "runtime                                                89  \n",
       "score                                                 8.1  \n",
       "star                                          Wil Wheaton  \n",
       "votes                                              299174  \n",
       "writer                                       Stephen King  \n",
       "year                                                 1986  \n",
       "isprofit                                                1  \n",
       "profitability_ratio                               5.53593  \n",
       "profitability_ratio_bucket                            550  "
      ]
     },
     "execution_count": 294,
     "metadata": {},
     "output_type": "execute_result"
    }
   ],
   "source": [
    "movies_dtypes"
   ]
  },
  {
   "cell_type": "markdown",
   "metadata": {},
   "source": [
    "#### 2.2. The Movies Database - \"metadata.csv\""
   ]
  },
  {
   "cell_type": "code",
   "execution_count": 306,
   "metadata": {},
   "outputs": [],
   "source": [
    "metadata = pd.read_csv('./data/metadata.csv')"
   ]
  },
  {
   "cell_type": "code",
   "execution_count": 188,
   "metadata": {},
   "outputs": [],
   "source": [
    "def convert_spoken_languages(value):\n",
    "    try: return ', '.join([e['iso_639_1'] for e in json.loads(value.replace(\"'\",'\"').replace(\"/\",\"\").replace(\"\\\\\",\"\").replace(\"None\", '\"None\"'))])\n",
    "    except: return \"NA\""
   ]
  },
  {
   "cell_type": "code",
   "execution_count": 268,
   "metadata": {},
   "outputs": [],
   "source": [
    "def convert_production_countries(row):\n",
    "    try: return ', '.join([e['iso_3166_1'] for e in json.loads(row.production_countries.replace(\"'\",'\"').replace(\"/\",\"\").replace(\"\\\\\",\"\").replace(\"None\", '\"None\"').replace(\"nan\", '\"None\"'))])\n",
    "    except: return \"NA\""
   ]
  },
  {
   "cell_type": "code",
   "execution_count": 275,
   "metadata": {},
   "outputs": [],
   "source": [
    "metadata['genres_edited'] = metadata.genres.apply(lambda x: ', '.join([e['name'] for e in json.loads(x.replace(\"'\",'\"').replace(\"/\",\"\").replace(\"None\", '\"None\"'))]))\n",
    "metadata['spoken_languages_edited'] = metadata.spoken_languages.apply(convert_spoken_languages)\n",
    "metadata['production_countries_edited'] = metadata.apply(convert_production_countries,axis=1)\n",
    "metadata.production_countries_edited.replace('','NA',inplace=True)"
   ]
  },
  {
   "cell_type": "code",
   "execution_count": 303,
   "metadata": {},
   "outputs": [],
   "source": [
    "metadata_dtypes = pd.DataFrame(metadata.dtypes, columns=['data_format'])\n",
    "metadata_dtypes['is_descriptive'] = [1,0,0,1,1,0,1,1,1,1,1]\n",
    "metadata_dtypes['is_target'] =        [0,0,0,0,0,0,0,0,0,0,0]\n",
    "metadata_dtypes['data_attribute'] = [\n",
    "    \"categorical -> nominal -> binary\",\n",
    "    \"categorical -> nominal\",\n",
    "    \"categorical -> nominal\",\n",
    "    \"categorical -> nominal\",\n",
    "    \"categorical -> nominal\",\n",
    "    \"continuous\",\n",
    "    \"categorical -> nominal\",\n",
    "    \"categorical -> nominal\",\n",
    "    \"categorical -> nominal\",\n",
    "    \"categorical -> nominal\",\n",
    "    \"categorical -> nominal\",\n",
    "]"
   ]
  },
  {
   "cell_type": "code",
   "execution_count": 304,
   "metadata": {},
   "outputs": [
    {
     "data": {
      "text/html": [
       "<div>\n",
       "<style scoped>\n",
       "    .dataframe tbody tr th:only-of-type {\n",
       "        vertical-align: middle;\n",
       "    }\n",
       "\n",
       "    .dataframe tbody tr th {\n",
       "        vertical-align: top;\n",
       "    }\n",
       "\n",
       "    .dataframe thead th {\n",
       "        text-align: right;\n",
       "    }\n",
       "</style>\n",
       "<table border=\"1\" class=\"dataframe\">\n",
       "  <thead>\n",
       "    <tr style=\"text-align: right;\">\n",
       "      <th></th>\n",
       "      <th>data_format</th>\n",
       "      <th>is_descriptive</th>\n",
       "      <th>is_target</th>\n",
       "      <th>data_attribute</th>\n",
       "    </tr>\n",
       "  </thead>\n",
       "  <tbody>\n",
       "    <tr>\n",
       "      <th>adult</th>\n",
       "      <td>object</td>\n",
       "      <td>1</td>\n",
       "      <td>0</td>\n",
       "      <td>categorical -&gt; nominal -&gt; binary</td>\n",
       "    </tr>\n",
       "    <tr>\n",
       "      <th>id</th>\n",
       "      <td>object</td>\n",
       "      <td>0</td>\n",
       "      <td>0</td>\n",
       "      <td>categorical -&gt; nominal</td>\n",
       "    </tr>\n",
       "    <tr>\n",
       "      <th>imdb_id</th>\n",
       "      <td>object</td>\n",
       "      <td>0</td>\n",
       "      <td>0</td>\n",
       "      <td>categorical -&gt; nominal</td>\n",
       "    </tr>\n",
       "    <tr>\n",
       "      <th>original_title</th>\n",
       "      <td>object</td>\n",
       "      <td>1</td>\n",
       "      <td>0</td>\n",
       "      <td>categorical -&gt; nominal</td>\n",
       "    </tr>\n",
       "    <tr>\n",
       "      <th>overview</th>\n",
       "      <td>object</td>\n",
       "      <td>1</td>\n",
       "      <td>0</td>\n",
       "      <td>categorical -&gt; nominal</td>\n",
       "    </tr>\n",
       "    <tr>\n",
       "      <th>popularity</th>\n",
       "      <td>float64</td>\n",
       "      <td>0</td>\n",
       "      <td>0</td>\n",
       "      <td>continuous</td>\n",
       "    </tr>\n",
       "    <tr>\n",
       "      <th>tagline</th>\n",
       "      <td>object</td>\n",
       "      <td>1</td>\n",
       "      <td>0</td>\n",
       "      <td>categorical -&gt; nominal</td>\n",
       "    </tr>\n",
       "    <tr>\n",
       "      <th>title</th>\n",
       "      <td>object</td>\n",
       "      <td>1</td>\n",
       "      <td>0</td>\n",
       "      <td>categorical -&gt; nominal</td>\n",
       "    </tr>\n",
       "    <tr>\n",
       "      <th>genres_edited</th>\n",
       "      <td>object</td>\n",
       "      <td>1</td>\n",
       "      <td>0</td>\n",
       "      <td>categorical -&gt; nominal</td>\n",
       "    </tr>\n",
       "    <tr>\n",
       "      <th>spoken_languages_edited</th>\n",
       "      <td>object</td>\n",
       "      <td>1</td>\n",
       "      <td>0</td>\n",
       "      <td>categorical -&gt; nominal</td>\n",
       "    </tr>\n",
       "    <tr>\n",
       "      <th>production_countries_edited</th>\n",
       "      <td>object</td>\n",
       "      <td>1</td>\n",
       "      <td>0</td>\n",
       "      <td>categorical -&gt; nominal</td>\n",
       "    </tr>\n",
       "  </tbody>\n",
       "</table>\n",
       "</div>"
      ],
      "text/plain": [
       "                            data_format  is_descriptive  is_target  \\\n",
       "adult                            object               1          0   \n",
       "id                               object               0          0   \n",
       "imdb_id                          object               0          0   \n",
       "original_title                   object               1          0   \n",
       "overview                         object               1          0   \n",
       "popularity                      float64               0          0   \n",
       "tagline                          object               1          0   \n",
       "title                            object               1          0   \n",
       "genres_edited                    object               1          0   \n",
       "spoken_languages_edited          object               1          0   \n",
       "production_countries_edited      object               1          0   \n",
       "\n",
       "                                               data_attribute  \n",
       "adult                        categorical -> nominal -> binary  \n",
       "id                                     categorical -> nominal  \n",
       "imdb_id                                categorical -> nominal  \n",
       "original_title                         categorical -> nominal  \n",
       "overview                               categorical -> nominal  \n",
       "popularity                                         continuous  \n",
       "tagline                                categorical -> nominal  \n",
       "title                                  categorical -> nominal  \n",
       "genres_edited                          categorical -> nominal  \n",
       "spoken_languages_edited                categorical -> nominal  \n",
       "production_countries_edited            categorical -> nominal  "
      ]
     },
     "execution_count": 304,
     "metadata": {},
     "output_type": "execute_result"
    }
   ],
   "source": [
    "metadata_dtypes"
   ]
  },
  {
   "cell_type": "markdown",
   "metadata": {},
   "source": [
    "#### 2.2. The Movies Database - \"keywords.csv\""
   ]
  },
  {
   "cell_type": "code",
   "execution_count": 306,
   "metadata": {},
   "outputs": [],
   "source": [
    "keywords = pd.read_csv('./data/keywords.csv')"
   ]
  },
  {
   "cell_type": "code",
   "execution_count": 328,
   "metadata": {},
   "outputs": [],
   "source": [
    "def convert_keywords(row):\n",
    "    return ', '.join([e['name'] for e in eval(row.keywords)])"
   ]
  },
  {
   "cell_type": "code",
   "execution_count": 329,
   "metadata": {},
   "outputs": [],
   "source": [
    "keywords['keywords_edited'] = keywords.apply(convert_keywords,axis=1)"
   ]
  },
  {
   "cell_type": "code",
   "execution_count": 335,
   "metadata": {},
   "outputs": [],
   "source": [
    "keywords_dtypes = pd.DataFrame(keywords.dtypes, columns=['data_format'])\n",
    "keywords_dtypes['is_descriptive'] = [0,1]\n",
    "keywords_dtypes['is_target'] = [0,0]\n",
    "keywords_dtypes['data_attribute'] = [\n",
    "    \"categorical -> nominal\",\n",
    "    \"categorical -> nominal\",\n",
    "]"
   ]
  },
  {
   "cell_type": "code",
   "execution_count": 336,
   "metadata": {},
   "outputs": [
    {
     "data": {
      "text/html": [
       "<div>\n",
       "<style scoped>\n",
       "    .dataframe tbody tr th:only-of-type {\n",
       "        vertical-align: middle;\n",
       "    }\n",
       "\n",
       "    .dataframe tbody tr th {\n",
       "        vertical-align: top;\n",
       "    }\n",
       "\n",
       "    .dataframe thead th {\n",
       "        text-align: right;\n",
       "    }\n",
       "</style>\n",
       "<table border=\"1\" class=\"dataframe\">\n",
       "  <thead>\n",
       "    <tr style=\"text-align: right;\">\n",
       "      <th></th>\n",
       "      <th>data_format</th>\n",
       "      <th>is_descriptive</th>\n",
       "      <th>is_target</th>\n",
       "      <th>data_attribute</th>\n",
       "    </tr>\n",
       "  </thead>\n",
       "  <tbody>\n",
       "    <tr>\n",
       "      <th>id</th>\n",
       "      <td>int64</td>\n",
       "      <td>0</td>\n",
       "      <td>0</td>\n",
       "      <td>categorical -&gt; nominal</td>\n",
       "    </tr>\n",
       "    <tr>\n",
       "      <th>keywords_edited</th>\n",
       "      <td>object</td>\n",
       "      <td>1</td>\n",
       "      <td>0</td>\n",
       "      <td>categorical -&gt; nominal</td>\n",
       "    </tr>\n",
       "  </tbody>\n",
       "</table>\n",
       "</div>"
      ],
      "text/plain": [
       "                data_format  is_descriptive  is_target          data_attribute\n",
       "id                    int64               0          0  categorical -> nominal\n",
       "keywords_edited      object               1          0  categorical -> nominal"
      ]
     },
     "execution_count": 336,
     "metadata": {},
     "output_type": "execute_result"
    }
   ],
   "source": [
    "keywords_dtypes"
   ]
  },
  {
   "cell_type": "markdown",
   "metadata": {},
   "source": [
    "### 3. Dataset Summaries"
   ]
  },
  {
   "cell_type": "markdown",
   "metadata": {},
   "source": [
    "##### The Movies Database have two tables: \"metadata\" and \"keywords\". The first table includes basic information about the movie while the keywords table consists of related keywords for each movie. They can be linked together using \"id\" column.\n",
    "\n",
    "##### Movie Industry dataset have one table: \"movies\". This table includes all the relevant information about the movies, including our target, profitability."
   ]
  },
  {
   "cell_type": "markdown",
   "metadata": {},
   "source": [
    "Number of records and fields in each table is:"
   ]
  },
  {
   "cell_type": "code",
   "execution_count": 340,
   "metadata": {},
   "outputs": [
    {
     "name": "stdout",
     "output_type": "stream",
     "text": [
      "Metadata; records: 45466, fields: 11\n",
      "Keywords; records: 46419, fields: 2\n",
      "Movies; records: 4638, fields: 18\n"
     ]
    }
   ],
   "source": [
    "print(\"Metadata; records: \"+str(metadata.shape[0])+\", fields: \"+str(metadata.shape[1]))\n",
    "print(\"Keywords; records: \"+str(keywords.shape[0])+\", fields: \"+str(keywords.shape[1]))\n",
    "print(\"Movies; records: \"+str(movies.shape[0])+\", fields: \"+str(movies.shape[1]))"
   ]
  }
 ],
 "metadata": {
  "kernelspec": {
   "display_name": "Python 3",
   "language": "python",
   "name": "python3"
  },
  "language_info": {
   "codemirror_mode": {
    "name": "ipython",
    "version": 3
   },
   "file_extension": ".py",
   "mimetype": "text/x-python",
   "name": "python",
   "nbconvert_exporter": "python",
   "pygments_lexer": "ipython3",
   "version": "3.8.5"
  }
 },
 "nbformat": 4,
 "nbformat_minor": 2
}
