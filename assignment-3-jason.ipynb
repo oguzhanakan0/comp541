{
 "cells": [
  {
   "source": [
    "# 1. Data Exploration"
   ],
   "cell_type": "markdown",
   "metadata": {}
  },
  {
   "cell_type": "markdown",
   "metadata": {},
   "source": [
    "## 1.1. Importing Libraries & Reading Data"
   ]
  },
  {
   "cell_type": "code",
   "execution_count": 1,
   "metadata": {
    "scrolled": true
   },
   "outputs": [],
   "source": [
    "import pandas as pd\n",
    "import itertools as it\n",
    "import scipy.stats as sp\n",
    "\n",
    "from scipy.stats import chi2_contingency\n",
    "from scipy.stats import chi2\n",
    "\n",
    "import numpy as np\n",
    "import matplotlib.pyplot as plt"
   ]
  },
  {
   "cell_type": "code",
   "execution_count": 5,
   "metadata": {},
   "outputs": [],
   "source": [
    "df = pd.read_csv('data/raw_training_data.csv')"
   ]
  },
  {
   "cell_type": "code",
   "execution_count": 3,
   "metadata": {
    "scrolled": true
   },
   "outputs": [],
   "source": [
    "columns = [\"genre\", \"company\", \"country\", \"director\", \"rating\", \"released\", \"isprofit\"]"
   ]
  },
  {
   "source": [
    "Our data has the following columns that we can use to conduct the chi-square test on:\n",
    "* Genre\n",
    "* Company\n",
    "* Country\n",
    "* Director\n",
    "* Rating\n",
    "* Released\n",
    "* Isprofit    \n",
    "<p>\n",
    "> We want to find out whether two categorical attributes are independent or dependent by using the chi-square test. We do this by getting all combinations of length two from the list above and conducting the chi-square test on each of the categorical pairs.\n",
    "<br><br>\n",
    "> After writing some general formulas, we will conduct the test on all 21 combinations.\n",
    "</p>"
   ],
   "cell_type": "markdown",
   "metadata": {}
  },
  {
   "source": [
    "## 1.2 Chi-square Test"
   ],
   "cell_type": "markdown",
   "metadata": {}
  },
  {
   "cell_type": "code",
   "execution_count": 7,
   "metadata": {
    "scrolled": false
   },
   "outputs": [
    {
     "output_type": "display_data",
     "data": {
      "text/plain": "company    Castle Rock Entertainment  Columbia Pictures  \\\ngenre                                                     \n0                                  0                  0   \nAction                             6                 28   \nAdventure                          2                  5   \nAnimation                          1                 10   \nBiography                          0                  6   \nComedy                            18                 19   \nCrime                              4                  6   \nDrama                              6                  9   \nFamily                             0                  0   \nFantasy                            0                  0   \nHorror                             0                  3   \nMystery                            0                  2   \nRomance                            0                  0   \nSci-Fi                             0                  0   \nThriller                           0                  0   \nWestern                            0                  0   \n\ncompany    Columbia Pictures Corporation  Dimension Films  DreamWorks  \\\ngenre                                                                   \n0                                      0                0           0   \nAction                                36                6          10   \nAdventure                              7                1           4   \nAnimation                              1                0           3   \nBiography                              8                0           3   \nComedy                                30               12          21   \nCrime                                  7                2           2   \nDrama                                 22                1          15   \nFamily                                 0                0           0   \nFantasy                                0                0           0   \nHorror                                 3               12           2   \nMystery                                3                0           1   \nRomance                                0                0           0   \nSci-Fi                                 0                0           0   \nThriller                               0                0           0   \nWestern                                0                0           0   \n\ncompany    Fox 2000 Pictures  Fox Searchlight Pictures  Hollywood Pictures  \\\ngenre                                                                        \n0                          0                         0                   0   \nAction                     3                         1                   7   \nAdventure                  7                         3                   2   \nAnimation                  4                         0                   0   \nBiography                  3                         6                   3   \nComedy                    18                        16                  12   \nCrime                      1                         1                   2   \nDrama                     10                         7                   4   \nFamily                     0                         0                   0   \nFantasy                    0                         0                   0   \nHorror                     0                         0                   1   \nMystery                    0                         0                   0   \nRomance                    0                         1                   0   \nSci-Fi                     0                         0                   0   \nThriller                   0                         0                   0   \nWestern                    0                         0                   0   \n\ncompany    Metro-Goldwyn-Mayer (MGM)  Miramax  ...  Other  Paramount Pictures  \\\ngenre                                          ...                              \n0                                  0        0  ...      9                   0   \nAction                            11        3  ...    348                  57   \nAdventure                          3        2  ...     98                  10   \nAnimation                          0        0  ...     98                   9   \nBiography                          1        1  ...    127                   1   \nComedy                            26       21  ...    556                  54   \nCrime                              4        8  ...    156                  15   \nDrama                             13       10  ...    358                  20   \nFamily                             0        0  ...      2                   0   \nFantasy                            0        0  ...      8                   4   \nHorror                             2        0  ...     92                   5   \nMystery                            0        0  ...     10                   2   \nRomance                            0        0  ...      2                   0   \nSci-Fi                             0        0  ...      6                   0   \nThriller                           0        0  ...      6                   0   \nWestern                            0        0  ...      1                   0   \n\ncompany    Screen Gems  Summit Entertainment  Touchstone Pictures  \\\ngenre                                                               \n0                    0                     0                    0   \nAction               8                    11                   16   \nAdventure            1                     6                    5   \nAnimation            0                     0                    3   \nBiography            0                     0                    6   \nComedy               8                     5                   28   \nCrime                4                     1                    2   \nDrama                7                     6                   16   \nFamily               0                     0                    0   \nFantasy              0                     0                    0   \nHorror               4                     1                    0   \nMystery              0                     1                    0   \nRomance              0                     0                    0   \nSci-Fi               0                     0                    0   \nThriller             0                     0                    0   \nWestern              0                     0                    0   \n\ncompany    TriStar Pictures  Twentieth Century Fox Film Corporation  \\\ngenre                                                                 \n0                         0                                       0   \nAction                    8                                      50   \nAdventure                 0                                      15   \nAnimation                 0                                       7   \nBiography                 2                                       1   \nComedy                   21                                      37   \nCrime                     5                                       3   \nDrama                     3                                      12   \nFamily                    0                                       0   \nFantasy                   2                                       0   \nHorror                    0                                       2   \nMystery                   0                                       0   \nRomance                   0                                       0   \nSci-Fi                    0                                       1   \nThriller                  0                                       0   \nWestern                   0                                       0   \n\ncompany    Universal Pictures  Walt Disney Pictures  Warner Bros.  \ngenre                                                              \n0                           0                     0             0  \nAction                     58                    16            79  \nAdventure                  11                    16            15  \nAnimation                   5                    14            12  \nBiography                  17                     3             4  \nComedy                     76                    19            42  \nCrime                      11                     0            17  \nDrama                      20                     1            36  \nFamily                      0                     0             0  \nFantasy                     1                     0             0  \nHorror                      5                     0             5  \nMystery                     3                     0             1  \nRomance                     1                     0             0  \nSci-Fi                      0                     0             1  \nThriller                    0                     0             0  \nWestern                     0                     0             0  \n\n[16 rows x 21 columns]",
      "text/html": "<div>\n<style scoped>\n    .dataframe tbody tr th:only-of-type {\n        vertical-align: middle;\n    }\n\n    .dataframe tbody tr th {\n        vertical-align: top;\n    }\n\n    .dataframe thead th {\n        text-align: right;\n    }\n</style>\n<table border=\"1\" class=\"dataframe\">\n  <thead>\n    <tr style=\"text-align: right;\">\n      <th>company</th>\n      <th>Castle Rock Entertainment</th>\n      <th>Columbia Pictures</th>\n      <th>Columbia Pictures Corporation</th>\n      <th>Dimension Films</th>\n      <th>DreamWorks</th>\n      <th>Fox 2000 Pictures</th>\n      <th>Fox Searchlight Pictures</th>\n      <th>Hollywood Pictures</th>\n      <th>Metro-Goldwyn-Mayer (MGM)</th>\n      <th>Miramax</th>\n      <th>...</th>\n      <th>Other</th>\n      <th>Paramount Pictures</th>\n      <th>Screen Gems</th>\n      <th>Summit Entertainment</th>\n      <th>Touchstone Pictures</th>\n      <th>TriStar Pictures</th>\n      <th>Twentieth Century Fox Film Corporation</th>\n      <th>Universal Pictures</th>\n      <th>Walt Disney Pictures</th>\n      <th>Warner Bros.</th>\n    </tr>\n    <tr>\n      <th>genre</th>\n      <th></th>\n      <th></th>\n      <th></th>\n      <th></th>\n      <th></th>\n      <th></th>\n      <th></th>\n      <th></th>\n      <th></th>\n      <th></th>\n      <th></th>\n      <th></th>\n      <th></th>\n      <th></th>\n      <th></th>\n      <th></th>\n      <th></th>\n      <th></th>\n      <th></th>\n      <th></th>\n      <th></th>\n    </tr>\n  </thead>\n  <tbody>\n    <tr>\n      <th>0</th>\n      <td>0</td>\n      <td>0</td>\n      <td>0</td>\n      <td>0</td>\n      <td>0</td>\n      <td>0</td>\n      <td>0</td>\n      <td>0</td>\n      <td>0</td>\n      <td>0</td>\n      <td>...</td>\n      <td>9</td>\n      <td>0</td>\n      <td>0</td>\n      <td>0</td>\n      <td>0</td>\n      <td>0</td>\n      <td>0</td>\n      <td>0</td>\n      <td>0</td>\n      <td>0</td>\n    </tr>\n    <tr>\n      <th>Action</th>\n      <td>6</td>\n      <td>28</td>\n      <td>36</td>\n      <td>6</td>\n      <td>10</td>\n      <td>3</td>\n      <td>1</td>\n      <td>7</td>\n      <td>11</td>\n      <td>3</td>\n      <td>...</td>\n      <td>348</td>\n      <td>57</td>\n      <td>8</td>\n      <td>11</td>\n      <td>16</td>\n      <td>8</td>\n      <td>50</td>\n      <td>58</td>\n      <td>16</td>\n      <td>79</td>\n    </tr>\n    <tr>\n      <th>Adventure</th>\n      <td>2</td>\n      <td>5</td>\n      <td>7</td>\n      <td>1</td>\n      <td>4</td>\n      <td>7</td>\n      <td>3</td>\n      <td>2</td>\n      <td>3</td>\n      <td>2</td>\n      <td>...</td>\n      <td>98</td>\n      <td>10</td>\n      <td>1</td>\n      <td>6</td>\n      <td>5</td>\n      <td>0</td>\n      <td>15</td>\n      <td>11</td>\n      <td>16</td>\n      <td>15</td>\n    </tr>\n    <tr>\n      <th>Animation</th>\n      <td>1</td>\n      <td>10</td>\n      <td>1</td>\n      <td>0</td>\n      <td>3</td>\n      <td>4</td>\n      <td>0</td>\n      <td>0</td>\n      <td>0</td>\n      <td>0</td>\n      <td>...</td>\n      <td>98</td>\n      <td>9</td>\n      <td>0</td>\n      <td>0</td>\n      <td>3</td>\n      <td>0</td>\n      <td>7</td>\n      <td>5</td>\n      <td>14</td>\n      <td>12</td>\n    </tr>\n    <tr>\n      <th>Biography</th>\n      <td>0</td>\n      <td>6</td>\n      <td>8</td>\n      <td>0</td>\n      <td>3</td>\n      <td>3</td>\n      <td>6</td>\n      <td>3</td>\n      <td>1</td>\n      <td>1</td>\n      <td>...</td>\n      <td>127</td>\n      <td>1</td>\n      <td>0</td>\n      <td>0</td>\n      <td>6</td>\n      <td>2</td>\n      <td>1</td>\n      <td>17</td>\n      <td>3</td>\n      <td>4</td>\n    </tr>\n    <tr>\n      <th>Comedy</th>\n      <td>18</td>\n      <td>19</td>\n      <td>30</td>\n      <td>12</td>\n      <td>21</td>\n      <td>18</td>\n      <td>16</td>\n      <td>12</td>\n      <td>26</td>\n      <td>21</td>\n      <td>...</td>\n      <td>556</td>\n      <td>54</td>\n      <td>8</td>\n      <td>5</td>\n      <td>28</td>\n      <td>21</td>\n      <td>37</td>\n      <td>76</td>\n      <td>19</td>\n      <td>42</td>\n    </tr>\n    <tr>\n      <th>Crime</th>\n      <td>4</td>\n      <td>6</td>\n      <td>7</td>\n      <td>2</td>\n      <td>2</td>\n      <td>1</td>\n      <td>1</td>\n      <td>2</td>\n      <td>4</td>\n      <td>8</td>\n      <td>...</td>\n      <td>156</td>\n      <td>15</td>\n      <td>4</td>\n      <td>1</td>\n      <td>2</td>\n      <td>5</td>\n      <td>3</td>\n      <td>11</td>\n      <td>0</td>\n      <td>17</td>\n    </tr>\n    <tr>\n      <th>Drama</th>\n      <td>6</td>\n      <td>9</td>\n      <td>22</td>\n      <td>1</td>\n      <td>15</td>\n      <td>10</td>\n      <td>7</td>\n      <td>4</td>\n      <td>13</td>\n      <td>10</td>\n      <td>...</td>\n      <td>358</td>\n      <td>20</td>\n      <td>7</td>\n      <td>6</td>\n      <td>16</td>\n      <td>3</td>\n      <td>12</td>\n      <td>20</td>\n      <td>1</td>\n      <td>36</td>\n    </tr>\n    <tr>\n      <th>Family</th>\n      <td>0</td>\n      <td>0</td>\n      <td>0</td>\n      <td>0</td>\n      <td>0</td>\n      <td>0</td>\n      <td>0</td>\n      <td>0</td>\n      <td>0</td>\n      <td>0</td>\n      <td>...</td>\n      <td>2</td>\n      <td>0</td>\n      <td>0</td>\n      <td>0</td>\n      <td>0</td>\n      <td>0</td>\n      <td>0</td>\n      <td>0</td>\n      <td>0</td>\n      <td>0</td>\n    </tr>\n    <tr>\n      <th>Fantasy</th>\n      <td>0</td>\n      <td>0</td>\n      <td>0</td>\n      <td>0</td>\n      <td>0</td>\n      <td>0</td>\n      <td>0</td>\n      <td>0</td>\n      <td>0</td>\n      <td>0</td>\n      <td>...</td>\n      <td>8</td>\n      <td>4</td>\n      <td>0</td>\n      <td>0</td>\n      <td>0</td>\n      <td>2</td>\n      <td>0</td>\n      <td>1</td>\n      <td>0</td>\n      <td>0</td>\n    </tr>\n    <tr>\n      <th>Horror</th>\n      <td>0</td>\n      <td>3</td>\n      <td>3</td>\n      <td>12</td>\n      <td>2</td>\n      <td>0</td>\n      <td>0</td>\n      <td>1</td>\n      <td>2</td>\n      <td>0</td>\n      <td>...</td>\n      <td>92</td>\n      <td>5</td>\n      <td>4</td>\n      <td>1</td>\n      <td>0</td>\n      <td>0</td>\n      <td>2</td>\n      <td>5</td>\n      <td>0</td>\n      <td>5</td>\n    </tr>\n    <tr>\n      <th>Mystery</th>\n      <td>0</td>\n      <td>2</td>\n      <td>3</td>\n      <td>0</td>\n      <td>1</td>\n      <td>0</td>\n      <td>0</td>\n      <td>0</td>\n      <td>0</td>\n      <td>0</td>\n      <td>...</td>\n      <td>10</td>\n      <td>2</td>\n      <td>0</td>\n      <td>1</td>\n      <td>0</td>\n      <td>0</td>\n      <td>0</td>\n      <td>3</td>\n      <td>0</td>\n      <td>1</td>\n    </tr>\n    <tr>\n      <th>Romance</th>\n      <td>0</td>\n      <td>0</td>\n      <td>0</td>\n      <td>0</td>\n      <td>0</td>\n      <td>0</td>\n      <td>1</td>\n      <td>0</td>\n      <td>0</td>\n      <td>0</td>\n      <td>...</td>\n      <td>2</td>\n      <td>0</td>\n      <td>0</td>\n      <td>0</td>\n      <td>0</td>\n      <td>0</td>\n      <td>0</td>\n      <td>1</td>\n      <td>0</td>\n      <td>0</td>\n    </tr>\n    <tr>\n      <th>Sci-Fi</th>\n      <td>0</td>\n      <td>0</td>\n      <td>0</td>\n      <td>0</td>\n      <td>0</td>\n      <td>0</td>\n      <td>0</td>\n      <td>0</td>\n      <td>0</td>\n      <td>0</td>\n      <td>...</td>\n      <td>6</td>\n      <td>0</td>\n      <td>0</td>\n      <td>0</td>\n      <td>0</td>\n      <td>0</td>\n      <td>1</td>\n      <td>0</td>\n      <td>0</td>\n      <td>1</td>\n    </tr>\n    <tr>\n      <th>Thriller</th>\n      <td>0</td>\n      <td>0</td>\n      <td>0</td>\n      <td>0</td>\n      <td>0</td>\n      <td>0</td>\n      <td>0</td>\n      <td>0</td>\n      <td>0</td>\n      <td>0</td>\n      <td>...</td>\n      <td>6</td>\n      <td>0</td>\n      <td>0</td>\n      <td>0</td>\n      <td>0</td>\n      <td>0</td>\n      <td>0</td>\n      <td>0</td>\n      <td>0</td>\n      <td>0</td>\n    </tr>\n    <tr>\n      <th>Western</th>\n      <td>0</td>\n      <td>0</td>\n      <td>0</td>\n      <td>0</td>\n      <td>0</td>\n      <td>0</td>\n      <td>0</td>\n      <td>0</td>\n      <td>0</td>\n      <td>0</td>\n      <td>...</td>\n      <td>1</td>\n      <td>0</td>\n      <td>0</td>\n      <td>0</td>\n      <td>0</td>\n      <td>0</td>\n      <td>0</td>\n      <td>0</td>\n      <td>0</td>\n      <td>0</td>\n    </tr>\n  </tbody>\n</table>\n<p>16 rows × 21 columns</p>\n</div>"
     },
     "metadata": {}
    },
    {
     "output_type": "stream",
     "name": "stdout",
     "text": [
      "Observed Values\n"
     ]
    },
    {
     "output_type": "display_data",
     "data": {
      "text/plain": "array([[  0,   0,   0,   0,   0,   0,   0,   0,   0,   0,   0,   9,   0,\n          0,   0,   0,   0,   0,   0,   0,   0],\n       [  6,  28,  36,   6,  10,   3,   1,   7,  11,   3,  32, 348,  57,\n          8,  11,  16,   8,  50,  58,  16,  79],\n       [  2,   5,   7,   1,   4,   7,   3,   2,   3,   2,  10,  98,  10,\n          1,   6,   5,   0,  15,  11,  16,  15],\n       [  1,  10,   1,   0,   3,   4,   0,   0,   0,   0,   0,  98,   9,\n          0,   0,   3,   0,   7,   5,  14,  12],\n       [  0,   6,   8,   0,   3,   3,   6,   3,   1,   1,   1, 127,   1,\n          0,   0,   6,   2,   1,  17,   3,   4],\n       [ 18,  19,  30,  12,  21,  18,  16,  12,  26,  21,  35, 556,  54,\n          8,   5,  28,  21,  37,  76,  19,  42],\n       [  4,   6,   7,   2,   2,   1,   1,   2,   4,   8,  11, 156,  15,\n          4,   1,   2,   5,   3,  11,   0,  17],\n       [  6,   9,  22,   1,  15,  10,   7,   4,  13,  10,  13, 358,  20,\n          7,   6,  16,   3,  12,  20,   1,  36],\n       [  0,   0,   0,   0,   0,   0,   0,   0,   0,   0,   1,   2,   0,\n          0,   0,   0,   0,   0,   0,   0,   0],\n       [  0,   0,   0,   0,   0,   0,   0,   0,   0,   0,   4,   8,   4,\n          0,   0,   0,   2,   0,   1,   0,   0],\n       [  0,   3,   3,  12,   2,   0,   0,   1,   2,   0,  11,  92,   5,\n          4,   1,   0,   0,   2,   5,   0,   5],\n       [  0,   2,   3,   0,   1,   0,   0,   0,   0,   0,   1,  10,   2,\n          0,   1,   0,   0,   0,   3,   0,   1],\n       [  0,   0,   0,   0,   0,   0,   1,   0,   0,   0,   0,   2,   0,\n          0,   0,   0,   0,   0,   1,   0,   0],\n       [  0,   0,   0,   0,   0,   0,   0,   0,   0,   0,   0,   6,   0,\n          0,   0,   0,   0,   1,   0,   0,   1],\n       [  0,   0,   0,   0,   0,   0,   0,   0,   0,   0,   0,   6,   0,\n          0,   0,   0,   0,   0,   0,   0,   0],\n       [  0,   0,   0,   0,   0,   0,   0,   0,   0,   0,   0,   1,   0,\n          0,   0,   0,   0,   0,   0,   0,   0]], dtype=int64)"
     },
     "metadata": {}
    },
    {
     "output_type": "stream",
     "name": "stdout",
     "text": [
      "chi2_test_statistic, p, dof, expected\n"
     ]
    },
    {
     "output_type": "display_data",
     "data": {
      "text/plain": "632.6359770327847"
     },
     "metadata": {}
    },
    {
     "output_type": "display_data",
     "data": {
      "text/plain": "6.867936576941464e-26"
     },
     "metadata": {}
    },
    {
     "output_type": "display_data",
     "data": {
      "text/plain": "300"
     },
     "metadata": {}
    },
    {
     "output_type": "display_data",
     "data": {
      "text/plain": "array([[9.44948922e-02, 2.24744608e-01, 2.98808173e-01, 8.68331442e-02,\n        1.55788876e-01, 1.17480136e-01, 8.93870602e-02, 7.91713961e-02,\n        1.53234960e-01, 1.14926220e-01, 3.03916005e-01, 4.79370034e+00,\n        4.52043133e-01, 8.17253121e-02, 7.91713961e-02, 1.94097616e-01,\n        1.04710556e-01, 3.26901249e-01, 5.31214529e-01, 1.76220204e-01,\n        5.41430193e-01],\n       [8.33654938e+00, 1.98274688e+01, 2.63615210e+01, 7.66061294e+00,\n        1.37440409e+01, 1.03643587e+01, 7.88592509e+00, 6.98467650e+00,\n        1.35187287e+01, 1.01390465e+01, 2.68121453e+01, 4.22910897e+02,\n        3.98802497e+01, 7.20998865e+00, 6.98467650e+00, 1.71237230e+01,\n        9.23779796e+00, 2.88399546e+01, 4.68649262e+01, 1.55465380e+01,\n        4.77661748e+01],\n       [2.34137344e+00, 5.56867196e+00, 7.40380250e+00, 2.15153235e+00,\n        3.86010216e+00, 2.91089671e+00, 2.21481271e+00, 1.96169126e+00,\n        3.79682179e+00, 2.84761635e+00, 7.53036322e+00, 1.18777242e+02,\n        1.12006243e+01, 2.02497162e+00, 1.96169126e+00, 4.80930760e+00,\n        2.59449489e+00, 8.09988649e+00, 1.31623156e+01, 4.36634506e+00,\n        1.34154370e+01],\n       [1.75340522e+00, 4.17026107e+00, 5.54455165e+00, 1.61123723e+00,\n        2.89074915e+00, 2.17990919e+00, 1.65862656e+00, 1.46906924e+00,\n        2.84335982e+00, 2.13251986e+00, 5.63933031e+00, 8.89497730e+01,\n        8.38791146e+00, 1.51645857e+00, 1.46906924e+00, 3.60158910e+00,\n        1.94296254e+00, 6.06583428e+00, 9.85698070e+00, 3.26986379e+00,\n        1.00465380e+01],\n       [2.02639047e+00, 4.81952327e+00, 6.40777526e+00, 1.86208854e+00,\n        3.34080590e+00, 2.51929625e+00, 1.91685585e+00, 1.69778661e+00,\n        3.28603859e+00, 2.46452894e+00, 6.51730988e+00, 1.02798241e+02,\n        9.69381385e+00, 1.75255392e+00, 1.69778661e+00, 4.16231555e+00,\n        2.24545970e+00, 7.01021566e+00, 1.13916005e+01, 3.77894438e+00,\n        1.16106697e+01],\n       [1.12763905e+01, 2.68195233e+01, 3.56577753e+01, 1.03620885e+01,\n        1.85908059e+01, 1.40192963e+01, 1.06668558e+01, 9.44778661e+00,\n        1.82860386e+01, 1.37145289e+01, 3.62673099e+01, 5.72048241e+02,\n        5.39438138e+01, 9.75255392e+00, 9.44778661e+00, 2.31623156e+01,\n        1.24954597e+01, 3.90102157e+01, 6.33916005e+01, 2.10289444e+01,\n        6.46106697e+01],\n       [2.75085131e+00, 6.54256527e+00, 8.69863791e+00, 2.52780931e+00,\n        4.53518729e+00, 3.41997730e+00, 2.60215664e+00, 2.30476731e+00,\n        4.46083995e+00, 3.34562997e+00, 8.84733258e+00, 1.39549943e+02,\n        1.31594779e+01, 2.37911464e+00, 2.30476731e+00, 5.65039728e+00,\n        3.04824064e+00, 9.51645857e+00, 1.54642452e+01, 5.12996595e+00,\n        1.57616345e+01],\n       [6.18416572e+00, 1.47082860e+01, 1.95553348e+01, 5.68274688e+00,\n        1.01955165e+01, 7.68842225e+00, 5.84988649e+00, 5.18132804e+00,\n        1.00283768e+01, 7.52128263e+00, 1.98896141e+01, 3.13721056e+02,\n        2.95837117e+01, 5.34846765e+00, 5.18132804e+00, 1.27026107e+01,\n        6.85272418e+00, 2.13938706e+01, 3.47650397e+01, 1.15326334e+01,\n        3.54335982e+01],\n       [3.14982974e-02, 7.49148695e-02, 9.96027242e-02, 2.89443814e-02,\n        5.19296254e-02, 3.91600454e-02, 2.97956867e-02, 2.63904654e-02,\n        5.10783201e-02, 3.83087401e-02, 1.01305335e-01, 1.59790011e+00,\n        1.50681044e-01, 2.72417707e-02, 2.63904654e-02, 6.46992054e-02,\n        3.49035187e-02, 1.08967083e-01, 1.77071510e-01, 5.87400681e-02,\n        1.80476731e-01],\n       [1.99489217e-01, 4.74460840e-01, 6.30817253e-01, 1.83314415e-01,\n        3.28887628e-01, 2.48013621e-01, 1.88706016e-01, 1.67139614e-01,\n        3.23496027e-01, 2.42622020e-01, 6.41600454e-01, 1.01200341e+01,\n        9.54313280e-01, 1.72531215e-01, 1.67139614e-01, 4.09761635e-01,\n        2.21055619e-01, 6.90124858e-01, 1.12145289e+00, 3.72020431e-01,\n        1.14301930e+00],\n       [1.55391600e+00, 3.69580023e+00, 4.91373439e+00, 1.42792281e+00,\n        2.56186152e+00, 1.93189557e+00, 1.46992054e+00, 1.30192963e+00,\n        2.51986379e+00, 1.88989784e+00, 4.99772985e+00, 7.88297389e+01,\n        7.43359818e+00, 1.34392736e+00, 1.30192963e+00, 3.19182747e+00,\n        1.72190692e+00, 5.37570942e+00, 8.73552781e+00, 2.89784336e+00,\n        8.90351873e+00],\n       [2.51986379e-01, 5.99318956e-01, 7.96821793e-01, 2.31555051e-01,\n        4.15437003e-01, 3.13280363e-01, 2.38365494e-01, 2.11123723e-01,\n        4.08626561e-01, 3.06469921e-01, 8.10442679e-01, 1.27832009e+01,\n        1.20544835e+00, 2.17934166e-01, 2.11123723e-01, 5.17593644e-01,\n        2.79228150e-01, 8.71736663e-01, 1.41657208e+00, 4.69920545e-01,\n        1.44381385e+00],\n       [4.19977299e-02, 9.98864926e-02, 1.32803632e-01, 3.85925085e-02,\n        6.92395006e-02, 5.22133939e-02, 3.97275823e-02, 3.51872872e-02,\n        6.81044268e-02, 5.10783201e-02, 1.35073780e-01, 2.13053348e+00,\n        2.00908059e-01, 3.63223610e-02, 3.51872872e-02, 8.62656073e-02,\n        4.65380250e-02, 1.45289444e-01, 2.36095346e-01, 7.83200908e-02,\n        2.40635641e-01],\n       [8.39954597e-02, 1.99772985e-01, 2.65607264e-01, 7.71850170e-02,\n        1.38479001e-01, 1.04426788e-01, 7.94551646e-02, 7.03745743e-02,\n        1.36208854e-01, 1.02156640e-01, 2.70147560e-01, 4.26106697e+00,\n        4.01816118e-01, 7.26447219e-02, 7.03745743e-02, 1.72531215e-01,\n        9.30760499e-02, 2.90578888e-01, 4.72190692e-01, 1.56640182e-01,\n        4.81271283e-01],\n       [6.29965948e-02, 1.49829739e-01, 1.99205448e-01, 5.78887628e-02,\n        1.03859251e-01, 7.83200908e-02, 5.95913734e-02, 5.27809308e-02,\n        1.02156640e-01, 7.66174801e-02, 2.02610670e-01, 3.19580023e+00,\n        3.01362089e-01, 5.44835414e-02, 5.27809308e-02, 1.29398411e-01,\n        6.98070375e-02, 2.17934166e-01, 3.54143019e-01, 1.17480136e-01,\n        3.60953462e-01],\n       [1.04994325e-02, 2.49716232e-02, 3.32009081e-02, 9.64812713e-03,\n        1.73098751e-02, 1.30533485e-02, 9.93189557e-03, 8.79682179e-03,\n        1.70261067e-02, 1.27695800e-02, 3.37684449e-02, 5.32633371e-01,\n        5.02270148e-02, 9.08059024e-03, 8.79682179e-03, 2.15664018e-02,\n        1.16345062e-02, 3.63223610e-02, 5.90238365e-02, 1.95800227e-02,\n        6.01589103e-02]])"
     },
     "metadata": {}
    },
    {
     "output_type": "stream",
     "name": "stdout",
     "text": [
      "critical = 341.395, chi2_test_statistic = 632.636\nDependent (reject H0)\n\nsignificance = 0.050, p = 0.000\nDependent (reject H0)\n"
     ]
    },
    {
     "output_type": "display_data",
     "data": {
      "text/plain": "country    Other  USA\ngenre                \n0              9    0\nAction       100  694\nAdventure     38  185\nAnimation     18  149\nBiography     60  133\nComedy       101  973\nCrime         29  233\nDrama        117  472\nFamily         0    3\nFantasy        1   18\nHorror        16  132\nMystery        3   21\nRomance        2    2\nSci-Fi         1    7\nThriller       1    5\nWestern        1    0",
      "text/html": "<div>\n<style scoped>\n    .dataframe tbody tr th:only-of-type {\n        vertical-align: middle;\n    }\n\n    .dataframe tbody tr th {\n        vertical-align: top;\n    }\n\n    .dataframe thead th {\n        text-align: right;\n    }\n</style>\n<table border=\"1\" class=\"dataframe\">\n  <thead>\n    <tr style=\"text-align: right;\">\n      <th>country</th>\n      <th>Other</th>\n      <th>USA</th>\n    </tr>\n    <tr>\n      <th>genre</th>\n      <th></th>\n      <th></th>\n    </tr>\n  </thead>\n  <tbody>\n    <tr>\n      <th>0</th>\n      <td>9</td>\n      <td>0</td>\n    </tr>\n    <tr>\n      <th>Action</th>\n      <td>100</td>\n      <td>694</td>\n    </tr>\n    <tr>\n      <th>Adventure</th>\n      <td>38</td>\n      <td>185</td>\n    </tr>\n    <tr>\n      <th>Animation</th>\n      <td>18</td>\n      <td>149</td>\n    </tr>\n    <tr>\n      <th>Biography</th>\n      <td>60</td>\n      <td>133</td>\n    </tr>\n    <tr>\n      <th>Comedy</th>\n      <td>101</td>\n      <td>973</td>\n    </tr>\n    <tr>\n      <th>Crime</th>\n      <td>29</td>\n      <td>233</td>\n    </tr>\n    <tr>\n      <th>Drama</th>\n      <td>117</td>\n      <td>472</td>\n    </tr>\n    <tr>\n      <th>Family</th>\n      <td>0</td>\n      <td>3</td>\n    </tr>\n    <tr>\n      <th>Fantasy</th>\n      <td>1</td>\n      <td>18</td>\n    </tr>\n    <tr>\n      <th>Horror</th>\n      <td>16</td>\n      <td>132</td>\n    </tr>\n    <tr>\n      <th>Mystery</th>\n      <td>3</td>\n      <td>21</td>\n    </tr>\n    <tr>\n      <th>Romance</th>\n      <td>2</td>\n      <td>2</td>\n    </tr>\n    <tr>\n      <th>Sci-Fi</th>\n      <td>1</td>\n      <td>7</td>\n    </tr>\n    <tr>\n      <th>Thriller</th>\n      <td>1</td>\n      <td>5</td>\n    </tr>\n    <tr>\n      <th>Western</th>\n      <td>1</td>\n      <td>0</td>\n    </tr>\n  </tbody>\n</table>\n</div>"
     },
     "metadata": {}
    },
    {
     "output_type": "stream",
     "name": "stdout",
     "text": [
      "Observed Values\n"
     ]
    },
    {
     "output_type": "display_data",
     "data": {
      "text/plain": "array([[  9,   0],\n       [100, 694],\n       [ 38, 185],\n       [ 18, 149],\n       [ 60, 133],\n       [101, 973],\n       [ 29, 233],\n       [117, 472],\n       [  0,   3],\n       [  1,  18],\n       [ 16, 132],\n       [  3,  21],\n       [  2,   2],\n       [  1,   7],\n       [  1,   5],\n       [  1,   0]], dtype=int64)"
     },
     "metadata": {}
    },
    {
     "output_type": "stream",
     "name": "stdout",
     "text": [
      "chi2_test_statistic, p, dof, expected\n"
     ]
    },
    {
     "output_type": "display_data",
     "data": {
      "text/plain": "156.57229777650653"
     },
     "metadata": {}
    },
    {
     "output_type": "display_data",
     "data": {
      "text/plain": "1.1876526875042708e-25"
     },
     "metadata": {}
    },
    {
     "output_type": "display_data",
     "data": {
      "text/plain": "15"
     },
     "metadata": {}
    },
    {
     "output_type": "display_data",
     "data": {
      "text/plain": "array([[1.26929625e+00, 7.73070375e+00],\n       [1.11980136e+02, 6.82019864e+02],\n       [3.14503405e+01, 1.91549659e+02],\n       [2.35524972e+01, 1.43447503e+02],\n       [2.72193530e+01, 1.65780647e+02],\n       [1.51469353e+02, 9.22530647e+02],\n       [3.69506243e+01, 2.25049376e+02],\n       [8.30683882e+01, 5.05931612e+02],\n       [4.23098751e-01, 2.57690125e+00],\n       [2.67962543e+00, 1.63203746e+01],\n       [2.08728717e+01, 1.27127128e+02],\n       [3.38479001e+00, 2.06152100e+01],\n       [5.64131669e-01, 3.43586833e+00],\n       [1.12826334e+00, 6.87173666e+00],\n       [8.46197503e-01, 5.15380250e+00],\n       [1.41032917e-01, 8.58967083e-01]])"
     },
     "metadata": {}
    },
    {
     "output_type": "stream",
     "name": "stdout",
     "text": [
      "critical = 24.996, chi2_test_statistic = 156.572\nDependent (reject H0)\n\nsignificance = 0.050, p = 0.000\nDependent (reject H0)\n"
     ]
    },
    {
     "output_type": "display_data",
     "data": {
      "text/plain": "director   Barry Levinson  Bruce Beresford  Clint Eastwood  Dennis Dugan  \\\ngenre                                                                      \n0                       0                0               0             0   \nAction                  0                0               5             3   \nAdventure               1                0               1             0   \nAnimation               0                0               0             0   \nBiography               2                1               6             0   \nComedy                  4                3               0             8   \nCrime                   2                1               3             0   \nDrama                   3                5               5             0   \nFamily                  0                0               0             0   \nFantasy                 0                0               0             0   \nHorror                  0                0               0             0   \nMystery                 0                0               0             0   \nRomance                 0                0               0             0   \nSci-Fi                  0                0               0             0   \nThriller                0                0               0             0   \nWestern                 0                0               0             0   \n\ndirector   Martin Scorsese  Michael Apted  Oliver Stone  Other  Renny Harlin  \\\ngenre                                                                          \n0                        0              0             0      9             0   \nAction                   0              1             1    749            10   \nAdventure                1              1             0    197             0   \nAnimation                0              0             0    162             0   \nBiography                2              2             5    165             0   \nComedy                   0              1             0    994             0   \nCrime                    3              4             2    235             0   \nDrama                    3              1             6    531             0   \nFamily                   0              0             0      3             0   \nFantasy                  0              0             0     16             0   \nHorror                   0              0             0    141             2   \nMystery                  1              0             0     20             0   \nRomance                  0              0             0      4             0   \nSci-Fi                   0              0             0      8             0   \nThriller                 0              0             0      6             0   \nWestern                  0              0             0      1             0   \n\ndirector   Richard Donner  ...  Ridley Scott  Rob Reiner  Robert Zemeckis  \\\ngenre                      ...                                              \n0                       0  ...             0           0                0   \nAction                  9  ...             5           0                1   \nAdventure               0  ...             4           3                4   \nAnimation               0  ...             0           0                2   \nBiography               0  ...             1           0                0   \nComedy                  1  ...             2           7                2   \nCrime                   0  ...             2           1                0   \nDrama                   1  ...             1           2                3   \nFamily                  0  ...             0           0                0   \nFantasy                 0  ...             0           0                0   \nHorror                  0  ...             0           0                0   \nMystery                 0  ...             0           0                0   \nRomance                 0  ...             0           0                0   \nSci-Fi                  0  ...             0           0                0   \nThriller                0  ...             0           0                0   \nWestern                 0  ...             0           0                0   \n\ndirector   Ron Howard  Spike Lee  Steven Soderbergh  Steven Spielberg  \\\ngenre                                                                   \n0                   0          0                  0                 0   \nAction              3          1                  0                 4   \nAdventure           3          0                  0                 5   \nAnimation           0          0                  0                 1   \nBiography           3          0                  2                 2   \nComedy              6          7                  3                 1   \nCrime               0          3                  5                 1   \nDrama               0          4                  7                 5   \nFamily              0          0                  0                 0   \nFantasy             0          0                  0                 0   \nHorror              0          0                  0                 0   \nMystery             2          0                  0                 0   \nRomance             0          0                  0                 0   \nSci-Fi              0          0                  0                 0   \nThriller            0          0                  0                 0   \nWestern             0          0                  0                 0   \n\ndirector   Tim Burton  Wes Craven  Woody Allen  \ngenre                                           \n0                   0           0            0  \nAction              1           0            0  \nAdventure           3           0            0  \nAnimation           1           0            0  \nBiography           2           0            0  \nComedy              3           3           24  \nCrime               0           0            0  \nDrama               1           1            4  \nFamily              0           0            0  \nFantasy             1           2            0  \nHorror              0           5            0  \nMystery             0           1            0  \nRomance             0           0            0  \nSci-Fi              0           0            0  \nThriller            0           0            0  \nWestern             0           0            0  \n\n[16 rows x 21 columns]",
      "text/html": "<div>\n<style scoped>\n    .dataframe tbody tr th:only-of-type {\n        vertical-align: middle;\n    }\n\n    .dataframe tbody tr th {\n        vertical-align: top;\n    }\n\n    .dataframe thead th {\n        text-align: right;\n    }\n</style>\n<table border=\"1\" class=\"dataframe\">\n  <thead>\n    <tr style=\"text-align: right;\">\n      <th>director</th>\n      <th>Barry Levinson</th>\n      <th>Bruce Beresford</th>\n      <th>Clint Eastwood</th>\n      <th>Dennis Dugan</th>\n      <th>Martin Scorsese</th>\n      <th>Michael Apted</th>\n      <th>Oliver Stone</th>\n      <th>Other</th>\n      <th>Renny Harlin</th>\n      <th>Richard Donner</th>\n      <th>...</th>\n      <th>Ridley Scott</th>\n      <th>Rob Reiner</th>\n      <th>Robert Zemeckis</th>\n      <th>Ron Howard</th>\n      <th>Spike Lee</th>\n      <th>Steven Soderbergh</th>\n      <th>Steven Spielberg</th>\n      <th>Tim Burton</th>\n      <th>Wes Craven</th>\n      <th>Woody Allen</th>\n    </tr>\n    <tr>\n      <th>genre</th>\n      <th></th>\n      <th></th>\n      <th></th>\n      <th></th>\n      <th></th>\n      <th></th>\n      <th></th>\n      <th></th>\n      <th></th>\n      <th></th>\n      <th></th>\n      <th></th>\n      <th></th>\n      <th></th>\n      <th></th>\n      <th></th>\n      <th></th>\n      <th></th>\n      <th></th>\n      <th></th>\n      <th></th>\n    </tr>\n  </thead>\n  <tbody>\n    <tr>\n      <th>0</th>\n      <td>0</td>\n      <td>0</td>\n      <td>0</td>\n      <td>0</td>\n      <td>0</td>\n      <td>0</td>\n      <td>0</td>\n      <td>9</td>\n      <td>0</td>\n      <td>0</td>\n      <td>...</td>\n      <td>0</td>\n      <td>0</td>\n      <td>0</td>\n      <td>0</td>\n      <td>0</td>\n      <td>0</td>\n      <td>0</td>\n      <td>0</td>\n      <td>0</td>\n      <td>0</td>\n    </tr>\n    <tr>\n      <th>Action</th>\n      <td>0</td>\n      <td>0</td>\n      <td>5</td>\n      <td>3</td>\n      <td>0</td>\n      <td>1</td>\n      <td>1</td>\n      <td>749</td>\n      <td>10</td>\n      <td>9</td>\n      <td>...</td>\n      <td>5</td>\n      <td>0</td>\n      <td>1</td>\n      <td>3</td>\n      <td>1</td>\n      <td>0</td>\n      <td>4</td>\n      <td>1</td>\n      <td>0</td>\n      <td>0</td>\n    </tr>\n    <tr>\n      <th>Adventure</th>\n      <td>1</td>\n      <td>0</td>\n      <td>1</td>\n      <td>0</td>\n      <td>1</td>\n      <td>1</td>\n      <td>0</td>\n      <td>197</td>\n      <td>0</td>\n      <td>0</td>\n      <td>...</td>\n      <td>4</td>\n      <td>3</td>\n      <td>4</td>\n      <td>3</td>\n      <td>0</td>\n      <td>0</td>\n      <td>5</td>\n      <td>3</td>\n      <td>0</td>\n      <td>0</td>\n    </tr>\n    <tr>\n      <th>Animation</th>\n      <td>0</td>\n      <td>0</td>\n      <td>0</td>\n      <td>0</td>\n      <td>0</td>\n      <td>0</td>\n      <td>0</td>\n      <td>162</td>\n      <td>0</td>\n      <td>0</td>\n      <td>...</td>\n      <td>0</td>\n      <td>0</td>\n      <td>2</td>\n      <td>0</td>\n      <td>0</td>\n      <td>0</td>\n      <td>1</td>\n      <td>1</td>\n      <td>0</td>\n      <td>0</td>\n    </tr>\n    <tr>\n      <th>Biography</th>\n      <td>2</td>\n      <td>1</td>\n      <td>6</td>\n      <td>0</td>\n      <td>2</td>\n      <td>2</td>\n      <td>5</td>\n      <td>165</td>\n      <td>0</td>\n      <td>0</td>\n      <td>...</td>\n      <td>1</td>\n      <td>0</td>\n      <td>0</td>\n      <td>3</td>\n      <td>0</td>\n      <td>2</td>\n      <td>2</td>\n      <td>2</td>\n      <td>0</td>\n      <td>0</td>\n    </tr>\n    <tr>\n      <th>Comedy</th>\n      <td>4</td>\n      <td>3</td>\n      <td>0</td>\n      <td>8</td>\n      <td>0</td>\n      <td>1</td>\n      <td>0</td>\n      <td>994</td>\n      <td>0</td>\n      <td>1</td>\n      <td>...</td>\n      <td>2</td>\n      <td>7</td>\n      <td>2</td>\n      <td>6</td>\n      <td>7</td>\n      <td>3</td>\n      <td>1</td>\n      <td>3</td>\n      <td>3</td>\n      <td>24</td>\n    </tr>\n    <tr>\n      <th>Crime</th>\n      <td>2</td>\n      <td>1</td>\n      <td>3</td>\n      <td>0</td>\n      <td>3</td>\n      <td>4</td>\n      <td>2</td>\n      <td>235</td>\n      <td>0</td>\n      <td>0</td>\n      <td>...</td>\n      <td>2</td>\n      <td>1</td>\n      <td>0</td>\n      <td>0</td>\n      <td>3</td>\n      <td>5</td>\n      <td>1</td>\n      <td>0</td>\n      <td>0</td>\n      <td>0</td>\n    </tr>\n    <tr>\n      <th>Drama</th>\n      <td>3</td>\n      <td>5</td>\n      <td>5</td>\n      <td>0</td>\n      <td>3</td>\n      <td>1</td>\n      <td>6</td>\n      <td>531</td>\n      <td>0</td>\n      <td>1</td>\n      <td>...</td>\n      <td>1</td>\n      <td>2</td>\n      <td>3</td>\n      <td>0</td>\n      <td>4</td>\n      <td>7</td>\n      <td>5</td>\n      <td>1</td>\n      <td>1</td>\n      <td>4</td>\n    </tr>\n    <tr>\n      <th>Family</th>\n      <td>0</td>\n      <td>0</td>\n      <td>0</td>\n      <td>0</td>\n      <td>0</td>\n      <td>0</td>\n      <td>0</td>\n      <td>3</td>\n      <td>0</td>\n      <td>0</td>\n      <td>...</td>\n      <td>0</td>\n      <td>0</td>\n      <td>0</td>\n      <td>0</td>\n      <td>0</td>\n      <td>0</td>\n      <td>0</td>\n      <td>0</td>\n      <td>0</td>\n      <td>0</td>\n    </tr>\n    <tr>\n      <th>Fantasy</th>\n      <td>0</td>\n      <td>0</td>\n      <td>0</td>\n      <td>0</td>\n      <td>0</td>\n      <td>0</td>\n      <td>0</td>\n      <td>16</td>\n      <td>0</td>\n      <td>0</td>\n      <td>...</td>\n      <td>0</td>\n      <td>0</td>\n      <td>0</td>\n      <td>0</td>\n      <td>0</td>\n      <td>0</td>\n      <td>0</td>\n      <td>1</td>\n      <td>2</td>\n      <td>0</td>\n    </tr>\n    <tr>\n      <th>Horror</th>\n      <td>0</td>\n      <td>0</td>\n      <td>0</td>\n      <td>0</td>\n      <td>0</td>\n      <td>0</td>\n      <td>0</td>\n      <td>141</td>\n      <td>2</td>\n      <td>0</td>\n      <td>...</td>\n      <td>0</td>\n      <td>0</td>\n      <td>0</td>\n      <td>0</td>\n      <td>0</td>\n      <td>0</td>\n      <td>0</td>\n      <td>0</td>\n      <td>5</td>\n      <td>0</td>\n    </tr>\n    <tr>\n      <th>Mystery</th>\n      <td>0</td>\n      <td>0</td>\n      <td>0</td>\n      <td>0</td>\n      <td>1</td>\n      <td>0</td>\n      <td>0</td>\n      <td>20</td>\n      <td>0</td>\n      <td>0</td>\n      <td>...</td>\n      <td>0</td>\n      <td>0</td>\n      <td>0</td>\n      <td>2</td>\n      <td>0</td>\n      <td>0</td>\n      <td>0</td>\n      <td>0</td>\n      <td>1</td>\n      <td>0</td>\n    </tr>\n    <tr>\n      <th>Romance</th>\n      <td>0</td>\n      <td>0</td>\n      <td>0</td>\n      <td>0</td>\n      <td>0</td>\n      <td>0</td>\n      <td>0</td>\n      <td>4</td>\n      <td>0</td>\n      <td>0</td>\n      <td>...</td>\n      <td>0</td>\n      <td>0</td>\n      <td>0</td>\n      <td>0</td>\n      <td>0</td>\n      <td>0</td>\n      <td>0</td>\n      <td>0</td>\n      <td>0</td>\n      <td>0</td>\n    </tr>\n    <tr>\n      <th>Sci-Fi</th>\n      <td>0</td>\n      <td>0</td>\n      <td>0</td>\n      <td>0</td>\n      <td>0</td>\n      <td>0</td>\n      <td>0</td>\n      <td>8</td>\n      <td>0</td>\n      <td>0</td>\n      <td>...</td>\n      <td>0</td>\n      <td>0</td>\n      <td>0</td>\n      <td>0</td>\n      <td>0</td>\n      <td>0</td>\n      <td>0</td>\n      <td>0</td>\n      <td>0</td>\n      <td>0</td>\n    </tr>\n    <tr>\n      <th>Thriller</th>\n      <td>0</td>\n      <td>0</td>\n      <td>0</td>\n      <td>0</td>\n      <td>0</td>\n      <td>0</td>\n      <td>0</td>\n      <td>6</td>\n      <td>0</td>\n      <td>0</td>\n      <td>...</td>\n      <td>0</td>\n      <td>0</td>\n      <td>0</td>\n      <td>0</td>\n      <td>0</td>\n      <td>0</td>\n      <td>0</td>\n      <td>0</td>\n      <td>0</td>\n      <td>0</td>\n    </tr>\n    <tr>\n      <th>Western</th>\n      <td>0</td>\n      <td>0</td>\n      <td>0</td>\n      <td>0</td>\n      <td>0</td>\n      <td>0</td>\n      <td>0</td>\n      <td>1</td>\n      <td>0</td>\n      <td>0</td>\n      <td>...</td>\n      <td>0</td>\n      <td>0</td>\n      <td>0</td>\n      <td>0</td>\n      <td>0</td>\n      <td>0</td>\n      <td>0</td>\n      <td>0</td>\n      <td>0</td>\n      <td>0</td>\n    </tr>\n  </tbody>\n</table>\n<p>16 rows × 21 columns</p>\n</div>"
     },
     "metadata": {}
    },
    {
     "output_type": "stream",
     "name": "stdout",
     "text": [
      "Observed Values\n"
     ]
    },
    {
     "output_type": "display_data",
     "data": {
      "text/plain": "array([[  0,   0,   0,   0,   0,   0,   0,   9,   0,   0,   0,   0,   0,\n          0,   0,   0,   0,   0,   0,   0,   0],\n       [  0,   0,   5,   3,   0,   1,   1, 749,  10,   9,   1,   5,   0,\n          1,   3,   1,   0,   4,   1,   0,   0],\n       [  1,   0,   1,   0,   1,   1,   0, 197,   0,   0,   0,   4,   3,\n          4,   3,   0,   0,   5,   3,   0,   0],\n       [  0,   0,   0,   0,   0,   0,   0, 162,   0,   0,   1,   0,   0,\n          2,   0,   0,   0,   1,   1,   0,   0],\n       [  2,   1,   6,   0,   2,   2,   5, 165,   0,   0,   0,   1,   0,\n          0,   3,   0,   2,   2,   2,   0,   0],\n       [  4,   3,   0,   8,   0,   1,   0, 994,   0,   1,   5,   2,   7,\n          2,   6,   7,   3,   1,   3,   3,  24],\n       [  2,   1,   3,   0,   3,   4,   2, 235,   0,   0,   0,   2,   1,\n          0,   0,   3,   5,   1,   0,   0,   0],\n       [  3,   5,   5,   0,   3,   1,   6, 531,   0,   1,   6,   1,   2,\n          3,   0,   4,   7,   5,   1,   1,   4],\n       [  0,   0,   0,   0,   0,   0,   0,   3,   0,   0,   0,   0,   0,\n          0,   0,   0,   0,   0,   0,   0,   0],\n       [  0,   0,   0,   0,   0,   0,   0,  16,   0,   0,   0,   0,   0,\n          0,   0,   0,   0,   0,   1,   2,   0],\n       [  0,   0,   0,   0,   0,   0,   0, 141,   2,   0,   0,   0,   0,\n          0,   0,   0,   0,   0,   0,   5,   0],\n       [  0,   0,   0,   0,   1,   0,   0,  20,   0,   0,   0,   0,   0,\n          0,   2,   0,   0,   0,   0,   1,   0],\n       [  0,   0,   0,   0,   0,   0,   0,   4,   0,   0,   0,   0,   0,\n          0,   0,   0,   0,   0,   0,   0,   0],\n       [  0,   0,   0,   0,   0,   0,   0,   8,   0,   0,   0,   0,   0,\n          0,   0,   0,   0,   0,   0,   0,   0],\n       [  0,   0,   0,   0,   0,   0,   0,   6,   0,   0,   0,   0,   0,\n          0,   0,   0,   0,   0,   0,   0,   0],\n       [  0,   0,   0,   0,   0,   0,   0,   1,   0,   0,   0,   0,   0,\n          0,   0,   0,   0,   0,   0,   0,   0]], dtype=int64)"
     },
     "metadata": {}
    },
    {
     "output_type": "stream",
     "name": "stdout",
     "text": [
      "chi2_test_statistic, p, dof, expected\n"
     ]
    },
    {
     "output_type": "display_data",
     "data": {
      "text/plain": "561.0515094746818"
     },
     "metadata": {}
    },
    {
     "output_type": "display_data",
     "data": {
      "text/plain": "4.588799305328769e-18"
     },
     "metadata": {}
    },
    {
     "output_type": "display_data",
     "data": {
      "text/plain": "300"
     },
     "metadata": {}
    },
    {
     "output_type": "display_data",
     "data": {
      "text/plain": "array([[3.06469921e-02, 2.55391600e-02, 5.10783201e-02, 2.80930760e-02,\n        2.55391600e-02, 2.55391600e-02, 3.57548241e-02, 8.27724177e+00,\n        3.06469921e-02, 2.80930760e-02, 3.32009081e-02, 3.83087401e-02,\n        3.32009081e-02, 3.06469921e-02, 4.34165721e-02, 3.83087401e-02,\n        4.34165721e-02, 4.85244041e-02, 3.06469921e-02, 3.06469921e-02,\n        7.15096481e-02],\n       [2.70374574e+00, 2.25312145e+00, 4.50624291e+00, 2.47843360e+00,\n        2.25312145e+00, 2.25312145e+00, 3.15437003e+00, 7.30236663e+02,\n        2.70374574e+00, 2.47843360e+00, 2.92905789e+00, 3.37968218e+00,\n        2.92905789e+00, 2.70374574e+00, 3.83030647e+00, 3.37968218e+00,\n        3.83030647e+00, 4.28093076e+00, 2.70374574e+00, 2.70374574e+00,\n        6.30874007e+00],\n       [7.59364359e-01, 6.32803632e-01, 1.26560726e+00, 6.96083995e-01,\n        6.32803632e-01, 6.32803632e-01, 8.85925085e-01, 2.05091657e+02,\n        7.59364359e-01, 6.96083995e-01, 8.22644722e-01, 9.49205448e-01,\n        8.22644722e-01, 7.59364359e-01, 1.07576617e+00, 9.49205448e-01,\n        1.07576617e+00, 1.20232690e+00, 7.59364359e-01, 7.59364359e-01,\n        1.77185017e+00],\n       [5.68671964e-01, 4.73893303e-01, 9.47786606e-01, 5.21282633e-01,\n        4.73893303e-01, 4.73893303e-01, 6.63450624e-01, 1.53588820e+02,\n        5.68671964e-01, 5.21282633e-01, 6.16061294e-01, 7.10839955e-01,\n        6.16061294e-01, 5.68671964e-01, 8.05618615e-01, 7.10839955e-01,\n        8.05618615e-01, 9.00397276e-01, 5.68671964e-01, 5.68671964e-01,\n        1.32690125e+00],\n       [6.57207719e-01, 5.47673099e-01, 1.09534620e+00, 6.02440409e-01,\n        5.47673099e-01, 5.47673099e-01, 7.66742338e-01, 1.77500851e+02,\n        6.57207719e-01, 6.02440409e-01, 7.11975028e-01, 8.21509648e-01,\n        7.11975028e-01, 6.57207719e-01, 9.31044268e-01, 8.21509648e-01,\n        9.31044268e-01, 1.04057889e+00, 6.57207719e-01, 6.57207719e-01,\n        1.53348468e+00],\n       [3.65720772e+00, 3.04767310e+00, 6.09534620e+00, 3.35244041e+00,\n        3.04767310e+00, 3.04767310e+00, 4.26674234e+00, 9.87750851e+02,\n        3.65720772e+00, 3.35244041e+00, 3.96197503e+00, 4.57150965e+00,\n        3.96197503e+00, 3.65720772e+00, 5.18104427e+00, 4.57150965e+00,\n        5.18104427e+00, 5.79057889e+00, 3.65720772e+00, 3.65720772e+00,\n        8.53348468e+00],\n       [8.92167991e-01, 7.43473326e-01, 1.48694665e+00, 8.17820658e-01,\n        7.43473326e-01, 7.43473326e-01, 1.04086266e+00, 2.40959705e+02,\n        8.92167991e-01, 8.17820658e-01, 9.66515323e-01, 1.11520999e+00,\n        9.66515323e-01, 8.92167991e-01, 1.26390465e+00, 1.11520999e+00,\n        1.26390465e+00, 1.41259932e+00, 8.92167991e-01, 8.92167991e-01,\n        2.08172531e+00],\n       [2.00567537e+00, 1.67139614e+00, 3.34279228e+00, 1.83853575e+00,\n        1.67139614e+00, 1.67139614e+00, 2.33995460e+00, 5.41699489e+02,\n        2.00567537e+00, 1.83853575e+00, 2.17281498e+00, 2.50709421e+00,\n        2.17281498e+00, 2.00567537e+00, 2.84137344e+00, 2.50709421e+00,\n        2.84137344e+00, 3.17565267e+00, 2.00567537e+00, 2.00567537e+00,\n        4.67990919e+00],\n       [1.02156640e-02, 8.51305335e-03, 1.70261067e-02, 9.36435868e-03,\n        8.51305335e-03, 8.51305335e-03, 1.19182747e-02, 2.75908059e+00,\n        1.02156640e-02, 9.36435868e-03, 1.10669694e-02, 1.27695800e-02,\n        1.10669694e-02, 1.02156640e-02, 1.44721907e-02, 1.27695800e-02,\n        1.44721907e-02, 1.61748014e-02, 1.02156640e-02, 1.02156640e-02,\n        2.38365494e-02],\n       [6.46992054e-02, 5.39160045e-02, 1.07832009e-01, 5.93076050e-02,\n        5.39160045e-02, 5.39160045e-02, 7.54824064e-02, 1.74741771e+01,\n        6.46992054e-02, 5.93076050e-02, 7.00908059e-02, 8.08740068e-02,\n        7.00908059e-02, 6.46992054e-02, 9.16572077e-02, 8.08740068e-02,\n        9.16572077e-02, 1.02440409e-01, 6.46992054e-02, 6.46992054e-02,\n        1.50964813e-01],\n       [5.03972758e-01, 4.19977299e-01, 8.39954597e-01, 4.61975028e-01,\n        4.19977299e-01, 4.19977299e-01, 5.87968218e-01, 1.36114642e+02,\n        5.03972758e-01, 4.61975028e-01, 5.45970488e-01, 6.29965948e-01,\n        5.45970488e-01, 5.03972758e-01, 7.13961407e-01, 6.29965948e-01,\n        7.13961407e-01, 7.97956867e-01, 5.03972758e-01, 5.03972758e-01,\n        1.17593644e+00],\n       [8.17253121e-02, 6.81044268e-02, 1.36208854e-01, 7.49148695e-02,\n        6.81044268e-02, 6.81044268e-02, 9.53461975e-02, 2.20726447e+01,\n        8.17253121e-02, 7.49148695e-02, 8.85357548e-02, 1.02156640e-01,\n        8.85357548e-02, 8.17253121e-02, 1.15777526e-01, 1.02156640e-01,\n        1.15777526e-01, 1.29398411e-01, 8.17253121e-02, 8.17253121e-02,\n        1.90692395e-01],\n       [1.36208854e-02, 1.13507378e-02, 2.27014756e-02, 1.24858116e-02,\n        1.13507378e-02, 1.13507378e-02, 1.58910329e-02, 3.67877412e+00,\n        1.36208854e-02, 1.24858116e-02, 1.47559591e-02, 1.70261067e-02,\n        1.47559591e-02, 1.36208854e-02, 1.92962543e-02, 1.70261067e-02,\n        1.92962543e-02, 2.15664018e-02, 1.36208854e-02, 1.36208854e-02,\n        3.17820658e-02],\n       [2.72417707e-02, 2.27014756e-02, 4.54029512e-02, 2.49716232e-02,\n        2.27014756e-02, 2.27014756e-02, 3.17820658e-02, 7.35754824e+00,\n        2.72417707e-02, 2.49716232e-02, 2.95119183e-02, 3.40522134e-02,\n        2.95119183e-02, 2.72417707e-02, 3.85925085e-02, 3.40522134e-02,\n        3.85925085e-02, 4.31328036e-02, 2.72417707e-02, 2.72417707e-02,\n        6.35641317e-02],\n       [2.04313280e-02, 1.70261067e-02, 3.40522134e-02, 1.87287174e-02,\n        1.70261067e-02, 1.70261067e-02, 2.38365494e-02, 5.51816118e+00,\n        2.04313280e-02, 1.87287174e-02, 2.21339387e-02, 2.55391600e-02,\n        2.21339387e-02, 2.04313280e-02, 2.89443814e-02, 2.55391600e-02,\n        2.89443814e-02, 3.23496027e-02, 2.04313280e-02, 2.04313280e-02,\n        4.76730988e-02],\n       [3.40522134e-03, 2.83768445e-03, 5.67536890e-03, 3.12145289e-03,\n        2.83768445e-03, 2.83768445e-03, 3.97275823e-03, 9.19693530e-01,\n        3.40522134e-03, 3.12145289e-03, 3.68898978e-03, 4.25652667e-03,\n        3.68898978e-03, 3.40522134e-03, 4.82406356e-03, 4.25652667e-03,\n        4.82406356e-03, 5.39160045e-03, 3.40522134e-03, 3.40522134e-03,\n        7.94551646e-03]])"
     },
     "metadata": {}
    },
    {
     "output_type": "stream",
     "name": "stdout",
     "text": [
      "critical = 341.395, chi2_test_statistic = 561.052\nDependent (reject H0)\n\nsignificance = 0.050, p = 0.000\nDependent (reject H0)\n"
     ]
    },
    {
     "output_type": "display_data",
     "data": {
      "text/plain": "rating     0   G  NC-17  NOT RATED  Not specified   PG  PG-13    R  UNRATED\ngenre                                                                      \n0          9   0      0          0              0    0      0    0        0\nAction     0   0      0          1              2   67    362  362        0\nAdventure  0  11      0          0              0   90     77   45        0\nAnimation  0  47      0          0              0  109      6    5        0\nBiography  0   1      0          2              0   27     64   97        2\nComedy     0   8      3          7              0  177    405  470        4\nCrime      0   0      1          0              0    0     26  233        2\nDrama      0   1      1         12              1   40    215  314        5\nFamily     0   1      0          0              0    2      0    0        0\nFantasy    0   0      0          1              0    1      0   17        0\nHorror     0   0      0          0              0    0     29  119        0\nMystery    0   0      0          1              0    0     10   13        0\nRomance    0   0      0          0              0    2      2    0        0\nSci-Fi     0   0      0          0              0    0      6    2        0\nThriller   0   0      0          0              0    1      0    5        0\nWestern    0   0      0          0              0    0      0    1        0",
      "text/html": "<div>\n<style scoped>\n    .dataframe tbody tr th:only-of-type {\n        vertical-align: middle;\n    }\n\n    .dataframe tbody tr th {\n        vertical-align: top;\n    }\n\n    .dataframe thead th {\n        text-align: right;\n    }\n</style>\n<table border=\"1\" class=\"dataframe\">\n  <thead>\n    <tr style=\"text-align: right;\">\n      <th>rating</th>\n      <th>0</th>\n      <th>G</th>\n      <th>NC-17</th>\n      <th>NOT RATED</th>\n      <th>Not specified</th>\n      <th>PG</th>\n      <th>PG-13</th>\n      <th>R</th>\n      <th>UNRATED</th>\n    </tr>\n    <tr>\n      <th>genre</th>\n      <th></th>\n      <th></th>\n      <th></th>\n      <th></th>\n      <th></th>\n      <th></th>\n      <th></th>\n      <th></th>\n      <th></th>\n    </tr>\n  </thead>\n  <tbody>\n    <tr>\n      <th>0</th>\n      <td>9</td>\n      <td>0</td>\n      <td>0</td>\n      <td>0</td>\n      <td>0</td>\n      <td>0</td>\n      <td>0</td>\n      <td>0</td>\n      <td>0</td>\n    </tr>\n    <tr>\n      <th>Action</th>\n      <td>0</td>\n      <td>0</td>\n      <td>0</td>\n      <td>1</td>\n      <td>2</td>\n      <td>67</td>\n      <td>362</td>\n      <td>362</td>\n      <td>0</td>\n    </tr>\n    <tr>\n      <th>Adventure</th>\n      <td>0</td>\n      <td>11</td>\n      <td>0</td>\n      <td>0</td>\n      <td>0</td>\n      <td>90</td>\n      <td>77</td>\n      <td>45</td>\n      <td>0</td>\n    </tr>\n    <tr>\n      <th>Animation</th>\n      <td>0</td>\n      <td>47</td>\n      <td>0</td>\n      <td>0</td>\n      <td>0</td>\n      <td>109</td>\n      <td>6</td>\n      <td>5</td>\n      <td>0</td>\n    </tr>\n    <tr>\n      <th>Biography</th>\n      <td>0</td>\n      <td>1</td>\n      <td>0</td>\n      <td>2</td>\n      <td>0</td>\n      <td>27</td>\n      <td>64</td>\n      <td>97</td>\n      <td>2</td>\n    </tr>\n    <tr>\n      <th>Comedy</th>\n      <td>0</td>\n      <td>8</td>\n      <td>3</td>\n      <td>7</td>\n      <td>0</td>\n      <td>177</td>\n      <td>405</td>\n      <td>470</td>\n      <td>4</td>\n    </tr>\n    <tr>\n      <th>Crime</th>\n      <td>0</td>\n      <td>0</td>\n      <td>1</td>\n      <td>0</td>\n      <td>0</td>\n      <td>0</td>\n      <td>26</td>\n      <td>233</td>\n      <td>2</td>\n    </tr>\n    <tr>\n      <th>Drama</th>\n      <td>0</td>\n      <td>1</td>\n      <td>1</td>\n      <td>12</td>\n      <td>1</td>\n      <td>40</td>\n      <td>215</td>\n      <td>314</td>\n      <td>5</td>\n    </tr>\n    <tr>\n      <th>Family</th>\n      <td>0</td>\n      <td>1</td>\n      <td>0</td>\n      <td>0</td>\n      <td>0</td>\n      <td>2</td>\n      <td>0</td>\n      <td>0</td>\n      <td>0</td>\n    </tr>\n    <tr>\n      <th>Fantasy</th>\n      <td>0</td>\n      <td>0</td>\n      <td>0</td>\n      <td>1</td>\n      <td>0</td>\n      <td>1</td>\n      <td>0</td>\n      <td>17</td>\n      <td>0</td>\n    </tr>\n    <tr>\n      <th>Horror</th>\n      <td>0</td>\n      <td>0</td>\n      <td>0</td>\n      <td>0</td>\n      <td>0</td>\n      <td>0</td>\n      <td>29</td>\n      <td>119</td>\n      <td>0</td>\n    </tr>\n    <tr>\n      <th>Mystery</th>\n      <td>0</td>\n      <td>0</td>\n      <td>0</td>\n      <td>1</td>\n      <td>0</td>\n      <td>0</td>\n      <td>10</td>\n      <td>13</td>\n      <td>0</td>\n    </tr>\n    <tr>\n      <th>Romance</th>\n      <td>0</td>\n      <td>0</td>\n      <td>0</td>\n      <td>0</td>\n      <td>0</td>\n      <td>2</td>\n      <td>2</td>\n      <td>0</td>\n      <td>0</td>\n    </tr>\n    <tr>\n      <th>Sci-Fi</th>\n      <td>0</td>\n      <td>0</td>\n      <td>0</td>\n      <td>0</td>\n      <td>0</td>\n      <td>0</td>\n      <td>6</td>\n      <td>2</td>\n      <td>0</td>\n    </tr>\n    <tr>\n      <th>Thriller</th>\n      <td>0</td>\n      <td>0</td>\n      <td>0</td>\n      <td>0</td>\n      <td>0</td>\n      <td>1</td>\n      <td>0</td>\n      <td>5</td>\n      <td>0</td>\n    </tr>\n    <tr>\n      <th>Western</th>\n      <td>0</td>\n      <td>0</td>\n      <td>0</td>\n      <td>0</td>\n      <td>0</td>\n      <td>0</td>\n      <td>0</td>\n      <td>1</td>\n      <td>0</td>\n    </tr>\n  </tbody>\n</table>\n</div>"
     },
     "metadata": {}
    },
    {
     "output_type": "stream",
     "name": "stdout",
     "text": [
      "Observed Values\n"
     ]
    },
    {
     "output_type": "display_data",
     "data": {
      "text/plain": "array([[  9,   0,   0,   0,   0,   0,   0,   0,   0],\n       [  0,   0,   0,   1,   2,  67, 362, 362,   0],\n       [  0,  11,   0,   0,   0,  90,  77,  45,   0],\n       [  0,  47,   0,   0,   0, 109,   6,   5,   0],\n       [  0,   1,   0,   2,   0,  27,  64,  97,   2],\n       [  0,   8,   3,   7,   0, 177, 405, 470,   4],\n       [  0,   0,   1,   0,   0,   0,  26, 233,   2],\n       [  0,   1,   1,  12,   1,  40, 215, 314,   5],\n       [  0,   1,   0,   0,   0,   2,   0,   0,   0],\n       [  0,   0,   0,   1,   0,   1,   0,  17,   0],\n       [  0,   0,   0,   0,   0,   0,  29, 119,   0],\n       [  0,   0,   0,   1,   0,   0,  10,  13,   0],\n       [  0,   0,   0,   0,   0,   2,   2,   0,   0],\n       [  0,   0,   0,   0,   0,   0,   6,   2,   0],\n       [  0,   0,   0,   0,   0,   1,   0,   5,   0],\n       [  0,   0,   0,   0,   0,   0,   0,   1,   0]], dtype=int64)"
     },
     "metadata": {}
    },
    {
     "output_type": "stream",
     "name": "stdout",
     "text": [
      "chi2_test_statistic, p, dof, expected\n"
     ]
    },
    {
     "output_type": "display_data",
     "data": {
      "text/plain": "5155.835279456919"
     },
     "metadata": {}
    },
    {
     "output_type": "display_data",
     "data": {
      "text/plain": "0.0"
     },
     "metadata": {}
    },
    {
     "output_type": "display_data",
     "data": {
      "text/plain": "120"
     },
     "metadata": {}
    },
    {
     "output_type": "display_data",
     "data": {
      "text/plain": "array([[2.29852440e-02, 1.76220204e-01, 1.27695800e-02, 6.12939841e-02,\n        7.66174801e-03, 1.31782066e+00, 3.06980704e+00, 4.29824064e+00,\n        3.32009081e-02],\n       [2.02780931e+00, 1.55465380e+01, 1.12656073e+00, 5.40749149e+00,\n        6.75936436e-01, 1.16261067e+02, 2.70825199e+02, 3.79200341e+02,\n        2.92905789e+00],\n       [5.69523269e-01, 4.36634506e+00, 3.16401816e-01, 1.51872872e+00,\n        1.89841090e-01, 3.26526674e+01, 7.60629966e+01, 1.06500851e+02,\n        8.22644722e-01],\n       [4.26503973e-01, 3.26986379e+00, 2.36946652e-01, 1.13734393e+00,\n        1.42167991e-01, 2.44528944e+01, 5.69619750e+01, 7.97562429e+01,\n        6.16061294e-01],\n       [4.92905789e-01, 3.77894438e+00, 2.73836549e-01, 1.31441544e+00,\n        1.64301930e-01, 2.82599319e+01, 6.58303065e+01, 9.21733825e+01,\n        7.11975028e-01],\n       [2.74290579e+00, 2.10289444e+01, 1.52383655e+00, 7.31441544e+00,\n        9.14301930e-01, 1.57259932e+02, 3.66330306e+02, 5.12923383e+02,\n        3.96197503e+00],\n       [6.69125993e-01, 5.12996595e+00, 3.71736663e-01, 1.78433598e+00,\n        2.23041998e-01, 3.83632236e+01, 8.93654938e+01, 1.25126561e+02,\n        9.66515323e-01],\n       [1.50425653e+00, 1.15326334e+01, 8.35698070e-01, 4.01135074e+00,\n        5.01418842e-01, 8.62440409e+01, 2.00901816e+02, 2.81295970e+02,\n        2.17281498e+00],\n       [7.66174801e-03, 5.87400681e-02, 4.25652667e-03, 2.04313280e-02,\n        2.55391600e-03, 4.39273553e-01, 1.02326901e+00, 1.43274688e+00,\n        1.10669694e-02],\n       [4.85244041e-02, 3.72020431e-01, 2.69580023e-02, 1.29398411e-01,\n        1.61748014e-02, 2.78206583e+00, 6.48070375e+00, 9.07406356e+00,\n        7.00908059e-02],\n       [3.77979569e-01, 2.89784336e+00, 2.09988649e-01, 1.00794552e+00,\n        1.25993190e-01, 2.16708286e+01, 5.04812713e+01, 7.06821793e+01,\n        5.45970488e-01],\n       [6.12939841e-02, 4.69920545e-01, 3.40522134e-02, 1.63450624e-01,\n        2.04313280e-02, 3.51418842e+00, 8.18615210e+00, 1.14619750e+01,\n        8.85357548e-02],\n       [1.02156640e-02, 7.83200908e-02, 5.67536890e-03, 2.72417707e-02,\n        3.40522134e-03, 5.85698070e-01, 1.36435868e+00, 1.91032917e+00,\n        1.47559591e-02],\n       [2.04313280e-02, 1.56640182e-01, 1.13507378e-02, 5.44835414e-02,\n        6.81044268e-03, 1.17139614e+00, 2.72871737e+00, 3.82065834e+00,\n        2.95119183e-02],\n       [1.53234960e-02, 1.17480136e-01, 8.51305335e-03, 4.08626561e-02,\n        5.10783201e-03, 8.78547106e-01, 2.04653802e+00, 2.86549376e+00,\n        2.21339387e-02],\n       [2.55391600e-03, 1.95800227e-02, 1.41884222e-03, 6.81044268e-03,\n        8.51305335e-04, 1.46424518e-01, 3.41089671e-01, 4.77582293e-01,\n        3.68898978e-03]])"
     },
     "metadata": {}
    },
    {
     "output_type": "stream",
     "name": "stdout",
     "text": [
      "critical = 146.567, chi2_test_statistic = 5155.835\nDependent (reject H0)\n\nsignificance = 0.050, p = 0.000\nDependent (reject H0)\n"
     ]
    },
    {
     "output_type": "display_data",
     "data": {
      "text/plain": "released   0  1.01.2004 00:00  1.02.1991 00:00  1.02.2002 00:00  \\\ngenre                                                             \n0          9                0                0                0   \nAction     0                0                0                0   \nAdventure  0                0                0                0   \nAnimation  0                0                0                0   \nBiography  0                0                0                0   \nComedy     0                1                2                2   \nCrime      0                0                0                0   \nDrama      0                0                0                0   \nFamily     0                0                0                0   \nFantasy    0                0                0                0   \nHorror     0                0                0                0   \nMystery    0                0                0                0   \nRomance    0                0                0                0   \nSci-Fi     0                0                0                0   \nThriller   0                0                0                0   \nWestern    0                0                0                0   \n\nreleased   1.02.2008 00:00  1.02.2013 00:00  1.03.1991 00:00  1.03.1996 00:00  \\\ngenre                                                                           \n0                        0                0                0                0   \nAction                   0                1                0                0   \nAdventure                1                0                0                0   \nAnimation                0                0                0                0   \nBiography                0                0                1                0   \nComedy                   1                2                0                1   \nCrime                    0                0                0                0   \nDrama                    0                0                0                1   \nFamily                   0                0                0                0   \nFantasy                  0                0                0                0   \nHorror                   0                0                0                0   \nMystery                  0                0                0                0   \nRomance                  0                0                0                0   \nSci-Fi                   0                0                0                0   \nThriller                 0                0                0                0   \nWestern                  0                0                0                0   \n\nreleased   1.03.2002 00:00  1.03.2013 00:00  ...  9.11.1994 00:00  \\\ngenre                                        ...                    \n0                        0                0  ...                0   \nAction                   1                0  ...                0   \nAdventure                0                1  ...                0   \nAnimation                0                0  ...                0   \nBiography                0                0  ...                0   \nComedy                   1                1  ...                1   \nCrime                    0                0  ...                0   \nDrama                    1                0  ...                0   \nFamily                   0                0  ...                0   \nFantasy                  0                0  ...                0   \nHorror                   0                0  ...                0   \nMystery                  0                0  ...                0   \nRomance                  0                0  ...                0   \nSci-Fi                   0                0  ...                0   \nThriller                 0                0  ...                0   \nWestern                  0                0  ...                0   \n\nreleased   9.11.2001 00:00  9.11.2005 00:00  9.11.2007 00:00  9.11.2012 00:00  \\\ngenre                                                                           \n0                        0                0                0                0   \nAction                   0                0                0                1   \nAdventure                0                0                0                0   \nAnimation                0                0                0                0   \nBiography                0                1                0                0   \nComedy                   1                0                1                0   \nCrime                    0                0                1                0   \nDrama                    1                0                1                0   \nFamily                   0                0                0                0   \nFantasy                  0                0                0                0   \nHorror                   0                0                0                0   \nMystery                  0                0                0                0   \nRomance                  0                0                0                0   \nSci-Fi                   0                0                0                0   \nThriller                 0                0                0                0   \nWestern                  0                0                0                0   \n\nreleased   9.12.1988 00:00  9.12.1994 00:00  9.12.2005 00:00  9.12.2011 00:00  \\\ngenre                                                                           \n0                        0                0                0                0   \nAction                   0                1                0                0   \nAdventure                0                0                1                0   \nAnimation                0                0                0                0   \nBiography                0                0                0                0   \nComedy                   1                0                0                1   \nCrime                    0                0                0                0   \nDrama                    0                1                1                1   \nFamily                   0                0                0                0   \nFantasy                  0                0                0                0   \nHorror                   0                0                0                0   \nMystery                  0                0                0                0   \nRomance                  0                0                0                0   \nSci-Fi                   0                0                0                0   \nThriller                 0                0                0                0   \nWestern                  0                0                0                0   \n\nreleased   9.12.2016 00:00  \ngenre                       \n0                        0  \nAction                   0  \nAdventure                0  \nAnimation                0  \nBiography                0  \nComedy                   1  \nCrime                    1  \nDrama                    0  \nFamily                   0  \nFantasy                  0  \nHorror                   0  \nMystery                  0  \nRomance                  0  \nSci-Fi                   0  \nThriller                 0  \nWestern                  0  \n\n[16 rows x 1772 columns]",
      "text/html": "<div>\n<style scoped>\n    .dataframe tbody tr th:only-of-type {\n        vertical-align: middle;\n    }\n\n    .dataframe tbody tr th {\n        vertical-align: top;\n    }\n\n    .dataframe thead th {\n        text-align: right;\n    }\n</style>\n<table border=\"1\" class=\"dataframe\">\n  <thead>\n    <tr style=\"text-align: right;\">\n      <th>released</th>\n      <th>0</th>\n      <th>1.01.2004 00:00</th>\n      <th>1.02.1991 00:00</th>\n      <th>1.02.2002 00:00</th>\n      <th>1.02.2008 00:00</th>\n      <th>1.02.2013 00:00</th>\n      <th>1.03.1991 00:00</th>\n      <th>1.03.1996 00:00</th>\n      <th>1.03.2002 00:00</th>\n      <th>1.03.2013 00:00</th>\n      <th>...</th>\n      <th>9.11.1994 00:00</th>\n      <th>9.11.2001 00:00</th>\n      <th>9.11.2005 00:00</th>\n      <th>9.11.2007 00:00</th>\n      <th>9.11.2012 00:00</th>\n      <th>9.12.1988 00:00</th>\n      <th>9.12.1994 00:00</th>\n      <th>9.12.2005 00:00</th>\n      <th>9.12.2011 00:00</th>\n      <th>9.12.2016 00:00</th>\n    </tr>\n    <tr>\n      <th>genre</th>\n      <th></th>\n      <th></th>\n      <th></th>\n      <th></th>\n      <th></th>\n      <th></th>\n      <th></th>\n      <th></th>\n      <th></th>\n      <th></th>\n      <th></th>\n      <th></th>\n      <th></th>\n      <th></th>\n      <th></th>\n      <th></th>\n      <th></th>\n      <th></th>\n      <th></th>\n      <th></th>\n      <th></th>\n    </tr>\n  </thead>\n  <tbody>\n    <tr>\n      <th>0</th>\n      <td>9</td>\n      <td>0</td>\n      <td>0</td>\n      <td>0</td>\n      <td>0</td>\n      <td>0</td>\n      <td>0</td>\n      <td>0</td>\n      <td>0</td>\n      <td>0</td>\n      <td>...</td>\n      <td>0</td>\n      <td>0</td>\n      <td>0</td>\n      <td>0</td>\n      <td>0</td>\n      <td>0</td>\n      <td>0</td>\n      <td>0</td>\n      <td>0</td>\n      <td>0</td>\n    </tr>\n    <tr>\n      <th>Action</th>\n      <td>0</td>\n      <td>0</td>\n      <td>0</td>\n      <td>0</td>\n      <td>0</td>\n      <td>1</td>\n      <td>0</td>\n      <td>0</td>\n      <td>1</td>\n      <td>0</td>\n      <td>...</td>\n      <td>0</td>\n      <td>0</td>\n      <td>0</td>\n      <td>0</td>\n      <td>1</td>\n      <td>0</td>\n      <td>1</td>\n      <td>0</td>\n      <td>0</td>\n      <td>0</td>\n    </tr>\n    <tr>\n      <th>Adventure</th>\n      <td>0</td>\n      <td>0</td>\n      <td>0</td>\n      <td>0</td>\n      <td>1</td>\n      <td>0</td>\n      <td>0</td>\n      <td>0</td>\n      <td>0</td>\n      <td>1</td>\n      <td>...</td>\n      <td>0</td>\n      <td>0</td>\n      <td>0</td>\n      <td>0</td>\n      <td>0</td>\n      <td>0</td>\n      <td>0</td>\n      <td>1</td>\n      <td>0</td>\n      <td>0</td>\n    </tr>\n    <tr>\n      <th>Animation</th>\n      <td>0</td>\n      <td>0</td>\n      <td>0</td>\n      <td>0</td>\n      <td>0</td>\n      <td>0</td>\n      <td>0</td>\n      <td>0</td>\n      <td>0</td>\n      <td>0</td>\n      <td>...</td>\n      <td>0</td>\n      <td>0</td>\n      <td>0</td>\n      <td>0</td>\n      <td>0</td>\n      <td>0</td>\n      <td>0</td>\n      <td>0</td>\n      <td>0</td>\n      <td>0</td>\n    </tr>\n    <tr>\n      <th>Biography</th>\n      <td>0</td>\n      <td>0</td>\n      <td>0</td>\n      <td>0</td>\n      <td>0</td>\n      <td>0</td>\n      <td>1</td>\n      <td>0</td>\n      <td>0</td>\n      <td>0</td>\n      <td>...</td>\n      <td>0</td>\n      <td>0</td>\n      <td>1</td>\n      <td>0</td>\n      <td>0</td>\n      <td>0</td>\n      <td>0</td>\n      <td>0</td>\n      <td>0</td>\n      <td>0</td>\n    </tr>\n    <tr>\n      <th>Comedy</th>\n      <td>0</td>\n      <td>1</td>\n      <td>2</td>\n      <td>2</td>\n      <td>1</td>\n      <td>2</td>\n      <td>0</td>\n      <td>1</td>\n      <td>1</td>\n      <td>1</td>\n      <td>...</td>\n      <td>1</td>\n      <td>1</td>\n      <td>0</td>\n      <td>1</td>\n      <td>0</td>\n      <td>1</td>\n      <td>0</td>\n      <td>0</td>\n      <td>1</td>\n      <td>1</td>\n    </tr>\n    <tr>\n      <th>Crime</th>\n      <td>0</td>\n      <td>0</td>\n      <td>0</td>\n      <td>0</td>\n      <td>0</td>\n      <td>0</td>\n      <td>0</td>\n      <td>0</td>\n      <td>0</td>\n      <td>0</td>\n      <td>...</td>\n      <td>0</td>\n      <td>0</td>\n      <td>0</td>\n      <td>1</td>\n      <td>0</td>\n      <td>0</td>\n      <td>0</td>\n      <td>0</td>\n      <td>0</td>\n      <td>1</td>\n    </tr>\n    <tr>\n      <th>Drama</th>\n      <td>0</td>\n      <td>0</td>\n      <td>0</td>\n      <td>0</td>\n      <td>0</td>\n      <td>0</td>\n      <td>0</td>\n      <td>1</td>\n      <td>1</td>\n      <td>0</td>\n      <td>...</td>\n      <td>0</td>\n      <td>1</td>\n      <td>0</td>\n      <td>1</td>\n      <td>0</td>\n      <td>0</td>\n      <td>1</td>\n      <td>1</td>\n      <td>1</td>\n      <td>0</td>\n    </tr>\n    <tr>\n      <th>Family</th>\n      <td>0</td>\n      <td>0</td>\n      <td>0</td>\n      <td>0</td>\n      <td>0</td>\n      <td>0</td>\n      <td>0</td>\n      <td>0</td>\n      <td>0</td>\n      <td>0</td>\n      <td>...</td>\n      <td>0</td>\n      <td>0</td>\n      <td>0</td>\n      <td>0</td>\n      <td>0</td>\n      <td>0</td>\n      <td>0</td>\n      <td>0</td>\n      <td>0</td>\n      <td>0</td>\n    </tr>\n    <tr>\n      <th>Fantasy</th>\n      <td>0</td>\n      <td>0</td>\n      <td>0</td>\n      <td>0</td>\n      <td>0</td>\n      <td>0</td>\n      <td>0</td>\n      <td>0</td>\n      <td>0</td>\n      <td>0</td>\n      <td>...</td>\n      <td>0</td>\n      <td>0</td>\n      <td>0</td>\n      <td>0</td>\n      <td>0</td>\n      <td>0</td>\n      <td>0</td>\n      <td>0</td>\n      <td>0</td>\n      <td>0</td>\n    </tr>\n    <tr>\n      <th>Horror</th>\n      <td>0</td>\n      <td>0</td>\n      <td>0</td>\n      <td>0</td>\n      <td>0</td>\n      <td>0</td>\n      <td>0</td>\n      <td>0</td>\n      <td>0</td>\n      <td>0</td>\n      <td>...</td>\n      <td>0</td>\n      <td>0</td>\n      <td>0</td>\n      <td>0</td>\n      <td>0</td>\n      <td>0</td>\n      <td>0</td>\n      <td>0</td>\n      <td>0</td>\n      <td>0</td>\n    </tr>\n    <tr>\n      <th>Mystery</th>\n      <td>0</td>\n      <td>0</td>\n      <td>0</td>\n      <td>0</td>\n      <td>0</td>\n      <td>0</td>\n      <td>0</td>\n      <td>0</td>\n      <td>0</td>\n      <td>0</td>\n      <td>...</td>\n      <td>0</td>\n      <td>0</td>\n      <td>0</td>\n      <td>0</td>\n      <td>0</td>\n      <td>0</td>\n      <td>0</td>\n      <td>0</td>\n      <td>0</td>\n      <td>0</td>\n    </tr>\n    <tr>\n      <th>Romance</th>\n      <td>0</td>\n      <td>0</td>\n      <td>0</td>\n      <td>0</td>\n      <td>0</td>\n      <td>0</td>\n      <td>0</td>\n      <td>0</td>\n      <td>0</td>\n      <td>0</td>\n      <td>...</td>\n      <td>0</td>\n      <td>0</td>\n      <td>0</td>\n      <td>0</td>\n      <td>0</td>\n      <td>0</td>\n      <td>0</td>\n      <td>0</td>\n      <td>0</td>\n      <td>0</td>\n    </tr>\n    <tr>\n      <th>Sci-Fi</th>\n      <td>0</td>\n      <td>0</td>\n      <td>0</td>\n      <td>0</td>\n      <td>0</td>\n      <td>0</td>\n      <td>0</td>\n      <td>0</td>\n      <td>0</td>\n      <td>0</td>\n      <td>...</td>\n      <td>0</td>\n      <td>0</td>\n      <td>0</td>\n      <td>0</td>\n      <td>0</td>\n      <td>0</td>\n      <td>0</td>\n      <td>0</td>\n      <td>0</td>\n      <td>0</td>\n    </tr>\n    <tr>\n      <th>Thriller</th>\n      <td>0</td>\n      <td>0</td>\n      <td>0</td>\n      <td>0</td>\n      <td>0</td>\n      <td>0</td>\n      <td>0</td>\n      <td>0</td>\n      <td>0</td>\n      <td>0</td>\n      <td>...</td>\n      <td>0</td>\n      <td>0</td>\n      <td>0</td>\n      <td>0</td>\n      <td>0</td>\n      <td>0</td>\n      <td>0</td>\n      <td>0</td>\n      <td>0</td>\n      <td>0</td>\n    </tr>\n    <tr>\n      <th>Western</th>\n      <td>0</td>\n      <td>0</td>\n      <td>0</td>\n      <td>0</td>\n      <td>0</td>\n      <td>0</td>\n      <td>0</td>\n      <td>0</td>\n      <td>0</td>\n      <td>0</td>\n      <td>...</td>\n      <td>0</td>\n      <td>0</td>\n      <td>0</td>\n      <td>0</td>\n      <td>0</td>\n      <td>0</td>\n      <td>0</td>\n      <td>0</td>\n      <td>0</td>\n      <td>0</td>\n    </tr>\n  </tbody>\n</table>\n<p>16 rows × 1772 columns</p>\n</div>"
     },
     "metadata": {}
    },
    {
     "output_type": "stream",
     "name": "stdout",
     "text": [
      "Observed Values\n"
     ]
    },
    {
     "output_type": "display_data",
     "data": {
      "text/plain": "array([[9, 0, 0, ..., 0, 0, 0],\n       [0, 0, 0, ..., 0, 0, 0],\n       [0, 0, 0, ..., 1, 0, 0],\n       ...,\n       [0, 0, 0, ..., 0, 0, 0],\n       [0, 0, 0, ..., 0, 0, 0],\n       [0, 0, 0, ..., 0, 0, 0]], dtype=int64)"
     },
     "metadata": {}
    },
    {
     "output_type": "stream",
     "name": "stdout",
     "text": [
      "chi2_test_statistic, p, dof, expected\n"
     ]
    },
    {
     "output_type": "display_data",
     "data": {
      "text/plain": "29127.625975806837"
     },
     "metadata": {}
    },
    {
     "output_type": "display_data",
     "data": {
      "text/plain": "2.0946853130285455e-27"
     },
     "metadata": {}
    },
    {
     "output_type": "display_data",
     "data": {
      "text/plain": "26565"
     },
     "metadata": {}
    },
    {
     "output_type": "display_data",
     "data": {
      "text/plain": "array([[2.29852440e-02, 2.55391600e-03, 5.10783201e-03, ...,\n        5.10783201e-03, 5.10783201e-03, 5.10783201e-03],\n       [2.02780931e+00, 2.25312145e-01, 4.50624291e-01, ...,\n        4.50624291e-01, 4.50624291e-01, 4.50624291e-01],\n       [5.69523269e-01, 6.32803632e-02, 1.26560726e-01, ...,\n        1.26560726e-01, 1.26560726e-01, 1.26560726e-01],\n       ...,\n       [2.04313280e-02, 2.27014756e-03, 4.54029512e-03, ...,\n        4.54029512e-03, 4.54029512e-03, 4.54029512e-03],\n       [1.53234960e-02, 1.70261067e-03, 3.40522134e-03, ...,\n        3.40522134e-03, 3.40522134e-03, 3.40522134e-03],\n       [2.55391600e-03, 2.83768445e-04, 5.67536890e-04, ...,\n        5.67536890e-04, 5.67536890e-04, 5.67536890e-04]])"
     },
     "metadata": {}
    },
    {
     "output_type": "stream",
     "name": "stdout",
     "text": [
      "critical = 26945.271, chi2_test_statistic = 29127.626\nDependent (reject H0)\n\nsignificance = 0.050, p = 0.000\nDependent (reject H0)\n"
     ]
    },
    {
     "output_type": "display_data",
     "data": {
      "text/plain": "isprofit     0    1\ngenre              \n0            9    0\nAction     426  368\nAdventure  101  122\nAnimation   64  103\nBiography  108   85\nComedy     474  600\nCrime      140  122\nDrama      327  262\nFamily       3    0\nFantasy      5   14\nHorror      48  100\nMystery      9   15\nRomance      2    2\nSci-Fi       4    4\nThriller     4    2\nWestern      1    0",
      "text/html": "<div>\n<style scoped>\n    .dataframe tbody tr th:only-of-type {\n        vertical-align: middle;\n    }\n\n    .dataframe tbody tr th {\n        vertical-align: top;\n    }\n\n    .dataframe thead th {\n        text-align: right;\n    }\n</style>\n<table border=\"1\" class=\"dataframe\">\n  <thead>\n    <tr style=\"text-align: right;\">\n      <th>isprofit</th>\n      <th>0</th>\n      <th>1</th>\n    </tr>\n    <tr>\n      <th>genre</th>\n      <th></th>\n      <th></th>\n    </tr>\n  </thead>\n  <tbody>\n    <tr>\n      <th>0</th>\n      <td>9</td>\n      <td>0</td>\n    </tr>\n    <tr>\n      <th>Action</th>\n      <td>426</td>\n      <td>368</td>\n    </tr>\n    <tr>\n      <th>Adventure</th>\n      <td>101</td>\n      <td>122</td>\n    </tr>\n    <tr>\n      <th>Animation</th>\n      <td>64</td>\n      <td>103</td>\n    </tr>\n    <tr>\n      <th>Biography</th>\n      <td>108</td>\n      <td>85</td>\n    </tr>\n    <tr>\n      <th>Comedy</th>\n      <td>474</td>\n      <td>600</td>\n    </tr>\n    <tr>\n      <th>Crime</th>\n      <td>140</td>\n      <td>122</td>\n    </tr>\n    <tr>\n      <th>Drama</th>\n      <td>327</td>\n      <td>262</td>\n    </tr>\n    <tr>\n      <th>Family</th>\n      <td>3</td>\n      <td>0</td>\n    </tr>\n    <tr>\n      <th>Fantasy</th>\n      <td>5</td>\n      <td>14</td>\n    </tr>\n    <tr>\n      <th>Horror</th>\n      <td>48</td>\n      <td>100</td>\n    </tr>\n    <tr>\n      <th>Mystery</th>\n      <td>9</td>\n      <td>15</td>\n    </tr>\n    <tr>\n      <th>Romance</th>\n      <td>2</td>\n      <td>2</td>\n    </tr>\n    <tr>\n      <th>Sci-Fi</th>\n      <td>4</td>\n      <td>4</td>\n    </tr>\n    <tr>\n      <th>Thriller</th>\n      <td>4</td>\n      <td>2</td>\n    </tr>\n    <tr>\n      <th>Western</th>\n      <td>1</td>\n      <td>0</td>\n    </tr>\n  </tbody>\n</table>\n</div>"
     },
     "metadata": {}
    },
    {
     "output_type": "stream",
     "name": "stdout",
     "text": [
      "Observed Values\n"
     ]
    },
    {
     "output_type": "display_data",
     "data": {
      "text/plain": "array([[  9,   0],\n       [426, 368],\n       [101, 122],\n       [ 64, 103],\n       [108,  85],\n       [474, 600],\n       [140, 122],\n       [327, 262],\n       [  3,   0],\n       [  5,  14],\n       [ 48, 100],\n       [  9,  15],\n       [  2,   2],\n       [  4,   4],\n       [  4,   2],\n       [  1,   0]], dtype=int64)"
     },
     "metadata": {}
    },
    {
     "output_type": "stream",
     "name": "stdout",
     "text": [
      "chi2_test_statistic, p, dof, expected\n"
     ]
    },
    {
     "output_type": "display_data",
     "data": {
      "text/plain": "77.43533448482708"
     },
     "metadata": {}
    },
    {
     "output_type": "display_data",
     "data": {
      "text/plain": "2.0497069292208742e-10"
     },
     "metadata": {}
    },
    {
     "output_type": "display_data",
     "data": {
      "text/plain": "15"
     },
     "metadata": {}
    },
    {
     "output_type": "display_data",
     "data": {
      "text/plain": "array([[4.40550511e+00, 4.59449489e+00],\n       [3.88663451e+02, 4.05336549e+02],\n       [1.09158627e+02, 1.13841373e+02],\n       [8.17465948e+01, 8.52534052e+01],\n       [9.44736095e+01, 9.85263905e+01],\n       [5.25723610e+02, 5.48276390e+02],\n       [1.28249149e+02, 1.33750851e+02],\n       [2.88315834e+02, 3.00684166e+02],\n       [1.46850170e+00, 1.53149830e+00],\n       [9.30051078e+00, 9.69948922e+00],\n       [7.24460840e+01, 7.55539160e+01],\n       [1.17480136e+01, 1.22519864e+01],\n       [1.95800227e+00, 2.04199773e+00],\n       [3.91600454e+00, 4.08399546e+00],\n       [2.93700341e+00, 3.06299659e+00],\n       [4.89500568e-01, 5.10499432e-01]])"
     },
     "metadata": {}
    },
    {
     "output_type": "stream",
     "name": "stdout",
     "text": [
      "critical = 24.996, chi2_test_statistic = 77.435\nDependent (reject H0)\n\nsignificance = 0.050, p = 0.000\nDependent (reject H0)\n"
     ]
    },
    {
     "output_type": "display_data",
     "data": {
      "text/plain": "country                                 Other   USA\ncompany                                            \nCastle Rock Entertainment                   2    35\nColumbia Pictures                           7    81\nColumbia Pictures Corporation               6   111\nDimension Films                             0    34\nDreamWorks                                  2    59\nFox 2000 Pictures                           1    45\nFox Searchlight Pictures                    5    30\nHollywood Pictures                          1    30\nMetro-Goldwyn-Mayer (MGM)                   6    54\nMiramax                                     7    38\nNew Line Cinema                            10   109\nOther                                     373  1504\nParamount Pictures                          9   168\nScreen Gems                                 0    32\nSummit Entertainment                        1    30\nTouchstone Pictures                         6    70\nTriStar Pictures                            1    40\nTwentieth Century Fox Film Corporation      9   119\nUniversal Pictures                         27   181\nWalt Disney Pictures                        4    65\nWarner Bros.                               20   192",
      "text/html": "<div>\n<style scoped>\n    .dataframe tbody tr th:only-of-type {\n        vertical-align: middle;\n    }\n\n    .dataframe tbody tr th {\n        vertical-align: top;\n    }\n\n    .dataframe thead th {\n        text-align: right;\n    }\n</style>\n<table border=\"1\" class=\"dataframe\">\n  <thead>\n    <tr style=\"text-align: right;\">\n      <th>country</th>\n      <th>Other</th>\n      <th>USA</th>\n    </tr>\n    <tr>\n      <th>company</th>\n      <th></th>\n      <th></th>\n    </tr>\n  </thead>\n  <tbody>\n    <tr>\n      <th>Castle Rock Entertainment</th>\n      <td>2</td>\n      <td>35</td>\n    </tr>\n    <tr>\n      <th>Columbia Pictures</th>\n      <td>7</td>\n      <td>81</td>\n    </tr>\n    <tr>\n      <th>Columbia Pictures Corporation</th>\n      <td>6</td>\n      <td>111</td>\n    </tr>\n    <tr>\n      <th>Dimension Films</th>\n      <td>0</td>\n      <td>34</td>\n    </tr>\n    <tr>\n      <th>DreamWorks</th>\n      <td>2</td>\n      <td>59</td>\n    </tr>\n    <tr>\n      <th>Fox 2000 Pictures</th>\n      <td>1</td>\n      <td>45</td>\n    </tr>\n    <tr>\n      <th>Fox Searchlight Pictures</th>\n      <td>5</td>\n      <td>30</td>\n    </tr>\n    <tr>\n      <th>Hollywood Pictures</th>\n      <td>1</td>\n      <td>30</td>\n    </tr>\n    <tr>\n      <th>Metro-Goldwyn-Mayer (MGM)</th>\n      <td>6</td>\n      <td>54</td>\n    </tr>\n    <tr>\n      <th>Miramax</th>\n      <td>7</td>\n      <td>38</td>\n    </tr>\n    <tr>\n      <th>New Line Cinema</th>\n      <td>10</td>\n      <td>109</td>\n    </tr>\n    <tr>\n      <th>Other</th>\n      <td>373</td>\n      <td>1504</td>\n    </tr>\n    <tr>\n      <th>Paramount Pictures</th>\n      <td>9</td>\n      <td>168</td>\n    </tr>\n    <tr>\n      <th>Screen Gems</th>\n      <td>0</td>\n      <td>32</td>\n    </tr>\n    <tr>\n      <th>Summit Entertainment</th>\n      <td>1</td>\n      <td>30</td>\n    </tr>\n    <tr>\n      <th>Touchstone Pictures</th>\n      <td>6</td>\n      <td>70</td>\n    </tr>\n    <tr>\n      <th>TriStar Pictures</th>\n      <td>1</td>\n      <td>40</td>\n    </tr>\n    <tr>\n      <th>Twentieth Century Fox Film Corporation</th>\n      <td>9</td>\n      <td>119</td>\n    </tr>\n    <tr>\n      <th>Universal Pictures</th>\n      <td>27</td>\n      <td>181</td>\n    </tr>\n    <tr>\n      <th>Walt Disney Pictures</th>\n      <td>4</td>\n      <td>65</td>\n    </tr>\n    <tr>\n      <th>Warner Bros.</th>\n      <td>20</td>\n      <td>192</td>\n    </tr>\n  </tbody>\n</table>\n</div>"
     },
     "metadata": {}
    },
    {
     "output_type": "stream",
     "name": "stdout",
     "text": [
      "Observed Values\n"
     ]
    },
    {
     "output_type": "display_data",
     "data": {
      "text/plain": "array([[   2,   35],\n       [   7,   81],\n       [   6,  111],\n       [   0,   34],\n       [   2,   59],\n       [   1,   45],\n       [   5,   30],\n       [   1,   30],\n       [   6,   54],\n       [   7,   38],\n       [  10,  109],\n       [ 373, 1504],\n       [   9,  168],\n       [   0,   32],\n       [   1,   30],\n       [   6,   70],\n       [   1,   40],\n       [   9,  119],\n       [  27,  181],\n       [   4,   65],\n       [  20,  192]], dtype=int64)"
     },
     "metadata": {}
    },
    {
     "output_type": "stream",
     "name": "stdout",
     "text": [
      "chi2_test_statistic, p, dof, expected\n"
     ]
    },
    {
     "output_type": "display_data",
     "data": {
      "text/plain": "128.8536092427827"
     },
     "metadata": {}
    },
    {
     "output_type": "display_data",
     "data": {
      "text/plain": "6.393766101906721e-18"
     },
     "metadata": {}
    },
    {
     "output_type": "display_data",
     "data": {
      "text/plain": "20"
     },
     "metadata": {}
    },
    {
     "output_type": "display_data",
     "data": {
      "text/plain": "array([[   5.21821793,   31.78178207],\n       [  12.41089671,   75.58910329],\n       [  16.50085131,  100.49914869],\n       [   4.79511918,   29.20488082],\n       [   8.60300795,   52.39699205],\n       [   6.48751419,   39.51248581],\n       [   4.9361521 ,   30.0638479 ],\n       [   4.37202043,   26.62797957],\n       [   8.46197503,   51.53802497],\n       [   6.34648127,   38.65351873],\n       [  16.78291714,  102.21708286],\n       [ 264.71878547, 1612.28121453],\n       [  24.96282633,  152.03717367],\n       [   4.51305335,   27.48694665],\n       [   4.37202043,   26.62797957],\n       [  10.7185017 ,   65.2814983 ],\n       [   5.7823496 ,   35.2176504 ],\n       [  18.05221339,  109.94778661],\n       [  29.33484677,  178.66515323],\n       [   9.73127128,   59.26872872],\n       [  29.89897843,  182.10102157]])"
     },
     "metadata": {}
    },
    {
     "output_type": "stream",
     "name": "stdout",
     "text": [
      "critical = 31.410, chi2_test_statistic = 128.854\nDependent (reject H0)\n\nsignificance = 0.050, p = 0.000\nDependent (reject H0)\n"
     ]
    },
    {
     "output_type": "display_data",
     "data": {
      "text/plain": "director                                Barry Levinson  Bruce Beresford  \\\ncompany                                                                   \nCastle Rock Entertainment                            0                0   \nColumbia Pictures                                    0                0   \nColumbia Pictures Corporation                        0                0   \nDimension Films                                      0                0   \nDreamWorks                                           0                0   \nFox 2000 Pictures                                    0                0   \nFox Searchlight Pictures                             0                0   \nHollywood Pictures                                   0                0   \nMetro-Goldwyn-Mayer (MGM)                            0                1   \nMiramax                                              0                0   \nNew Line Cinema                                      0                0   \nOther                                                8                8   \nParamount Pictures                                   0                1   \nScreen Gems                                          0                0   \nSummit Entertainment                                 0                0   \nTouchstone Pictures                                  1                0   \nTriStar Pictures                                     1                0   \nTwentieth Century Fox Film Corporation               0                0   \nUniversal Pictures                                   0                0   \nWalt Disney Pictures                                 0                0   \nWarner Bros.                                         2                0   \n\ndirector                                Clint Eastwood  Dennis Dugan  \\\ncompany                                                                \nCastle Rock Entertainment                            1             0   \nColumbia Pictures                                    0             5   \nColumbia Pictures Corporation                        0             1   \nDimension Films                                      0             0   \nDreamWorks                                           1             0   \nFox 2000 Pictures                                    0             0   \nFox Searchlight Pictures                             0             0   \nHollywood Pictures                                   0             0   \nMetro-Goldwyn-Mayer (MGM)                            0             0   \nMiramax                                              0             0   \nNew Line Cinema                                      0             0   \nOther                                               10             2   \nParamount Pictures                                   0             0   \nScreen Gems                                          0             0   \nSummit Entertainment                                 0             0   \nTouchstone Pictures                                  0             0   \nTriStar Pictures                                     0             0   \nTwentieth Century Fox Film Corporation               0             0   \nUniversal Pictures                                   0             3   \nWalt Disney Pictures                                 0             0   \nWarner Bros.                                         8             0   \n\ndirector                                Martin Scorsese  Michael Apted  \\\ncompany                                                                  \nCastle Rock Entertainment                             0              1   \nColumbia Pictures                                     0              0   \nColumbia Pictures Corporation                         0              1   \nDimension Films                                       0              0   \nDreamWorks                                            0              0   \nFox 2000 Pictures                                     0              2   \nFox Searchlight Pictures                              0              0   \nHollywood Pictures                                    0              0   \nMetro-Goldwyn-Mayer (MGM)                             0              0   \nMiramax                                               1              0   \nNew Line Cinema                                       0              1   \nOther                                                 3              2   \nParamount Pictures                                    2              1   \nScreen Gems                                           0              0   \nSummit Entertainment                                  0              0   \nTouchstone Pictures                                   1              0   \nTriStar Pictures                                      0              1   \nTwentieth Century Fox Film Corporation                0              0   \nUniversal Pictures                                    2              1   \nWalt Disney Pictures                                  0              0   \nWarner Bros.                                          1              0   \n\ndirector                                Oliver Stone  Other  Renny Harlin  \\\ncompany                                                                     \nCastle Rock Entertainment                          0     28             0   \nColumbia Pictures                                  0     80             0   \nColumbia Pictures Corporation                      0    109             0   \nDimension Films                                    0     30             0   \nDreamWorks                                         0     46             0   \nFox 2000 Pictures                                  0     43             0   \nFox Searchlight Pictures                           0     34             0   \nHollywood Pictures                                 0     30             0   \nMetro-Goldwyn-Mayer (MGM)                          0     57             0   \nMiramax                                            0     41             0   \nNew Line Cinema                                    0    115             1   \nOther                                              7   1762             7   \nParamount Pictures                                 1    161             0   \nScreen Gems                                        0     32             0   \nSummit Entertainment                               0     30             1   \nTouchstone Pictures                                0     70             0   \nTriStar Pictures                                   0     37             0   \nTwentieth Century Fox Film Corporation             2    116             2   \nUniversal Pictures                                 0    178             0   \nWalt Disney Pictures                               0     68             0   \nWarner Bros.                                       4    174             1   \n\ndirector                                Richard Donner  ...  Ridley Scott  \\\ncompany                                                 ...                 \nCastle Rock Entertainment                            0  ...             0   \nColumbia Pictures                                    0  ...             0   \nColumbia Pictures Corporation                        1  ...             1   \nDimension Films                                      0  ...             0   \nDreamWorks                                           0  ...             1   \nFox 2000 Pictures                                    0  ...             1   \nFox Searchlight Pictures                             0  ...             0   \nHollywood Pictures                                   0  ...             1   \nMetro-Goldwyn-Mayer (MGM)                            0  ...             1   \nMiramax                                              0  ...             0   \nNew Line Cinema                                      0  ...             0   \nOther                                                2  ...             4   \nParamount Pictures                                   2  ...             0   \nScreen Gems                                          0  ...             0   \nSummit Entertainment                                 0  ...             0   \nTouchstone Pictures                                  0  ...             0   \nTriStar Pictures                                     0  ...             0   \nTwentieth Century Fox Film Corporation               0  ...             3   \nUniversal Pictures                                   0  ...             1   \nWalt Disney Pictures                                 0  ...             0   \nWarner Bros.                                         6  ...             2   \n\ndirector                                Rob Reiner  Robert Zemeckis  \\\ncompany                                                               \nCastle Rock Entertainment                        5                1   \nColumbia Pictures                                0                0   \nColumbia Pictures Corporation                    2                0   \nDimension Films                                  0                0   \nDreamWorks                                       0                1   \nFox 2000 Pictures                                0                0   \nFox Searchlight Pictures                         0                0   \nHollywood Pictures                               0                0   \nMetro-Goldwyn-Mayer (MGM)                        0                0   \nMiramax                                          0                0   \nNew Line Cinema                                  0                0   \nOther                                            3                2   \nParamount Pictures                               0                2   \nScreen Gems                                      0                0   \nSummit Entertainment                             0                0   \nTouchstone Pictures                              0                1   \nTriStar Pictures                                 0                0   \nTwentieth Century Fox Film Corporation           0                1   \nUniversal Pictures                               1                3   \nWalt Disney Pictures                             0                0   \nWarner Bros.                                     2                1   \n\ndirector                                Ron Howard  Spike Lee  \\\ncompany                                                         \nCastle Rock Entertainment                        0          0   \nColumbia Pictures                                2          0   \nColumbia Pictures Corporation                    0          1   \nDimension Films                                  0          0   \nDreamWorks                                       0          0   \nFox 2000 Pictures                                0          0   \nFox Searchlight Pictures                         0          1   \nHollywood Pictures                               0          0   \nMetro-Goldwyn-Mayer (MGM)                        1          0   \nMiramax                                          0          0   \nNew Line Cinema                                  0          1   \nOther                                            5          6   \nParamount Pictures                               1          0   \nScreen Gems                                      0          0   \nSummit Entertainment                             0          0   \nTouchstone Pictures                              0          1   \nTriStar Pictures                                 0          0   \nTwentieth Century Fox Film Corporation           0          0   \nUniversal Pictures                               7          5   \nWalt Disney Pictures                             0          0   \nWarner Bros.                                     1          0   \n\ndirector                                Steven Soderbergh  Steven Spielberg  \\\ncompany                                                                       \nCastle Rock Entertainment                               0                 0   \nColumbia Pictures                                       0                 1   \nColumbia Pictures Corporation                           0                 0   \nDimension Films                                         0                 0   \nDreamWorks                                              0                 7   \nFox 2000 Pictures                                       0                 0   \nFox Searchlight Pictures                                0                 0   \nHollywood Pictures                                      0                 0   \nMetro-Goldwyn-Mayer (MGM)                               0                 0   \nMiramax                                                 1                 0   \nNew Line Cinema                                         0                 0   \nOther                                                   9                 2   \nParamount Pictures                                      0                 3   \nScreen Gems                                             0                 0   \nSummit Entertainment                                    0                 0   \nTouchstone Pictures                                     0                 0   \nTriStar Pictures                                        0                 0   \nTwentieth Century Fox Film Corporation                  0                 1   \nUniversal Pictures                                      2                 3   \nWalt Disney Pictures                                    0                 1   \nWarner Bros.                                            5                 1   \n\ndirector                                Tim Burton  Wes Craven  Woody Allen  \ncompany                                                                      \nCastle Rock Entertainment                        0           0            0  \nColumbia Pictures                                0           0            0  \nColumbia Pictures Corporation                    1           0            0  \nDimension Films                                  0           4            0  \nDreamWorks                                       0           1            4  \nFox 2000 Pictures                                0           0            0  \nFox Searchlight Pictures                         0           0            0  \nHollywood Pictures                               0           0            0  \nMetro-Goldwyn-Mayer (MGM)                        0           0            0  \nMiramax                                          0           0            2  \nNew Line Cinema                                  0           1            0  \nOther                                            3           4           19  \nParamount Pictures                               1           0            0  \nScreen Gems                                      0           0            0  \nSummit Entertainment                             0           0            0  \nTouchstone Pictures                              1           0            1  \nTriStar Pictures                                 0           0            2  \nTwentieth Century Fox Film Corporation           2           0            0  \nUniversal Pictures                               0           2            0  \nWalt Disney Pictures                             0           0            0  \nWarner Bros.                                     4           0            0  \n\n[21 rows x 21 columns]",
      "text/html": "<div>\n<style scoped>\n    .dataframe tbody tr th:only-of-type {\n        vertical-align: middle;\n    }\n\n    .dataframe tbody tr th {\n        vertical-align: top;\n    }\n\n    .dataframe thead th {\n        text-align: right;\n    }\n</style>\n<table border=\"1\" class=\"dataframe\">\n  <thead>\n    <tr style=\"text-align: right;\">\n      <th>director</th>\n      <th>Barry Levinson</th>\n      <th>Bruce Beresford</th>\n      <th>Clint Eastwood</th>\n      <th>Dennis Dugan</th>\n      <th>Martin Scorsese</th>\n      <th>Michael Apted</th>\n      <th>Oliver Stone</th>\n      <th>Other</th>\n      <th>Renny Harlin</th>\n      <th>Richard Donner</th>\n      <th>...</th>\n      <th>Ridley Scott</th>\n      <th>Rob Reiner</th>\n      <th>Robert Zemeckis</th>\n      <th>Ron Howard</th>\n      <th>Spike Lee</th>\n      <th>Steven Soderbergh</th>\n      <th>Steven Spielberg</th>\n      <th>Tim Burton</th>\n      <th>Wes Craven</th>\n      <th>Woody Allen</th>\n    </tr>\n    <tr>\n      <th>company</th>\n      <th></th>\n      <th></th>\n      <th></th>\n      <th></th>\n      <th></th>\n      <th></th>\n      <th></th>\n      <th></th>\n      <th></th>\n      <th></th>\n      <th></th>\n      <th></th>\n      <th></th>\n      <th></th>\n      <th></th>\n      <th></th>\n      <th></th>\n      <th></th>\n      <th></th>\n      <th></th>\n      <th></th>\n    </tr>\n  </thead>\n  <tbody>\n    <tr>\n      <th>Castle Rock Entertainment</th>\n      <td>0</td>\n      <td>0</td>\n      <td>1</td>\n      <td>0</td>\n      <td>0</td>\n      <td>1</td>\n      <td>0</td>\n      <td>28</td>\n      <td>0</td>\n      <td>0</td>\n      <td>...</td>\n      <td>0</td>\n      <td>5</td>\n      <td>1</td>\n      <td>0</td>\n      <td>0</td>\n      <td>0</td>\n      <td>0</td>\n      <td>0</td>\n      <td>0</td>\n      <td>0</td>\n    </tr>\n    <tr>\n      <th>Columbia Pictures</th>\n      <td>0</td>\n      <td>0</td>\n      <td>0</td>\n      <td>5</td>\n      <td>0</td>\n      <td>0</td>\n      <td>0</td>\n      <td>80</td>\n      <td>0</td>\n      <td>0</td>\n      <td>...</td>\n      <td>0</td>\n      <td>0</td>\n      <td>0</td>\n      <td>2</td>\n      <td>0</td>\n      <td>0</td>\n      <td>1</td>\n      <td>0</td>\n      <td>0</td>\n      <td>0</td>\n    </tr>\n    <tr>\n      <th>Columbia Pictures Corporation</th>\n      <td>0</td>\n      <td>0</td>\n      <td>0</td>\n      <td>1</td>\n      <td>0</td>\n      <td>1</td>\n      <td>0</td>\n      <td>109</td>\n      <td>0</td>\n      <td>1</td>\n      <td>...</td>\n      <td>1</td>\n      <td>2</td>\n      <td>0</td>\n      <td>0</td>\n      <td>1</td>\n      <td>0</td>\n      <td>0</td>\n      <td>1</td>\n      <td>0</td>\n      <td>0</td>\n    </tr>\n    <tr>\n      <th>Dimension Films</th>\n      <td>0</td>\n      <td>0</td>\n      <td>0</td>\n      <td>0</td>\n      <td>0</td>\n      <td>0</td>\n      <td>0</td>\n      <td>30</td>\n      <td>0</td>\n      <td>0</td>\n      <td>...</td>\n      <td>0</td>\n      <td>0</td>\n      <td>0</td>\n      <td>0</td>\n      <td>0</td>\n      <td>0</td>\n      <td>0</td>\n      <td>0</td>\n      <td>4</td>\n      <td>0</td>\n    </tr>\n    <tr>\n      <th>DreamWorks</th>\n      <td>0</td>\n      <td>0</td>\n      <td>1</td>\n      <td>0</td>\n      <td>0</td>\n      <td>0</td>\n      <td>0</td>\n      <td>46</td>\n      <td>0</td>\n      <td>0</td>\n      <td>...</td>\n      <td>1</td>\n      <td>0</td>\n      <td>1</td>\n      <td>0</td>\n      <td>0</td>\n      <td>0</td>\n      <td>7</td>\n      <td>0</td>\n      <td>1</td>\n      <td>4</td>\n    </tr>\n    <tr>\n      <th>Fox 2000 Pictures</th>\n      <td>0</td>\n      <td>0</td>\n      <td>0</td>\n      <td>0</td>\n      <td>0</td>\n      <td>2</td>\n      <td>0</td>\n      <td>43</td>\n      <td>0</td>\n      <td>0</td>\n      <td>...</td>\n      <td>1</td>\n      <td>0</td>\n      <td>0</td>\n      <td>0</td>\n      <td>0</td>\n      <td>0</td>\n      <td>0</td>\n      <td>0</td>\n      <td>0</td>\n      <td>0</td>\n    </tr>\n    <tr>\n      <th>Fox Searchlight Pictures</th>\n      <td>0</td>\n      <td>0</td>\n      <td>0</td>\n      <td>0</td>\n      <td>0</td>\n      <td>0</td>\n      <td>0</td>\n      <td>34</td>\n      <td>0</td>\n      <td>0</td>\n      <td>...</td>\n      <td>0</td>\n      <td>0</td>\n      <td>0</td>\n      <td>0</td>\n      <td>1</td>\n      <td>0</td>\n      <td>0</td>\n      <td>0</td>\n      <td>0</td>\n      <td>0</td>\n    </tr>\n    <tr>\n      <th>Hollywood Pictures</th>\n      <td>0</td>\n      <td>0</td>\n      <td>0</td>\n      <td>0</td>\n      <td>0</td>\n      <td>0</td>\n      <td>0</td>\n      <td>30</td>\n      <td>0</td>\n      <td>0</td>\n      <td>...</td>\n      <td>1</td>\n      <td>0</td>\n      <td>0</td>\n      <td>0</td>\n      <td>0</td>\n      <td>0</td>\n      <td>0</td>\n      <td>0</td>\n      <td>0</td>\n      <td>0</td>\n    </tr>\n    <tr>\n      <th>Metro-Goldwyn-Mayer (MGM)</th>\n      <td>0</td>\n      <td>1</td>\n      <td>0</td>\n      <td>0</td>\n      <td>0</td>\n      <td>0</td>\n      <td>0</td>\n      <td>57</td>\n      <td>0</td>\n      <td>0</td>\n      <td>...</td>\n      <td>1</td>\n      <td>0</td>\n      <td>0</td>\n      <td>1</td>\n      <td>0</td>\n      <td>0</td>\n      <td>0</td>\n      <td>0</td>\n      <td>0</td>\n      <td>0</td>\n    </tr>\n    <tr>\n      <th>Miramax</th>\n      <td>0</td>\n      <td>0</td>\n      <td>0</td>\n      <td>0</td>\n      <td>1</td>\n      <td>0</td>\n      <td>0</td>\n      <td>41</td>\n      <td>0</td>\n      <td>0</td>\n      <td>...</td>\n      <td>0</td>\n      <td>0</td>\n      <td>0</td>\n      <td>0</td>\n      <td>0</td>\n      <td>1</td>\n      <td>0</td>\n      <td>0</td>\n      <td>0</td>\n      <td>2</td>\n    </tr>\n    <tr>\n      <th>New Line Cinema</th>\n      <td>0</td>\n      <td>0</td>\n      <td>0</td>\n      <td>0</td>\n      <td>0</td>\n      <td>1</td>\n      <td>0</td>\n      <td>115</td>\n      <td>1</td>\n      <td>0</td>\n      <td>...</td>\n      <td>0</td>\n      <td>0</td>\n      <td>0</td>\n      <td>0</td>\n      <td>1</td>\n      <td>0</td>\n      <td>0</td>\n      <td>0</td>\n      <td>1</td>\n      <td>0</td>\n    </tr>\n    <tr>\n      <th>Other</th>\n      <td>8</td>\n      <td>8</td>\n      <td>10</td>\n      <td>2</td>\n      <td>3</td>\n      <td>2</td>\n      <td>7</td>\n      <td>1762</td>\n      <td>7</td>\n      <td>2</td>\n      <td>...</td>\n      <td>4</td>\n      <td>3</td>\n      <td>2</td>\n      <td>5</td>\n      <td>6</td>\n      <td>9</td>\n      <td>2</td>\n      <td>3</td>\n      <td>4</td>\n      <td>19</td>\n    </tr>\n    <tr>\n      <th>Paramount Pictures</th>\n      <td>0</td>\n      <td>1</td>\n      <td>0</td>\n      <td>0</td>\n      <td>2</td>\n      <td>1</td>\n      <td>1</td>\n      <td>161</td>\n      <td>0</td>\n      <td>2</td>\n      <td>...</td>\n      <td>0</td>\n      <td>0</td>\n      <td>2</td>\n      <td>1</td>\n      <td>0</td>\n      <td>0</td>\n      <td>3</td>\n      <td>1</td>\n      <td>0</td>\n      <td>0</td>\n    </tr>\n    <tr>\n      <th>Screen Gems</th>\n      <td>0</td>\n      <td>0</td>\n      <td>0</td>\n      <td>0</td>\n      <td>0</td>\n      <td>0</td>\n      <td>0</td>\n      <td>32</td>\n      <td>0</td>\n      <td>0</td>\n      <td>...</td>\n      <td>0</td>\n      <td>0</td>\n      <td>0</td>\n      <td>0</td>\n      <td>0</td>\n      <td>0</td>\n      <td>0</td>\n      <td>0</td>\n      <td>0</td>\n      <td>0</td>\n    </tr>\n    <tr>\n      <th>Summit Entertainment</th>\n      <td>0</td>\n      <td>0</td>\n      <td>0</td>\n      <td>0</td>\n      <td>0</td>\n      <td>0</td>\n      <td>0</td>\n      <td>30</td>\n      <td>1</td>\n      <td>0</td>\n      <td>...</td>\n      <td>0</td>\n      <td>0</td>\n      <td>0</td>\n      <td>0</td>\n      <td>0</td>\n      <td>0</td>\n      <td>0</td>\n      <td>0</td>\n      <td>0</td>\n      <td>0</td>\n    </tr>\n    <tr>\n      <th>Touchstone Pictures</th>\n      <td>1</td>\n      <td>0</td>\n      <td>0</td>\n      <td>0</td>\n      <td>1</td>\n      <td>0</td>\n      <td>0</td>\n      <td>70</td>\n      <td>0</td>\n      <td>0</td>\n      <td>...</td>\n      <td>0</td>\n      <td>0</td>\n      <td>1</td>\n      <td>0</td>\n      <td>1</td>\n      <td>0</td>\n      <td>0</td>\n      <td>1</td>\n      <td>0</td>\n      <td>1</td>\n    </tr>\n    <tr>\n      <th>TriStar Pictures</th>\n      <td>1</td>\n      <td>0</td>\n      <td>0</td>\n      <td>0</td>\n      <td>0</td>\n      <td>1</td>\n      <td>0</td>\n      <td>37</td>\n      <td>0</td>\n      <td>0</td>\n      <td>...</td>\n      <td>0</td>\n      <td>0</td>\n      <td>0</td>\n      <td>0</td>\n      <td>0</td>\n      <td>0</td>\n      <td>0</td>\n      <td>0</td>\n      <td>0</td>\n      <td>2</td>\n    </tr>\n    <tr>\n      <th>Twentieth Century Fox Film Corporation</th>\n      <td>0</td>\n      <td>0</td>\n      <td>0</td>\n      <td>0</td>\n      <td>0</td>\n      <td>0</td>\n      <td>2</td>\n      <td>116</td>\n      <td>2</td>\n      <td>0</td>\n      <td>...</td>\n      <td>3</td>\n      <td>0</td>\n      <td>1</td>\n      <td>0</td>\n      <td>0</td>\n      <td>0</td>\n      <td>1</td>\n      <td>2</td>\n      <td>0</td>\n      <td>0</td>\n    </tr>\n    <tr>\n      <th>Universal Pictures</th>\n      <td>0</td>\n      <td>0</td>\n      <td>0</td>\n      <td>3</td>\n      <td>2</td>\n      <td>1</td>\n      <td>0</td>\n      <td>178</td>\n      <td>0</td>\n      <td>0</td>\n      <td>...</td>\n      <td>1</td>\n      <td>1</td>\n      <td>3</td>\n      <td>7</td>\n      <td>5</td>\n      <td>2</td>\n      <td>3</td>\n      <td>0</td>\n      <td>2</td>\n      <td>0</td>\n    </tr>\n    <tr>\n      <th>Walt Disney Pictures</th>\n      <td>0</td>\n      <td>0</td>\n      <td>0</td>\n      <td>0</td>\n      <td>0</td>\n      <td>0</td>\n      <td>0</td>\n      <td>68</td>\n      <td>0</td>\n      <td>0</td>\n      <td>...</td>\n      <td>0</td>\n      <td>0</td>\n      <td>0</td>\n      <td>0</td>\n      <td>0</td>\n      <td>0</td>\n      <td>1</td>\n      <td>0</td>\n      <td>0</td>\n      <td>0</td>\n    </tr>\n    <tr>\n      <th>Warner Bros.</th>\n      <td>2</td>\n      <td>0</td>\n      <td>8</td>\n      <td>0</td>\n      <td>1</td>\n      <td>0</td>\n      <td>4</td>\n      <td>174</td>\n      <td>1</td>\n      <td>6</td>\n      <td>...</td>\n      <td>2</td>\n      <td>2</td>\n      <td>1</td>\n      <td>1</td>\n      <td>0</td>\n      <td>5</td>\n      <td>1</td>\n      <td>4</td>\n      <td>0</td>\n      <td>0</td>\n    </tr>\n  </tbody>\n</table>\n<p>21 rows × 21 columns</p>\n</div>"
     },
     "metadata": {}
    },
    {
     "output_type": "stream",
     "name": "stdout",
     "text": [
      "Observed Values\n"
     ]
    },
    {
     "output_type": "display_data",
     "data": {
      "text/plain": "array([[   0,    0,    1,    0,    0,    1,    0,   28,    0,    0,    1,\n           0,    5,    1,    0,    0,    0,    0,    0,    0,    0],\n       [   0,    0,    0,    5,    0,    0,    0,   80,    0,    0,    0,\n           0,    0,    0,    2,    0,    0,    1,    0,    0,    0],\n       [   0,    0,    0,    1,    0,    1,    0,  109,    0,    1,    0,\n           1,    2,    0,    0,    1,    0,    0,    1,    0,    0],\n       [   0,    0,    0,    0,    0,    0,    0,   30,    0,    0,    0,\n           0,    0,    0,    0,    0,    0,    0,    0,    4,    0],\n       [   0,    0,    1,    0,    0,    0,    0,   46,    0,    0,    0,\n           1,    0,    1,    0,    0,    0,    7,    0,    1,    4],\n       [   0,    0,    0,    0,    0,    2,    0,   43,    0,    0,    0,\n           1,    0,    0,    0,    0,    0,    0,    0,    0,    0],\n       [   0,    0,    0,    0,    0,    0,    0,   34,    0,    0,    0,\n           0,    0,    0,    0,    1,    0,    0,    0,    0,    0],\n       [   0,    0,    0,    0,    0,    0,    0,   30,    0,    0,    0,\n           1,    0,    0,    0,    0,    0,    0,    0,    0,    0],\n       [   0,    1,    0,    0,    0,    0,    0,   57,    0,    0,    0,\n           1,    0,    0,    1,    0,    0,    0,    0,    0,    0],\n       [   0,    0,    0,    0,    1,    0,    0,   41,    0,    0,    0,\n           0,    0,    0,    0,    0,    1,    0,    0,    0,    2],\n       [   0,    0,    0,    0,    0,    1,    0,  115,    1,    0,    0,\n           0,    0,    0,    0,    1,    0,    0,    0,    1,    0],\n       [   8,    8,   10,    2,    3,    2,    7, 1762,    7,    2,    9,\n           4,    3,    2,    5,    6,    9,    2,    3,    4,   19],\n       [   0,    1,    0,    0,    2,    1,    1,  161,    0,    2,    2,\n           0,    0,    2,    1,    0,    0,    3,    1,    0,    0],\n       [   0,    0,    0,    0,    0,    0,    0,   32,    0,    0,    0,\n           0,    0,    0,    0,    0,    0,    0,    0,    0,    0],\n       [   0,    0,    0,    0,    0,    0,    0,   30,    1,    0,    0,\n           0,    0,    0,    0,    0,    0,    0,    0,    0,    0],\n       [   1,    0,    0,    0,    1,    0,    0,   70,    0,    0,    0,\n           0,    0,    1,    0,    1,    0,    0,    1,    0,    1],\n       [   1,    0,    0,    0,    0,    1,    0,   37,    0,    0,    0,\n           0,    0,    0,    0,    0,    0,    0,    0,    0,    2],\n       [   0,    0,    0,    0,    0,    0,    2,  116,    2,    0,    1,\n           3,    0,    1,    0,    0,    0,    1,    2,    0,    0],\n       [   0,    0,    0,    3,    2,    1,    0,  178,    0,    0,    0,\n           1,    1,    3,    7,    5,    2,    3,    0,    2,    0],\n       [   0,    0,    0,    0,    0,    0,    0,   68,    0,    0,    0,\n           0,    0,    0,    0,    0,    0,    1,    0,    0,    0],\n       [   2,    0,    8,    0,    1,    0,    4,  174,    1,    6,    0,\n           2,    2,    1,    1,    0,    5,    1,    4,    0,    0]],\n      dtype=int64)"
     },
     "metadata": {}
    },
    {
     "output_type": "stream",
     "name": "stdout",
     "text": [
      "chi2_test_statistic, p, dof, expected\n"
     ]
    },
    {
     "output_type": "display_data",
     "data": {
      "text/plain": "1089.9807821717773"
     },
     "metadata": {}
    },
    {
     "output_type": "display_data",
     "data": {
      "text/plain": "2.8563531972245992e-65"
     },
     "metadata": {}
    },
    {
     "output_type": "display_data",
     "data": {
      "text/plain": "400"
     },
     "metadata": {}
    },
    {
     "output_type": "display_data",
     "data": {
      "text/plain": "array([[1.25993190e-01, 1.04994325e-01, 2.09988649e-01, 1.15493757e-01,\n        1.04994325e-01, 1.04994325e-01, 1.46992054e-01, 3.40286606e+01,\n        1.25993190e-01, 1.15493757e-01, 1.36492622e-01, 1.57491487e-01,\n        1.36492622e-01, 1.25993190e-01, 1.78490352e-01, 1.57491487e-01,\n        1.78490352e-01, 1.99489217e-01, 1.25993190e-01, 1.25993190e-01,\n        2.93984109e-01],\n       [2.99659478e-01, 2.49716232e-01, 4.99432463e-01, 2.74687855e-01,\n        2.49716232e-01, 2.49716232e-01, 3.49602724e-01, 8.09330306e+01,\n        2.99659478e-01, 2.74687855e-01, 3.24631101e-01, 3.74574347e-01,\n        3.24631101e-01, 2.99659478e-01, 4.24517594e-01, 3.74574347e-01,\n        4.24517594e-01, 4.74460840e-01, 2.99659478e-01, 2.99659478e-01,\n        6.99205448e-01],\n       [3.98410897e-01, 3.32009081e-01, 6.64018161e-01, 3.65209989e-01,\n        3.32009081e-01, 3.32009081e-01, 4.64812713e-01, 1.07604143e+02,\n        3.98410897e-01, 3.65209989e-01, 4.31611805e-01, 4.98013621e-01,\n        4.31611805e-01, 3.98410897e-01, 5.64415437e-01, 4.98013621e-01,\n        5.64415437e-01, 6.30817253e-01, 3.98410897e-01, 3.98410897e-01,\n        9.29625426e-01],\n       [1.15777526e-01, 9.64812713e-02, 1.92962543e-01, 1.06129398e-01,\n        9.64812713e-02, 9.64812713e-02, 1.35073780e-01, 3.12695800e+01,\n        1.15777526e-01, 1.06129398e-01, 1.25425653e-01, 1.44721907e-01,\n        1.25425653e-01, 1.15777526e-01, 1.64018161e-01, 1.44721907e-01,\n        1.64018161e-01, 1.83314415e-01, 1.15777526e-01, 1.15777526e-01,\n        2.70147560e-01],\n       [2.07718502e-01, 1.73098751e-01, 3.46197503e-01, 1.90408627e-01,\n        1.73098751e-01, 1.73098751e-01, 2.42338252e-01, 5.61013053e+01,\n        2.07718502e-01, 1.90408627e-01, 2.25028377e-01, 2.59648127e-01,\n        2.25028377e-01, 2.07718502e-01, 2.94267877e-01, 2.59648127e-01,\n        2.94267877e-01, 3.28887628e-01, 2.07718502e-01, 2.07718502e-01,\n        4.84676504e-01],\n       [1.56640182e-01, 1.30533485e-01, 2.61066969e-01, 1.43586833e-01,\n        1.30533485e-01, 1.30533485e-01, 1.82746879e-01, 4.23059024e+01,\n        1.56640182e-01, 1.43586833e-01, 1.69693530e-01, 1.95800227e-01,\n        1.69693530e-01, 1.56640182e-01, 2.21906924e-01, 1.95800227e-01,\n        2.21906924e-01, 2.48013621e-01, 1.56640182e-01, 1.56640182e-01,\n        3.65493757e-01],\n       [1.19182747e-01, 9.93189557e-02, 1.98637911e-01, 1.09250851e-01,\n        9.93189557e-02, 9.93189557e-02, 1.39046538e-01, 3.21892736e+01,\n        1.19182747e-01, 1.09250851e-01, 1.29114642e-01, 1.48978434e-01,\n        1.29114642e-01, 1.19182747e-01, 1.68842225e-01, 1.48978434e-01,\n        1.68842225e-01, 1.88706016e-01, 1.19182747e-01, 1.19182747e-01,\n        2.78093076e-01],\n       [1.05561862e-01, 8.79682179e-02, 1.75936436e-01, 9.67650397e-02,\n        8.79682179e-02, 8.79682179e-02, 1.23155505e-01, 2.85104994e+01,\n        1.05561862e-01, 9.67650397e-02, 1.14358683e-01, 1.31952327e-01,\n        1.14358683e-01, 1.05561862e-01, 1.49545970e-01, 1.31952327e-01,\n        1.49545970e-01, 1.67139614e-01, 1.05561862e-01, 1.05561862e-01,\n        2.46311010e-01],\n       [2.04313280e-01, 1.70261067e-01, 3.40522134e-01, 1.87287174e-01,\n        1.70261067e-01, 1.70261067e-01, 2.38365494e-01, 5.51816118e+01,\n        2.04313280e-01, 1.87287174e-01, 2.21339387e-01, 2.55391600e-01,\n        2.21339387e-01, 2.04313280e-01, 2.89443814e-01, 2.55391600e-01,\n        2.89443814e-01, 3.23496027e-01, 2.04313280e-01, 2.04313280e-01,\n        4.76730988e-01],\n       [1.53234960e-01, 1.27695800e-01, 2.55391600e-01, 1.40465380e-01,\n        1.27695800e-01, 1.27695800e-01, 1.78774120e-01, 4.13862089e+01,\n        1.53234960e-01, 1.40465380e-01, 1.66004540e-01, 1.91543700e-01,\n        1.66004540e-01, 1.53234960e-01, 2.17082860e-01, 1.91543700e-01,\n        2.17082860e-01, 2.42622020e-01, 1.53234960e-01, 1.53234960e-01,\n        3.57548241e-01],\n       [4.05221339e-01, 3.37684449e-01, 6.75368899e-01, 3.71452894e-01,\n        3.37684449e-01, 3.37684449e-01, 4.72758229e-01, 1.09443530e+02,\n        4.05221339e-01, 3.71452894e-01, 4.38989784e-01, 5.06526674e-01,\n        4.38989784e-01, 4.05221339e-01, 5.74063564e-01, 5.06526674e-01,\n        5.74063564e-01, 6.41600454e-01, 4.05221339e-01, 4.05221339e-01,\n        9.45516459e-01],\n       [6.39160045e+00, 5.32633371e+00, 1.06526674e+01, 5.85896708e+00,\n        5.32633371e+00, 5.32633371e+00, 7.45686720e+00, 1.72626476e+03,\n        6.39160045e+00, 5.85896708e+00, 6.92423383e+00, 7.98950057e+00,\n        6.92423383e+00, 6.39160045e+00, 9.05476731e+00, 7.98950057e+00,\n        9.05476731e+00, 1.01200341e+01, 6.39160045e+00, 6.39160045e+00,\n        1.49137344e+01],\n       [6.02724177e-01, 5.02270148e-01, 1.00454030e+00, 5.52497162e-01,\n        5.02270148e-01, 5.02270148e-01, 7.03178207e-01, 1.62785755e+02,\n        6.02724177e-01, 5.52497162e-01, 6.52951192e-01, 7.53405221e-01,\n        6.52951192e-01, 6.02724177e-01, 8.53859251e-01, 7.53405221e-01,\n        8.53859251e-01, 9.54313280e-01, 6.02724177e-01, 6.02724177e-01,\n        1.40635641e+00],\n       [1.08967083e-01, 9.08059024e-02, 1.81611805e-01, 9.98864926e-02,\n        9.08059024e-02, 9.08059024e-02, 1.27128263e-01, 2.94301930e+01,\n        1.08967083e-01, 9.98864926e-02, 1.18047673e-01, 1.36208854e-01,\n        1.18047673e-01, 1.08967083e-01, 1.54370034e-01, 1.36208854e-01,\n        1.54370034e-01, 1.72531215e-01, 1.08967083e-01, 1.08967083e-01,\n        2.54256527e-01],\n       [1.05561862e-01, 8.79682179e-02, 1.75936436e-01, 9.67650397e-02,\n        8.79682179e-02, 8.79682179e-02, 1.23155505e-01, 2.85104994e+01,\n        1.05561862e-01, 9.67650397e-02, 1.14358683e-01, 1.31952327e-01,\n        1.14358683e-01, 1.05561862e-01, 1.49545970e-01, 1.31952327e-01,\n        1.49545970e-01, 1.67139614e-01, 1.05561862e-01, 1.05561862e-01,\n        2.46311010e-01],\n       [2.58796822e-01, 2.15664018e-01, 4.31328036e-01, 2.37230420e-01,\n        2.15664018e-01, 2.15664018e-01, 3.01929625e-01, 6.98967083e+01,\n        2.58796822e-01, 2.37230420e-01, 2.80363224e-01, 3.23496027e-01,\n        2.80363224e-01, 2.58796822e-01, 3.66628831e-01, 3.23496027e-01,\n        3.66628831e-01, 4.09761635e-01, 2.58796822e-01, 2.58796822e-01,\n        6.03859251e-01],\n       [1.39614075e-01, 1.16345062e-01, 2.32690125e-01, 1.27979569e-01,\n        1.16345062e-01, 1.16345062e-01, 1.62883087e-01, 3.77074347e+01,\n        1.39614075e-01, 1.27979569e-01, 1.51248581e-01, 1.74517594e-01,\n        1.51248581e-01, 1.39614075e-01, 1.97786606e-01, 1.74517594e-01,\n        1.97786606e-01, 2.21055619e-01, 1.39614075e-01, 1.39614075e-01,\n        3.25766175e-01],\n       [4.35868331e-01, 3.63223610e-01, 7.26447219e-01, 3.99545970e-01,\n        3.63223610e-01, 3.63223610e-01, 5.08513053e-01, 1.17720772e+02,\n        4.35868331e-01, 3.99545970e-01, 4.72190692e-01, 5.44835414e-01,\n        4.72190692e-01, 4.35868331e-01, 6.17480136e-01, 5.44835414e-01,\n        6.17480136e-01, 6.90124858e-01, 4.35868331e-01, 4.35868331e-01,\n        1.01702611e+00],\n       [7.08286039e-01, 5.90238365e-01, 1.18047673e+00, 6.49262202e-01,\n        5.90238365e-01, 5.90238365e-01, 8.26333712e-01, 1.91296254e+02,\n        7.08286039e-01, 6.49262202e-01, 7.67309875e-01, 8.85357548e-01,\n        7.67309875e-01, 7.08286039e-01, 1.00340522e+00, 8.85357548e-01,\n        1.00340522e+00, 1.12145289e+00, 7.08286039e-01, 7.08286039e-01,\n        1.65266742e+00],\n       [2.34960272e-01, 1.95800227e-01, 3.91600454e-01, 2.15380250e-01,\n        1.95800227e-01, 1.95800227e-01, 2.74120318e-01, 6.34588536e+01,\n        2.34960272e-01, 2.15380250e-01, 2.54540295e-01, 2.93700341e-01,\n        2.54540295e-01, 2.34960272e-01, 3.32860386e-01, 2.93700341e-01,\n        3.32860386e-01, 3.72020431e-01, 2.34960272e-01, 2.34960272e-01,\n        5.48240636e-01],\n       [7.21906924e-01, 6.01589103e-01, 1.20317821e+00, 6.61748014e-01,\n        6.01589103e-01, 6.01589103e-01, 8.42224745e-01, 1.94975028e+02,\n        7.21906924e-01, 6.61748014e-01, 7.82065834e-01, 9.02383655e-01,\n        7.82065834e-01, 7.21906924e-01, 1.02270148e+00, 9.02383655e-01,\n        1.02270148e+00, 1.14301930e+00, 7.21906924e-01, 7.21906924e-01,\n        1.68444949e+00]])"
     },
     "metadata": {}
    },
    {
     "output_type": "stream",
     "name": "stdout",
     "text": [
      "critical = 447.632, chi2_test_statistic = 1089.981\nDependent (reject H0)\n\nsignificance = 0.050, p = 0.000\nDependent (reject H0)\n"
     ]
    },
    {
     "output_type": "display_data",
     "data": {
      "text/plain": "rating                                  0   G  NC-17  NOT RATED  \\\ncompany                                                           \nCastle Rock Entertainment               0   1      0          0   \nColumbia Pictures                       0   0      0          0   \nColumbia Pictures Corporation           0   0      0          0   \nDimension Films                         0   0      0          0   \nDreamWorks                              0   0      0          0   \nFox 2000 Pictures                       0   2      0          0   \nFox Searchlight Pictures                0   0      1          0   \nHollywood Pictures                      0   0      0          0   \nMetro-Goldwyn-Mayer (MGM)               0   0      0          0   \nMiramax                                 0   0      0          0   \nNew Line Cinema                         0   1      0          0   \nOther                                   9  40      4         24   \nParamount Pictures                      0   3      0          0   \nScreen Gems                             0   0      0          0   \nSummit Entertainment                    0   0      0          0   \nTouchstone Pictures                     0   1      0          0   \nTriStar Pictures                        0   0      0          0   \nTwentieth Century Fox Film Corporation  0   1      0          0   \nUniversal Pictures                      0   2      0          0   \nWalt Disney Pictures                    0  18      0          0   \nWarner Bros.                            0   0      0          0   \n\nrating                                  Not specified   PG  PG-13     R  \\\ncompany                                                                   \nCastle Rock Entertainment                           0    5     15    16   \nColumbia Pictures                                   0   20     43    25   \nColumbia Pictures Corporation                       0   10     54    53   \nDimension Films                                     0    1     10    23   \nDreamWorks                                          0    6     33    22   \nFox 2000 Pictures                                   0   18     18     8   \nFox Searchlight Pictures                            0    2      6    26   \nHollywood Pictures                                  0    7     10    14   \nMetro-Goldwyn-Mayer (MGM)                           0   11     28    21   \nMiramax                                             0    4     11    30   \nNew Line Cinema                                     0    7     43    68   \nOther                                               3  239    492  1053   \nParamount Pictures                                  0   24     85    65   \nScreen Gems                                         0    0     20    12   \nSummit Entertainment                                0    2     23     6   \nTouchstone Pictures                                 0   16     38    21   \nTriStar Pictures                                    0    6     13    22   \nTwentieth Century Fox Film Corporation              0   24     67    36   \nUniversal Pictures                                  0   29    105    72   \nWalt Disney Pictures                                0   44      7     0   \nWarner Bros.                                        0   41     81    90   \n\nrating                                  UNRATED  \ncompany                                          \nCastle Rock Entertainment                     0  \nColumbia Pictures                             0  \nColumbia Pictures Corporation                 0  \nDimension Films                               0  \nDreamWorks                                    0  \nFox 2000 Pictures                             0  \nFox Searchlight Pictures                      0  \nHollywood Pictures                            0  \nMetro-Goldwyn-Mayer (MGM)                     0  \nMiramax                                       0  \nNew Line Cinema                               0  \nOther                                        13  \nParamount Pictures                            0  \nScreen Gems                                   0  \nSummit Entertainment                          0  \nTouchstone Pictures                           0  \nTriStar Pictures                              0  \nTwentieth Century Fox Film Corporation        0  \nUniversal Pictures                            0  \nWalt Disney Pictures                          0  \nWarner Bros.                                  0  ",
      "text/html": "<div>\n<style scoped>\n    .dataframe tbody tr th:only-of-type {\n        vertical-align: middle;\n    }\n\n    .dataframe tbody tr th {\n        vertical-align: top;\n    }\n\n    .dataframe thead th {\n        text-align: right;\n    }\n</style>\n<table border=\"1\" class=\"dataframe\">\n  <thead>\n    <tr style=\"text-align: right;\">\n      <th>rating</th>\n      <th>0</th>\n      <th>G</th>\n      <th>NC-17</th>\n      <th>NOT RATED</th>\n      <th>Not specified</th>\n      <th>PG</th>\n      <th>PG-13</th>\n      <th>R</th>\n      <th>UNRATED</th>\n    </tr>\n    <tr>\n      <th>company</th>\n      <th></th>\n      <th></th>\n      <th></th>\n      <th></th>\n      <th></th>\n      <th></th>\n      <th></th>\n      <th></th>\n      <th></th>\n    </tr>\n  </thead>\n  <tbody>\n    <tr>\n      <th>Castle Rock Entertainment</th>\n      <td>0</td>\n      <td>1</td>\n      <td>0</td>\n      <td>0</td>\n      <td>0</td>\n      <td>5</td>\n      <td>15</td>\n      <td>16</td>\n      <td>0</td>\n    </tr>\n    <tr>\n      <th>Columbia Pictures</th>\n      <td>0</td>\n      <td>0</td>\n      <td>0</td>\n      <td>0</td>\n      <td>0</td>\n      <td>20</td>\n      <td>43</td>\n      <td>25</td>\n      <td>0</td>\n    </tr>\n    <tr>\n      <th>Columbia Pictures Corporation</th>\n      <td>0</td>\n      <td>0</td>\n      <td>0</td>\n      <td>0</td>\n      <td>0</td>\n      <td>10</td>\n      <td>54</td>\n      <td>53</td>\n      <td>0</td>\n    </tr>\n    <tr>\n      <th>Dimension Films</th>\n      <td>0</td>\n      <td>0</td>\n      <td>0</td>\n      <td>0</td>\n      <td>0</td>\n      <td>1</td>\n      <td>10</td>\n      <td>23</td>\n      <td>0</td>\n    </tr>\n    <tr>\n      <th>DreamWorks</th>\n      <td>0</td>\n      <td>0</td>\n      <td>0</td>\n      <td>0</td>\n      <td>0</td>\n      <td>6</td>\n      <td>33</td>\n      <td>22</td>\n      <td>0</td>\n    </tr>\n    <tr>\n      <th>Fox 2000 Pictures</th>\n      <td>0</td>\n      <td>2</td>\n      <td>0</td>\n      <td>0</td>\n      <td>0</td>\n      <td>18</td>\n      <td>18</td>\n      <td>8</td>\n      <td>0</td>\n    </tr>\n    <tr>\n      <th>Fox Searchlight Pictures</th>\n      <td>0</td>\n      <td>0</td>\n      <td>1</td>\n      <td>0</td>\n      <td>0</td>\n      <td>2</td>\n      <td>6</td>\n      <td>26</td>\n      <td>0</td>\n    </tr>\n    <tr>\n      <th>Hollywood Pictures</th>\n      <td>0</td>\n      <td>0</td>\n      <td>0</td>\n      <td>0</td>\n      <td>0</td>\n      <td>7</td>\n      <td>10</td>\n      <td>14</td>\n      <td>0</td>\n    </tr>\n    <tr>\n      <th>Metro-Goldwyn-Mayer (MGM)</th>\n      <td>0</td>\n      <td>0</td>\n      <td>0</td>\n      <td>0</td>\n      <td>0</td>\n      <td>11</td>\n      <td>28</td>\n      <td>21</td>\n      <td>0</td>\n    </tr>\n    <tr>\n      <th>Miramax</th>\n      <td>0</td>\n      <td>0</td>\n      <td>0</td>\n      <td>0</td>\n      <td>0</td>\n      <td>4</td>\n      <td>11</td>\n      <td>30</td>\n      <td>0</td>\n    </tr>\n    <tr>\n      <th>New Line Cinema</th>\n      <td>0</td>\n      <td>1</td>\n      <td>0</td>\n      <td>0</td>\n      <td>0</td>\n      <td>7</td>\n      <td>43</td>\n      <td>68</td>\n      <td>0</td>\n    </tr>\n    <tr>\n      <th>Other</th>\n      <td>9</td>\n      <td>40</td>\n      <td>4</td>\n      <td>24</td>\n      <td>3</td>\n      <td>239</td>\n      <td>492</td>\n      <td>1053</td>\n      <td>13</td>\n    </tr>\n    <tr>\n      <th>Paramount Pictures</th>\n      <td>0</td>\n      <td>3</td>\n      <td>0</td>\n      <td>0</td>\n      <td>0</td>\n      <td>24</td>\n      <td>85</td>\n      <td>65</td>\n      <td>0</td>\n    </tr>\n    <tr>\n      <th>Screen Gems</th>\n      <td>0</td>\n      <td>0</td>\n      <td>0</td>\n      <td>0</td>\n      <td>0</td>\n      <td>0</td>\n      <td>20</td>\n      <td>12</td>\n      <td>0</td>\n    </tr>\n    <tr>\n      <th>Summit Entertainment</th>\n      <td>0</td>\n      <td>0</td>\n      <td>0</td>\n      <td>0</td>\n      <td>0</td>\n      <td>2</td>\n      <td>23</td>\n      <td>6</td>\n      <td>0</td>\n    </tr>\n    <tr>\n      <th>Touchstone Pictures</th>\n      <td>0</td>\n      <td>1</td>\n      <td>0</td>\n      <td>0</td>\n      <td>0</td>\n      <td>16</td>\n      <td>38</td>\n      <td>21</td>\n      <td>0</td>\n    </tr>\n    <tr>\n      <th>TriStar Pictures</th>\n      <td>0</td>\n      <td>0</td>\n      <td>0</td>\n      <td>0</td>\n      <td>0</td>\n      <td>6</td>\n      <td>13</td>\n      <td>22</td>\n      <td>0</td>\n    </tr>\n    <tr>\n      <th>Twentieth Century Fox Film Corporation</th>\n      <td>0</td>\n      <td>1</td>\n      <td>0</td>\n      <td>0</td>\n      <td>0</td>\n      <td>24</td>\n      <td>67</td>\n      <td>36</td>\n      <td>0</td>\n    </tr>\n    <tr>\n      <th>Universal Pictures</th>\n      <td>0</td>\n      <td>2</td>\n      <td>0</td>\n      <td>0</td>\n      <td>0</td>\n      <td>29</td>\n      <td>105</td>\n      <td>72</td>\n      <td>0</td>\n    </tr>\n    <tr>\n      <th>Walt Disney Pictures</th>\n      <td>0</td>\n      <td>18</td>\n      <td>0</td>\n      <td>0</td>\n      <td>0</td>\n      <td>44</td>\n      <td>7</td>\n      <td>0</td>\n      <td>0</td>\n    </tr>\n    <tr>\n      <th>Warner Bros.</th>\n      <td>0</td>\n      <td>0</td>\n      <td>0</td>\n      <td>0</td>\n      <td>0</td>\n      <td>41</td>\n      <td>81</td>\n      <td>90</td>\n      <td>0</td>\n    </tr>\n  </tbody>\n</table>\n</div>"
     },
     "metadata": {}
    },
    {
     "output_type": "stream",
     "name": "stdout",
     "text": [
      "Observed Values\n"
     ]
    },
    {
     "output_type": "display_data",
     "data": {
      "text/plain": "array([[   0,    1,    0,    0,    0,    5,   15,   16,    0],\n       [   0,    0,    0,    0,    0,   20,   43,   25,    0],\n       [   0,    0,    0,    0,    0,   10,   54,   53,    0],\n       [   0,    0,    0,    0,    0,    1,   10,   23,    0],\n       [   0,    0,    0,    0,    0,    6,   33,   22,    0],\n       [   0,    2,    0,    0,    0,   18,   18,    8,    0],\n       [   0,    0,    1,    0,    0,    2,    6,   26,    0],\n       [   0,    0,    0,    0,    0,    7,   10,   14,    0],\n       [   0,    0,    0,    0,    0,   11,   28,   21,    0],\n       [   0,    0,    0,    0,    0,    4,   11,   30,    0],\n       [   0,    1,    0,    0,    0,    7,   43,   68,    0],\n       [   9,   40,    4,   24,    3,  239,  492, 1053,   13],\n       [   0,    3,    0,    0,    0,   24,   85,   65,    0],\n       [   0,    0,    0,    0,    0,    0,   20,   12,    0],\n       [   0,    0,    0,    0,    0,    2,   23,    6,    0],\n       [   0,    1,    0,    0,    0,   16,   38,   21,    0],\n       [   0,    0,    0,    0,    0,    6,   13,   22,    0],\n       [   0,    1,    0,    0,    0,   24,   67,   36,    0],\n       [   0,    2,    0,    0,    0,   29,  105,   72,    0],\n       [   0,   18,    0,    0,    0,   44,    7,    0,    0],\n       [   0,    0,    0,    0,    0,   41,   81,   90,    0]],\n      dtype=int64)"
     },
     "metadata": {}
    },
    {
     "output_type": "stream",
     "name": "stdout",
     "text": [
      "chi2_test_statistic, p, dof, expected\n"
     ]
    },
    {
     "output_type": "display_data",
     "data": {
      "text/plain": "731.5286210479003"
     },
     "metadata": {}
    },
    {
     "output_type": "display_data",
     "data": {
      "text/plain": "6.267700202785287e-74"
     },
     "metadata": {}
    },
    {
     "output_type": "display_data",
     "data": {
      "text/plain": "160"
     },
     "metadata": {}
    },
    {
     "output_type": "display_data",
     "data": {
      "text/plain": "array([[9.44948922e-02, 7.24460840e-01, 5.24971623e-02, 2.51986379e-01,\n        3.14982974e-02, 5.41770715e+00, 1.26203178e+01, 1.76705448e+01,\n        1.36492622e-01],\n       [2.24744608e-01, 1.72304200e+00, 1.24858116e-01, 5.99318956e-01,\n        7.49148695e-02, 1.28853575e+01, 3.00158910e+01, 4.20272418e+01,\n        3.24631101e-01],\n       [2.98808173e-01, 2.29086266e+00, 1.66004540e-01, 7.96821793e-01,\n        9.96027242e-02, 1.71316686e+01, 3.99074915e+01, 5.58771283e+01,\n        4.31611805e-01],\n       [8.68331442e-02, 6.65720772e-01, 4.82406356e-02, 2.31555051e-01,\n        2.89443814e-02, 4.97843360e+00, 1.15970488e+01, 1.62377980e+01,\n        1.25425653e-01],\n       [1.55788876e-01, 1.19438138e+00, 8.65493757e-02, 4.15437003e-01,\n        5.19296254e-02, 8.93189557e+00, 2.08064699e+01, 2.91325199e+01,\n        2.25028377e-01],\n       [1.17480136e-01, 9.00681044e-01, 6.52667423e-02, 3.13280363e-01,\n        3.91600454e-02, 6.73552781e+00, 1.56901249e+01, 2.19687855e+01,\n        1.69693530e-01],\n       [8.93870602e-02, 6.85300795e-01, 4.96594779e-02, 2.38365494e-01,\n        2.97956867e-02, 5.12485812e+00, 1.19381385e+01, 1.67153802e+01,\n        1.29114642e-01],\n       [7.91713961e-02, 6.06980704e-01, 4.39841090e-02, 2.11123723e-01,\n        2.63904654e-02, 4.53916005e+00, 1.05737798e+01, 1.48050511e+01,\n        1.14358683e-01],\n       [1.53234960e-01, 1.17480136e+00, 8.51305335e-02, 4.08626561e-01,\n        5.10783201e-02, 8.78547106e+00, 2.04653802e+01, 2.86549376e+01,\n        2.21339387e-01],\n       [1.14926220e-01, 8.81101022e-01, 6.38479001e-02, 3.06469921e-01,\n        3.83087401e-02, 6.58910329e+00, 1.53490352e+01, 2.14912032e+01,\n        1.66004540e-01],\n       [3.03916005e-01, 2.33002270e+00, 1.68842225e-01, 8.10442679e-01,\n        1.01305335e-01, 1.74245176e+01, 4.05896708e+01, 5.68322928e+01,\n        4.38989784e-01],\n       [4.79370034e+00, 3.67517026e+01, 2.66316686e+00, 1.27832009e+01,\n        1.59790011e+00, 2.74838820e+02, 6.40225312e+02, 8.96421964e+02,\n        6.92423383e+00],\n       [4.52043133e-01, 3.46566402e+00, 2.51135074e-01, 1.20544835e+00,\n        1.50681044e-01, 2.59171396e+01, 6.03728717e+01, 8.45320658e+01,\n        6.52951192e-01],\n       [8.17253121e-02, 6.26560726e-01, 4.54029512e-02, 2.17934166e-01,\n        2.72417707e-02, 4.68558456e+00, 1.09148695e+01, 1.52826334e+01,\n        1.18047673e-01],\n       [7.91713961e-02, 6.06980704e-01, 4.39841090e-02, 2.11123723e-01,\n        2.63904654e-02, 4.53916005e+00, 1.05737798e+01, 1.48050511e+01,\n        1.14358683e-01],\n       [1.94097616e-01, 1.48808173e+00, 1.07832009e-01, 5.17593644e-01,\n        6.46992054e-02, 1.11282633e+01, 2.59228150e+01, 3.62962543e+01,\n        2.80363224e-01],\n       [1.04710556e-01, 8.02780931e-01, 5.81725312e-02, 2.79228150e-01,\n        3.49035187e-02, 6.00340522e+00, 1.39846765e+01, 1.95808740e+01,\n        1.51248581e-01],\n       [3.26901249e-01, 2.50624291e+00, 1.81611805e-01, 8.71736663e-01,\n        1.08967083e-01, 1.87423383e+01, 4.36594779e+01, 6.11305335e+01,\n        4.72190692e-01],\n       [5.31214529e-01, 4.07264472e+00, 2.95119183e-01, 1.41657208e+00,\n        1.77071510e-01, 3.04562997e+01, 7.09466515e+01, 9.93371169e+01,\n        7.67309875e-01],\n       [1.76220204e-01, 1.35102157e+00, 9.79001135e-02, 4.69920545e-01,\n        5.87400681e-02, 1.01032917e+01, 2.35351873e+01, 3.29531782e+01,\n        2.54540295e-01],\n       [5.41430193e-01, 4.15096481e+00, 3.00794552e-01, 1.44381385e+00,\n        1.80476731e-01, 3.10419977e+01, 7.23110102e+01, 1.01247446e+02,\n        7.82065834e-01]])"
     },
     "metadata": {}
    },
    {
     "output_type": "stream",
     "name": "stdout",
     "text": [
      "critical = 190.516, chi2_test_statistic = 731.529\nDependent (reject H0)\n\nsignificance = 0.050, p = 0.000\nDependent (reject H0)\n"
     ]
    },
    {
     "output_type": "display_data",
     "data": {
      "text/plain": "released                                0  1.01.2004 00:00  1.02.1991 00:00  \\\ncompany                                                                       \nCastle Rock Entertainment               0                0                0   \nColumbia Pictures                       0                0                0   \nColumbia Pictures Corporation           0                0                0   \nDimension Films                         0                0                0   \nDreamWorks                              0                0                0   \nFox 2000 Pictures                       0                0                0   \nFox Searchlight Pictures                0                0                0   \nHollywood Pictures                      0                0                0   \nMetro-Goldwyn-Mayer (MGM)               0                0                0   \nMiramax                                 0                0                0   \nNew Line Cinema                         0                0                0   \nOther                                   9                0                2   \nParamount Pictures                      0                0                0   \nScreen Gems                             0                0                0   \nSummit Entertainment                    0                0                0   \nTouchstone Pictures                     0                1                0   \nTriStar Pictures                        0                0                0   \nTwentieth Century Fox Film Corporation  0                0                0   \nUniversal Pictures                      0                0                0   \nWalt Disney Pictures                    0                0                0   \nWarner Bros.                            0                0                0   \n\nreleased                                1.02.2002 00:00  1.02.2008 00:00  \\\ncompany                                                                    \nCastle Rock Entertainment                             0                0   \nColumbia Pictures                                     0                0   \nColumbia Pictures Corporation                         0                0   \nDimension Films                                       0                0   \nDreamWorks                                            0                0   \nFox 2000 Pictures                                     0                0   \nFox Searchlight Pictures                              0                0   \nHollywood Pictures                                    0                0   \nMetro-Goldwyn-Mayer (MGM)                             0                0   \nMiramax                                               0                0   \nNew Line Cinema                                       0                0   \nOther                                                 2                2   \nParamount Pictures                                    0                0   \nScreen Gems                                           0                0   \nSummit Entertainment                                  0                0   \nTouchstone Pictures                                   0                0   \nTriStar Pictures                                      0                0   \nTwentieth Century Fox Film Corporation                0                0   \nUniversal Pictures                                    0                0   \nWalt Disney Pictures                                  0                0   \nWarner Bros.                                          0                0   \n\nreleased                                1.02.2013 00:00  1.03.1991 00:00  \\\ncompany                                                                    \nCastle Rock Entertainment                             0                0   \nColumbia Pictures                                     0                0   \nColumbia Pictures Corporation                         0                0   \nDimension Films                                       0                0   \nDreamWorks                                            0                0   \nFox 2000 Pictures                                     0                0   \nFox Searchlight Pictures                              0                0   \nHollywood Pictures                                    0                0   \nMetro-Goldwyn-Mayer (MGM)                             0                0   \nMiramax                                               0                0   \nNew Line Cinema                                       0                0   \nOther                                                 2                1   \nParamount Pictures                                    0                0   \nScreen Gems                                           0                0   \nSummit Entertainment                                  1                0   \nTouchstone Pictures                                   0                0   \nTriStar Pictures                                      0                0   \nTwentieth Century Fox Film Corporation                0                0   \nUniversal Pictures                                    0                0   \nWalt Disney Pictures                                  0                0   \nWarner Bros.                                          0                0   \n\nreleased                                1.03.1996 00:00  1.03.2002 00:00  \\\ncompany                                                                    \nCastle Rock Entertainment                             0                0   \nColumbia Pictures                                     0                0   \nColumbia Pictures Corporation                         0                0   \nDimension Films                                       0                0   \nDreamWorks                                            0                0   \nFox 2000 Pictures                                     0                0   \nFox Searchlight Pictures                              0                0   \nHollywood Pictures                                    0                0   \nMetro-Goldwyn-Mayer (MGM)                             0                0   \nMiramax                                               0                1   \nNew Line Cinema                                       0                0   \nOther                                                 0                2   \nParamount Pictures                                    0                0   \nScreen Gems                                           0                0   \nSummit Entertainment                                  0                0   \nTouchstone Pictures                                   1                0   \nTriStar Pictures                                      0                0   \nTwentieth Century Fox Film Corporation                1                0   \nUniversal Pictures                                    0                0   \nWalt Disney Pictures                                  0                0   \nWarner Bros.                                          0                0   \n\nreleased                                1.03.2013 00:00  ...  9.11.1994 00:00  \\\ncompany                                                  ...                    \nCastle Rock Entertainment                             0  ...                0   \nColumbia Pictures                                     0  ...                0   \nColumbia Pictures Corporation                         0  ...                0   \nDimension Films                                       0  ...                0   \nDreamWorks                                            0  ...                0   \nFox 2000 Pictures                                     0  ...                0   \nFox Searchlight Pictures                              0  ...                0   \nHollywood Pictures                                    0  ...                0   \nMetro-Goldwyn-Mayer (MGM)                             0  ...                0   \nMiramax                                               0  ...                0   \nNew Line Cinema                                       1  ...                0   \nOther                                                 1  ...                1   \nParamount Pictures                                    0  ...                0   \nScreen Gems                                           0  ...                0   \nSummit Entertainment                                  0  ...                0   \nTouchstone Pictures                                   0  ...                0   \nTriStar Pictures                                      0  ...                0   \nTwentieth Century Fox Film Corporation                0  ...                0   \nUniversal Pictures                                    0  ...                0   \nWalt Disney Pictures                                  0  ...                0   \nWarner Bros.                                          0  ...                0   \n\nreleased                                9.11.2001 00:00  9.11.2005 00:00  \\\ncompany                                                                    \nCastle Rock Entertainment                             0                0   \nColumbia Pictures                                     0                0   \nColumbia Pictures Corporation                         0                0   \nDimension Films                                       0                0   \nDreamWorks                                            0                0   \nFox 2000 Pictures                                     0                0   \nFox Searchlight Pictures                              0                0   \nHollywood Pictures                                    0                0   \nMetro-Goldwyn-Mayer (MGM)                             0                0   \nMiramax                                               0                0   \nNew Line Cinema                                       0                0   \nOther                                                 1                1   \nParamount Pictures                                    0                0   \nScreen Gems                                           0                0   \nSummit Entertainment                                  0                0   \nTouchstone Pictures                                   0                0   \nTriStar Pictures                                      0                0   \nTwentieth Century Fox Film Corporation                1                0   \nUniversal Pictures                                    0                0   \nWalt Disney Pictures                                  0                0   \nWarner Bros.                                          0                0   \n\nreleased                                9.11.2007 00:00  9.11.2012 00:00  \\\ncompany                                                                    \nCastle Rock Entertainment                             0                0   \nColumbia Pictures                                     0                0   \nColumbia Pictures Corporation                         0                0   \nDimension Films                                       0                0   \nDreamWorks                                            0                0   \nFox 2000 Pictures                                     0                0   \nFox Searchlight Pictures                              0                0   \nHollywood Pictures                                    0                0   \nMetro-Goldwyn-Mayer (MGM)                             1                0   \nMiramax                                               0                0   \nNew Line Cinema                                       0                0   \nOther                                                 1                1   \nParamount Pictures                                    0                0   \nScreen Gems                                           0                0   \nSummit Entertainment                                  0                0   \nTouchstone Pictures                                   0                0   \nTriStar Pictures                                      0                0   \nTwentieth Century Fox Film Corporation                0                0   \nUniversal Pictures                                    0                0   \nWalt Disney Pictures                                  0                0   \nWarner Bros.                                          1                0   \n\nreleased                                9.12.1988 00:00  9.12.1994 00:00  \\\ncompany                                                                    \nCastle Rock Entertainment                             0                0   \nColumbia Pictures                                     0                0   \nColumbia Pictures Corporation                         0                0   \nDimension Films                                       0                0   \nDreamWorks                                            0                0   \nFox 2000 Pictures                                     0                0   \nFox Searchlight Pictures                              0                0   \nHollywood Pictures                                    0                0   \nMetro-Goldwyn-Mayer (MGM)                             0                0   \nMiramax                                               0                0   \nNew Line Cinema                                       0                0   \nOther                                                 0                0   \nParamount Pictures                                    0                1   \nScreen Gems                                           0                0   \nSummit Entertainment                                  0                0   \nTouchstone Pictures                                   0                0   \nTriStar Pictures                                      0                0   \nTwentieth Century Fox Film Corporation                0                0   \nUniversal Pictures                                    1                0   \nWalt Disney Pictures                                  0                0   \nWarner Bros.                                          0                1   \n\nreleased                                9.12.2005 00:00  9.12.2011 00:00  \\\ncompany                                                                    \nCastle Rock Entertainment                             0                0   \nColumbia Pictures                                     0                0   \nColumbia Pictures Corporation                         0                0   \nDimension Films                                       0                0   \nDreamWorks                                            0                0   \nFox 2000 Pictures                                     0                0   \nFox Searchlight Pictures                              0                1   \nHollywood Pictures                                    0                0   \nMetro-Goldwyn-Mayer (MGM)                             0                0   \nMiramax                                               0                0   \nNew Line Cinema                                       0                0   \nOther                                                 0                1   \nParamount Pictures                                    0                0   \nScreen Gems                                           0                0   \nSummit Entertainment                                  0                0   \nTouchstone Pictures                                   0                0   \nTriStar Pictures                                      0                0   \nTwentieth Century Fox Film Corporation                0                0   \nUniversal Pictures                                    0                0   \nWalt Disney Pictures                                  1                0   \nWarner Bros.                                          1                0   \n\nreleased                                9.12.2016 00:00  \ncompany                                                  \nCastle Rock Entertainment                             0  \nColumbia Pictures                                     0  \nColumbia Pictures Corporation                         0  \nDimension Films                                       0  \nDreamWorks                                            0  \nFox 2000 Pictures                                     0  \nFox Searchlight Pictures                              0  \nHollywood Pictures                                    0  \nMetro-Goldwyn-Mayer (MGM)                             0  \nMiramax                                               0  \nNew Line Cinema                                       0  \nOther                                                 2  \nParamount Pictures                                    0  \nScreen Gems                                           0  \nSummit Entertainment                                  0  \nTouchstone Pictures                                   0  \nTriStar Pictures                                      0  \nTwentieth Century Fox Film Corporation                0  \nUniversal Pictures                                    0  \nWalt Disney Pictures                                  0  \nWarner Bros.                                          0  \n\n[21 rows x 1772 columns]",
      "text/html": "<div>\n<style scoped>\n    .dataframe tbody tr th:only-of-type {\n        vertical-align: middle;\n    }\n\n    .dataframe tbody tr th {\n        vertical-align: top;\n    }\n\n    .dataframe thead th {\n        text-align: right;\n    }\n</style>\n<table border=\"1\" class=\"dataframe\">\n  <thead>\n    <tr style=\"text-align: right;\">\n      <th>released</th>\n      <th>0</th>\n      <th>1.01.2004 00:00</th>\n      <th>1.02.1991 00:00</th>\n      <th>1.02.2002 00:00</th>\n      <th>1.02.2008 00:00</th>\n      <th>1.02.2013 00:00</th>\n      <th>1.03.1991 00:00</th>\n      <th>1.03.1996 00:00</th>\n      <th>1.03.2002 00:00</th>\n      <th>1.03.2013 00:00</th>\n      <th>...</th>\n      <th>9.11.1994 00:00</th>\n      <th>9.11.2001 00:00</th>\n      <th>9.11.2005 00:00</th>\n      <th>9.11.2007 00:00</th>\n      <th>9.11.2012 00:00</th>\n      <th>9.12.1988 00:00</th>\n      <th>9.12.1994 00:00</th>\n      <th>9.12.2005 00:00</th>\n      <th>9.12.2011 00:00</th>\n      <th>9.12.2016 00:00</th>\n    </tr>\n    <tr>\n      <th>company</th>\n      <th></th>\n      <th></th>\n      <th></th>\n      <th></th>\n      <th></th>\n      <th></th>\n      <th></th>\n      <th></th>\n      <th></th>\n      <th></th>\n      <th></th>\n      <th></th>\n      <th></th>\n      <th></th>\n      <th></th>\n      <th></th>\n      <th></th>\n      <th></th>\n      <th></th>\n      <th></th>\n      <th></th>\n    </tr>\n  </thead>\n  <tbody>\n    <tr>\n      <th>Castle Rock Entertainment</th>\n      <td>0</td>\n      <td>0</td>\n      <td>0</td>\n      <td>0</td>\n      <td>0</td>\n      <td>0</td>\n      <td>0</td>\n      <td>0</td>\n      <td>0</td>\n      <td>0</td>\n      <td>...</td>\n      <td>0</td>\n      <td>0</td>\n      <td>0</td>\n      <td>0</td>\n      <td>0</td>\n      <td>0</td>\n      <td>0</td>\n      <td>0</td>\n      <td>0</td>\n      <td>0</td>\n    </tr>\n    <tr>\n      <th>Columbia Pictures</th>\n      <td>0</td>\n      <td>0</td>\n      <td>0</td>\n      <td>0</td>\n      <td>0</td>\n      <td>0</td>\n      <td>0</td>\n      <td>0</td>\n      <td>0</td>\n      <td>0</td>\n      <td>...</td>\n      <td>0</td>\n      <td>0</td>\n      <td>0</td>\n      <td>0</td>\n      <td>0</td>\n      <td>0</td>\n      <td>0</td>\n      <td>0</td>\n      <td>0</td>\n      <td>0</td>\n    </tr>\n    <tr>\n      <th>Columbia Pictures Corporation</th>\n      <td>0</td>\n      <td>0</td>\n      <td>0</td>\n      <td>0</td>\n      <td>0</td>\n      <td>0</td>\n      <td>0</td>\n      <td>0</td>\n      <td>0</td>\n      <td>0</td>\n      <td>...</td>\n      <td>0</td>\n      <td>0</td>\n      <td>0</td>\n      <td>0</td>\n      <td>0</td>\n      <td>0</td>\n      <td>0</td>\n      <td>0</td>\n      <td>0</td>\n      <td>0</td>\n    </tr>\n    <tr>\n      <th>Dimension Films</th>\n      <td>0</td>\n      <td>0</td>\n      <td>0</td>\n      <td>0</td>\n      <td>0</td>\n      <td>0</td>\n      <td>0</td>\n      <td>0</td>\n      <td>0</td>\n      <td>0</td>\n      <td>...</td>\n      <td>0</td>\n      <td>0</td>\n      <td>0</td>\n      <td>0</td>\n      <td>0</td>\n      <td>0</td>\n      <td>0</td>\n      <td>0</td>\n      <td>0</td>\n      <td>0</td>\n    </tr>\n    <tr>\n      <th>DreamWorks</th>\n      <td>0</td>\n      <td>0</td>\n      <td>0</td>\n      <td>0</td>\n      <td>0</td>\n      <td>0</td>\n      <td>0</td>\n      <td>0</td>\n      <td>0</td>\n      <td>0</td>\n      <td>...</td>\n      <td>0</td>\n      <td>0</td>\n      <td>0</td>\n      <td>0</td>\n      <td>0</td>\n      <td>0</td>\n      <td>0</td>\n      <td>0</td>\n      <td>0</td>\n      <td>0</td>\n    </tr>\n    <tr>\n      <th>Fox 2000 Pictures</th>\n      <td>0</td>\n      <td>0</td>\n      <td>0</td>\n      <td>0</td>\n      <td>0</td>\n      <td>0</td>\n      <td>0</td>\n      <td>0</td>\n      <td>0</td>\n      <td>0</td>\n      <td>...</td>\n      <td>0</td>\n      <td>0</td>\n      <td>0</td>\n      <td>0</td>\n      <td>0</td>\n      <td>0</td>\n      <td>0</td>\n      <td>0</td>\n      <td>0</td>\n      <td>0</td>\n    </tr>\n    <tr>\n      <th>Fox Searchlight Pictures</th>\n      <td>0</td>\n      <td>0</td>\n      <td>0</td>\n      <td>0</td>\n      <td>0</td>\n      <td>0</td>\n      <td>0</td>\n      <td>0</td>\n      <td>0</td>\n      <td>0</td>\n      <td>...</td>\n      <td>0</td>\n      <td>0</td>\n      <td>0</td>\n      <td>0</td>\n      <td>0</td>\n      <td>0</td>\n      <td>0</td>\n      <td>0</td>\n      <td>1</td>\n      <td>0</td>\n    </tr>\n    <tr>\n      <th>Hollywood Pictures</th>\n      <td>0</td>\n      <td>0</td>\n      <td>0</td>\n      <td>0</td>\n      <td>0</td>\n      <td>0</td>\n      <td>0</td>\n      <td>0</td>\n      <td>0</td>\n      <td>0</td>\n      <td>...</td>\n      <td>0</td>\n      <td>0</td>\n      <td>0</td>\n      <td>0</td>\n      <td>0</td>\n      <td>0</td>\n      <td>0</td>\n      <td>0</td>\n      <td>0</td>\n      <td>0</td>\n    </tr>\n    <tr>\n      <th>Metro-Goldwyn-Mayer (MGM)</th>\n      <td>0</td>\n      <td>0</td>\n      <td>0</td>\n      <td>0</td>\n      <td>0</td>\n      <td>0</td>\n      <td>0</td>\n      <td>0</td>\n      <td>0</td>\n      <td>0</td>\n      <td>...</td>\n      <td>0</td>\n      <td>0</td>\n      <td>0</td>\n      <td>1</td>\n      <td>0</td>\n      <td>0</td>\n      <td>0</td>\n      <td>0</td>\n      <td>0</td>\n      <td>0</td>\n    </tr>\n    <tr>\n      <th>Miramax</th>\n      <td>0</td>\n      <td>0</td>\n      <td>0</td>\n      <td>0</td>\n      <td>0</td>\n      <td>0</td>\n      <td>0</td>\n      <td>0</td>\n      <td>1</td>\n      <td>0</td>\n      <td>...</td>\n      <td>0</td>\n      <td>0</td>\n      <td>0</td>\n      <td>0</td>\n      <td>0</td>\n      <td>0</td>\n      <td>0</td>\n      <td>0</td>\n      <td>0</td>\n      <td>0</td>\n    </tr>\n    <tr>\n      <th>New Line Cinema</th>\n      <td>0</td>\n      <td>0</td>\n      <td>0</td>\n      <td>0</td>\n      <td>0</td>\n      <td>0</td>\n      <td>0</td>\n      <td>0</td>\n      <td>0</td>\n      <td>1</td>\n      <td>...</td>\n      <td>0</td>\n      <td>0</td>\n      <td>0</td>\n      <td>0</td>\n      <td>0</td>\n      <td>0</td>\n      <td>0</td>\n      <td>0</td>\n      <td>0</td>\n      <td>0</td>\n    </tr>\n    <tr>\n      <th>Other</th>\n      <td>9</td>\n      <td>0</td>\n      <td>2</td>\n      <td>2</td>\n      <td>2</td>\n      <td>2</td>\n      <td>1</td>\n      <td>0</td>\n      <td>2</td>\n      <td>1</td>\n      <td>...</td>\n      <td>1</td>\n      <td>1</td>\n      <td>1</td>\n      <td>1</td>\n      <td>1</td>\n      <td>0</td>\n      <td>0</td>\n      <td>0</td>\n      <td>1</td>\n      <td>2</td>\n    </tr>\n    <tr>\n      <th>Paramount Pictures</th>\n      <td>0</td>\n      <td>0</td>\n      <td>0</td>\n      <td>0</td>\n      <td>0</td>\n      <td>0</td>\n      <td>0</td>\n      <td>0</td>\n      <td>0</td>\n      <td>0</td>\n      <td>...</td>\n      <td>0</td>\n      <td>0</td>\n      <td>0</td>\n      <td>0</td>\n      <td>0</td>\n      <td>0</td>\n      <td>1</td>\n      <td>0</td>\n      <td>0</td>\n      <td>0</td>\n    </tr>\n    <tr>\n      <th>Screen Gems</th>\n      <td>0</td>\n      <td>0</td>\n      <td>0</td>\n      <td>0</td>\n      <td>0</td>\n      <td>0</td>\n      <td>0</td>\n      <td>0</td>\n      <td>0</td>\n      <td>0</td>\n      <td>...</td>\n      <td>0</td>\n      <td>0</td>\n      <td>0</td>\n      <td>0</td>\n      <td>0</td>\n      <td>0</td>\n      <td>0</td>\n      <td>0</td>\n      <td>0</td>\n      <td>0</td>\n    </tr>\n    <tr>\n      <th>Summit Entertainment</th>\n      <td>0</td>\n      <td>0</td>\n      <td>0</td>\n      <td>0</td>\n      <td>0</td>\n      <td>1</td>\n      <td>0</td>\n      <td>0</td>\n      <td>0</td>\n      <td>0</td>\n      <td>...</td>\n      <td>0</td>\n      <td>0</td>\n      <td>0</td>\n      <td>0</td>\n      <td>0</td>\n      <td>0</td>\n      <td>0</td>\n      <td>0</td>\n      <td>0</td>\n      <td>0</td>\n    </tr>\n    <tr>\n      <th>Touchstone Pictures</th>\n      <td>0</td>\n      <td>1</td>\n      <td>0</td>\n      <td>0</td>\n      <td>0</td>\n      <td>0</td>\n      <td>0</td>\n      <td>1</td>\n      <td>0</td>\n      <td>0</td>\n      <td>...</td>\n      <td>0</td>\n      <td>0</td>\n      <td>0</td>\n      <td>0</td>\n      <td>0</td>\n      <td>0</td>\n      <td>0</td>\n      <td>0</td>\n      <td>0</td>\n      <td>0</td>\n    </tr>\n    <tr>\n      <th>TriStar Pictures</th>\n      <td>0</td>\n      <td>0</td>\n      <td>0</td>\n      <td>0</td>\n      <td>0</td>\n      <td>0</td>\n      <td>0</td>\n      <td>0</td>\n      <td>0</td>\n      <td>0</td>\n      <td>...</td>\n      <td>0</td>\n      <td>0</td>\n      <td>0</td>\n      <td>0</td>\n      <td>0</td>\n      <td>0</td>\n      <td>0</td>\n      <td>0</td>\n      <td>0</td>\n      <td>0</td>\n    </tr>\n    <tr>\n      <th>Twentieth Century Fox Film Corporation</th>\n      <td>0</td>\n      <td>0</td>\n      <td>0</td>\n      <td>0</td>\n      <td>0</td>\n      <td>0</td>\n      <td>0</td>\n      <td>1</td>\n      <td>0</td>\n      <td>0</td>\n      <td>...</td>\n      <td>0</td>\n      <td>1</td>\n      <td>0</td>\n      <td>0</td>\n      <td>0</td>\n      <td>0</td>\n      <td>0</td>\n      <td>0</td>\n      <td>0</td>\n      <td>0</td>\n    </tr>\n    <tr>\n      <th>Universal Pictures</th>\n      <td>0</td>\n      <td>0</td>\n      <td>0</td>\n      <td>0</td>\n      <td>0</td>\n      <td>0</td>\n      <td>0</td>\n      <td>0</td>\n      <td>0</td>\n      <td>0</td>\n      <td>...</td>\n      <td>0</td>\n      <td>0</td>\n      <td>0</td>\n      <td>0</td>\n      <td>0</td>\n      <td>1</td>\n      <td>0</td>\n      <td>0</td>\n      <td>0</td>\n      <td>0</td>\n    </tr>\n    <tr>\n      <th>Walt Disney Pictures</th>\n      <td>0</td>\n      <td>0</td>\n      <td>0</td>\n      <td>0</td>\n      <td>0</td>\n      <td>0</td>\n      <td>0</td>\n      <td>0</td>\n      <td>0</td>\n      <td>0</td>\n      <td>...</td>\n      <td>0</td>\n      <td>0</td>\n      <td>0</td>\n      <td>0</td>\n      <td>0</td>\n      <td>0</td>\n      <td>0</td>\n      <td>1</td>\n      <td>0</td>\n      <td>0</td>\n    </tr>\n    <tr>\n      <th>Warner Bros.</th>\n      <td>0</td>\n      <td>0</td>\n      <td>0</td>\n      <td>0</td>\n      <td>0</td>\n      <td>0</td>\n      <td>0</td>\n      <td>0</td>\n      <td>0</td>\n      <td>0</td>\n      <td>...</td>\n      <td>0</td>\n      <td>0</td>\n      <td>0</td>\n      <td>1</td>\n      <td>0</td>\n      <td>0</td>\n      <td>1</td>\n      <td>1</td>\n      <td>0</td>\n      <td>0</td>\n    </tr>\n  </tbody>\n</table>\n<p>21 rows × 1772 columns</p>\n</div>"
     },
     "metadata": {}
    },
    {
     "output_type": "stream",
     "name": "stdout",
     "text": [
      "Observed Values\n"
     ]
    },
    {
     "output_type": "display_data",
     "data": {
      "text/plain": "array([[0, 0, 0, ..., 0, 0, 0],\n       [0, 0, 0, ..., 0, 0, 0],\n       [0, 0, 0, ..., 0, 0, 0],\n       ...,\n       [0, 0, 0, ..., 0, 0, 0],\n       [0, 0, 0, ..., 1, 0, 0],\n       [0, 0, 0, ..., 1, 0, 0]], dtype=int64)"
     },
     "metadata": {}
    },
    {
     "output_type": "stream",
     "name": "stdout",
     "text": [
      "chi2_test_statistic, p, dof, expected\n"
     ]
    },
    {
     "output_type": "display_data",
     "data": {
      "text/plain": "33096.17975178755"
     },
     "metadata": {}
    },
    {
     "output_type": "display_data",
     "data": {
      "text/plain": "1.0"
     },
     "metadata": {}
    },
    {
     "output_type": "display_data",
     "data": {
      "text/plain": "35420"
     },
     "metadata": {}
    },
    {
     "output_type": "display_data",
     "data": {
      "text/plain": "array([[0.09449489, 0.01049943, 0.02099886, ..., 0.02099886, 0.02099886,\n        0.02099886],\n       [0.22474461, 0.02497162, 0.04994325, ..., 0.04994325, 0.04994325,\n        0.04994325],\n       [0.29880817, 0.03320091, 0.06640182, ..., 0.06640182, 0.06640182,\n        0.06640182],\n       ...,\n       [0.53121453, 0.05902384, 0.11804767, ..., 0.11804767, 0.11804767,\n        0.11804767],\n       [0.1762202 , 0.01958002, 0.03916005, ..., 0.03916005, 0.03916005,\n        0.03916005],\n       [0.54143019, 0.06015891, 0.12031782, ..., 0.12031782, 0.12031782,\n        0.12031782]])"
     },
     "metadata": {}
    },
    {
     "output_type": "stream",
     "name": "stdout",
     "text": [
      "critical = 35858.925, chi2_test_statistic = 33096.180\nIndependent (fail to reject H0)\n\nsignificance = 0.050, p = 1.000\nIndependent (fail to reject H0)\n"
     ]
    },
    {
     "output_type": "display_data",
     "data": {
      "text/plain": "isprofit                                   0    1\ncompany                                          \nCastle Rock Entertainment                 18   19\nColumbia Pictures                         33   55\nColumbia Pictures Corporation             58   59\nDimension Films                           12   22\nDreamWorks                                29   32\nFox 2000 Pictures                         18   28\nFox Searchlight Pictures                  11   24\nHollywood Pictures                        13   18\nMetro-Goldwyn-Mayer (MGM)                 36   24\nMiramax                                   21   24\nNew Line Cinema                           42   77\nOther                                   1044  833\nParamount Pictures                        59  118\nScreen Gems                               10   22\nSummit Entertainment                      11   20\nTouchstone Pictures                       26   50\nTriStar Pictures                          17   24\nTwentieth Century Fox Film Corporation    53   75\nUniversal Pictures                        90  118\nWalt Disney Pictures                      19   50\nWarner Bros.                             105  107",
      "text/html": "<div>\n<style scoped>\n    .dataframe tbody tr th:only-of-type {\n        vertical-align: middle;\n    }\n\n    .dataframe tbody tr th {\n        vertical-align: top;\n    }\n\n    .dataframe thead th {\n        text-align: right;\n    }\n</style>\n<table border=\"1\" class=\"dataframe\">\n  <thead>\n    <tr style=\"text-align: right;\">\n      <th>isprofit</th>\n      <th>0</th>\n      <th>1</th>\n    </tr>\n    <tr>\n      <th>company</th>\n      <th></th>\n      <th></th>\n    </tr>\n  </thead>\n  <tbody>\n    <tr>\n      <th>Castle Rock Entertainment</th>\n      <td>18</td>\n      <td>19</td>\n    </tr>\n    <tr>\n      <th>Columbia Pictures</th>\n      <td>33</td>\n      <td>55</td>\n    </tr>\n    <tr>\n      <th>Columbia Pictures Corporation</th>\n      <td>58</td>\n      <td>59</td>\n    </tr>\n    <tr>\n      <th>Dimension Films</th>\n      <td>12</td>\n      <td>22</td>\n    </tr>\n    <tr>\n      <th>DreamWorks</th>\n      <td>29</td>\n      <td>32</td>\n    </tr>\n    <tr>\n      <th>Fox 2000 Pictures</th>\n      <td>18</td>\n      <td>28</td>\n    </tr>\n    <tr>\n      <th>Fox Searchlight Pictures</th>\n      <td>11</td>\n      <td>24</td>\n    </tr>\n    <tr>\n      <th>Hollywood Pictures</th>\n      <td>13</td>\n      <td>18</td>\n    </tr>\n    <tr>\n      <th>Metro-Goldwyn-Mayer (MGM)</th>\n      <td>36</td>\n      <td>24</td>\n    </tr>\n    <tr>\n      <th>Miramax</th>\n      <td>21</td>\n      <td>24</td>\n    </tr>\n    <tr>\n      <th>New Line Cinema</th>\n      <td>42</td>\n      <td>77</td>\n    </tr>\n    <tr>\n      <th>Other</th>\n      <td>1044</td>\n      <td>833</td>\n    </tr>\n    <tr>\n      <th>Paramount Pictures</th>\n      <td>59</td>\n      <td>118</td>\n    </tr>\n    <tr>\n      <th>Screen Gems</th>\n      <td>10</td>\n      <td>22</td>\n    </tr>\n    <tr>\n      <th>Summit Entertainment</th>\n      <td>11</td>\n      <td>20</td>\n    </tr>\n    <tr>\n      <th>Touchstone Pictures</th>\n      <td>26</td>\n      <td>50</td>\n    </tr>\n    <tr>\n      <th>TriStar Pictures</th>\n      <td>17</td>\n      <td>24</td>\n    </tr>\n    <tr>\n      <th>Twentieth Century Fox Film Corporation</th>\n      <td>53</td>\n      <td>75</td>\n    </tr>\n    <tr>\n      <th>Universal Pictures</th>\n      <td>90</td>\n      <td>118</td>\n    </tr>\n    <tr>\n      <th>Walt Disney Pictures</th>\n      <td>19</td>\n      <td>50</td>\n    </tr>\n    <tr>\n      <th>Warner Bros.</th>\n      <td>105</td>\n      <td>107</td>\n    </tr>\n  </tbody>\n</table>\n</div>"
     },
     "metadata": {}
    },
    {
     "output_type": "stream",
     "name": "stdout",
     "text": [
      "Observed Values\n"
     ]
    },
    {
     "output_type": "display_data",
     "data": {
      "text/plain": "array([[  18,   19],\n       [  33,   55],\n       [  58,   59],\n       [  12,   22],\n       [  29,   32],\n       [  18,   28],\n       [  11,   24],\n       [  13,   18],\n       [  36,   24],\n       [  21,   24],\n       [  42,   77],\n       [1044,  833],\n       [  59,  118],\n       [  10,   22],\n       [  11,   20],\n       [  26,   50],\n       [  17,   24],\n       [  53,   75],\n       [  90,  118],\n       [  19,   50],\n       [ 105,  107]], dtype=int64)"
     },
     "metadata": {}
    },
    {
     "output_type": "stream",
     "name": "stdout",
     "text": [
      "chi2_test_statistic, p, dof, expected\n"
     ]
    },
    {
     "output_type": "display_data",
     "data": {
      "text/plain": "108.59106965831063"
     },
     "metadata": {}
    },
    {
     "output_type": "display_data",
     "data": {
      "text/plain": "3.54619926405531e-14"
     },
     "metadata": {}
    },
    {
     "output_type": "display_data",
     "data": {
      "text/plain": "20"
     },
     "metadata": {}
    },
    {
     "output_type": "display_data",
     "data": {
      "text/plain": "array([[ 18.111521  ,  18.888479  ],\n       [ 43.07604994,  44.92395006],\n       [ 57.2715664 ,  59.7284336 ],\n       [ 16.6430193 ,  17.3569807 ],\n       [ 29.85953462,  31.14046538],\n       [ 22.51702611,  23.48297389],\n       [ 17.13251986,  17.86748014],\n       [ 15.17451759,  15.82548241],\n       [ 29.37003405,  30.62996595],\n       [ 22.02752554,  22.97247446],\n       [ 58.25056754,  60.74943246],\n       [918.79256527, 958.20743473],\n       [ 86.64160045,  90.35839955],\n       [ 15.66401816,  16.33598184],\n       [ 15.17451759,  15.82548241],\n       [ 37.20204313,  38.79795687],\n       [ 20.06952327,  20.93047673],\n       [ 62.65607264,  65.34392736],\n       [101.81611805, 106.18388195],\n       [ 33.77553916,  35.22446084],\n       [103.77412032, 108.22587968]])"
     },
     "metadata": {}
    },
    {
     "output_type": "stream",
     "name": "stdout",
     "text": [
      "critical = 31.410, chi2_test_statistic = 108.591\nDependent (reject H0)\n\nsignificance = 0.050, p = 0.000\nDependent (reject H0)\n"
     ]
    },
    {
     "output_type": "display_data",
     "data": {
      "text/plain": "director  Barry Levinson  Bruce Beresford  Clint Eastwood  Dennis Dugan  \\\ncountry                                                                   \nOther                  0                4               1             0   \nUSA                   12                6              19            11   \n\ndirector  Martin Scorsese  Michael Apted  Oliver Stone  Other  Renny Harlin  \\\ncountry                                                                       \nOther                   2              1             4    472             0   \nUSA                     8              9            10   2769            12   \n\ndirector  Richard Donner  ...  Ridley Scott  Rob Reiner  Robert Zemeckis  \\\ncountry                   ...                                              \nOther                  1  ...             2           0                1   \nUSA                   10  ...            13          13               11   \n\ndirector  Ron Howard  Spike Lee  Steven Soderbergh  Steven Spielberg  \\\ncountry                                                                \nOther              0          0                  2                 1   \nUSA               17         15                 15                18   \n\ndirector  Tim Burton  Wes Craven  Woody Allen  \ncountry                                        \nOther              1           0            4  \nUSA               11          12           24  \n\n[2 rows x 21 columns]",
      "text/html": "<div>\n<style scoped>\n    .dataframe tbody tr th:only-of-type {\n        vertical-align: middle;\n    }\n\n    .dataframe tbody tr th {\n        vertical-align: top;\n    }\n\n    .dataframe thead th {\n        text-align: right;\n    }\n</style>\n<table border=\"1\" class=\"dataframe\">\n  <thead>\n    <tr style=\"text-align: right;\">\n      <th>director</th>\n      <th>Barry Levinson</th>\n      <th>Bruce Beresford</th>\n      <th>Clint Eastwood</th>\n      <th>Dennis Dugan</th>\n      <th>Martin Scorsese</th>\n      <th>Michael Apted</th>\n      <th>Oliver Stone</th>\n      <th>Other</th>\n      <th>Renny Harlin</th>\n      <th>Richard Donner</th>\n      <th>...</th>\n      <th>Ridley Scott</th>\n      <th>Rob Reiner</th>\n      <th>Robert Zemeckis</th>\n      <th>Ron Howard</th>\n      <th>Spike Lee</th>\n      <th>Steven Soderbergh</th>\n      <th>Steven Spielberg</th>\n      <th>Tim Burton</th>\n      <th>Wes Craven</th>\n      <th>Woody Allen</th>\n    </tr>\n    <tr>\n      <th>country</th>\n      <th></th>\n      <th></th>\n      <th></th>\n      <th></th>\n      <th></th>\n      <th></th>\n      <th></th>\n      <th></th>\n      <th></th>\n      <th></th>\n      <th></th>\n      <th></th>\n      <th></th>\n      <th></th>\n      <th></th>\n      <th></th>\n      <th></th>\n      <th></th>\n      <th></th>\n      <th></th>\n      <th></th>\n    </tr>\n  </thead>\n  <tbody>\n    <tr>\n      <th>Other</th>\n      <td>0</td>\n      <td>4</td>\n      <td>1</td>\n      <td>0</td>\n      <td>2</td>\n      <td>1</td>\n      <td>4</td>\n      <td>472</td>\n      <td>0</td>\n      <td>1</td>\n      <td>...</td>\n      <td>2</td>\n      <td>0</td>\n      <td>1</td>\n      <td>0</td>\n      <td>0</td>\n      <td>2</td>\n      <td>1</td>\n      <td>1</td>\n      <td>0</td>\n      <td>4</td>\n    </tr>\n    <tr>\n      <th>USA</th>\n      <td>12</td>\n      <td>6</td>\n      <td>19</td>\n      <td>11</td>\n      <td>8</td>\n      <td>9</td>\n      <td>10</td>\n      <td>2769</td>\n      <td>12</td>\n      <td>10</td>\n      <td>...</td>\n      <td>13</td>\n      <td>13</td>\n      <td>11</td>\n      <td>17</td>\n      <td>15</td>\n      <td>15</td>\n      <td>18</td>\n      <td>11</td>\n      <td>12</td>\n      <td>24</td>\n    </tr>\n  </tbody>\n</table>\n<p>2 rows × 21 columns</p>\n</div>"
     },
     "metadata": {}
    },
    {
     "output_type": "stream",
     "name": "stdout",
     "text": [
      "Observed Values\n"
     ]
    },
    {
     "output_type": "display_data",
     "data": {
      "text/plain": "array([[   0,    4,    1,    0,    2,    1,    4,  472,    0,    1,    1,\n           2,    0,    1,    0,    0,    2,    1,    1,    0,    4],\n       [  12,    6,   19,   11,    8,    9,   10, 2769,   12,   10,   12,\n          13,   13,   11,   17,   15,   15,   18,   11,   12,   24]],\n      dtype=int64)"
     },
     "metadata": {}
    },
    {
     "output_type": "stream",
     "name": "stdout",
     "text": [
      "chi2_test_statistic, p, dof, expected\n"
     ]
    },
    {
     "output_type": "display_data",
     "data": {
      "text/plain": "28.06027075879496"
     },
     "metadata": {}
    },
    {
     "output_type": "display_data",
     "data": {
      "text/plain": "0.10798029507256064"
     },
     "metadata": {}
    },
    {
     "output_type": "display_data",
     "data": {
      "text/plain": "20"
     },
     "metadata": {}
    },
    {
     "output_type": "display_data",
     "data": {
      "text/plain": "array([[1.69239501e+00, 1.41032917e+00, 2.82065834e+00, 1.55136209e+00,\n        1.41032917e+00, 1.41032917e+00, 1.97446084e+00, 4.57087684e+02,\n        1.69239501e+00, 1.55136209e+00, 1.83342792e+00, 2.11549376e+00,\n        1.83342792e+00, 1.69239501e+00, 2.39755959e+00, 2.11549376e+00,\n        2.39755959e+00, 2.67962543e+00, 1.69239501e+00, 1.69239501e+00,\n        3.94892168e+00],\n       [1.03076050e+01, 8.58967083e+00, 1.71793417e+01, 9.44863791e+00,\n        8.58967083e+00, 8.58967083e+00, 1.20255392e+01, 2.78391232e+03,\n        1.03076050e+01, 9.44863791e+00, 1.11665721e+01, 1.28845062e+01,\n        1.11665721e+01, 1.03076050e+01, 1.46024404e+01, 1.28845062e+01,\n        1.46024404e+01, 1.63203746e+01, 1.03076050e+01, 1.03076050e+01,\n        2.40510783e+01]])"
     },
     "metadata": {}
    },
    {
     "output_type": "stream",
     "name": "stdout",
     "text": [
      "critical = 31.410, chi2_test_statistic = 28.060\nIndependent (fail to reject H0)\n\nsignificance = 0.050, p = 0.108\nIndependent (fail to reject H0)\n"
     ]
    },
    {
     "output_type": "display_data",
     "data": {
      "text/plain": "rating   0   G  NC-17  NOT RATED  Not specified   PG  PG-13     R  UNRATED\ncountry                                                                   \nOther    9  13      1         13              2   61    141   253        4\nUSA      0  56      4         11              1  455   1061  1430        9",
      "text/html": "<div>\n<style scoped>\n    .dataframe tbody tr th:only-of-type {\n        vertical-align: middle;\n    }\n\n    .dataframe tbody tr th {\n        vertical-align: top;\n    }\n\n    .dataframe thead th {\n        text-align: right;\n    }\n</style>\n<table border=\"1\" class=\"dataframe\">\n  <thead>\n    <tr style=\"text-align: right;\">\n      <th>rating</th>\n      <th>0</th>\n      <th>G</th>\n      <th>NC-17</th>\n      <th>NOT RATED</th>\n      <th>Not specified</th>\n      <th>PG</th>\n      <th>PG-13</th>\n      <th>R</th>\n      <th>UNRATED</th>\n    </tr>\n    <tr>\n      <th>country</th>\n      <th></th>\n      <th></th>\n      <th></th>\n      <th></th>\n      <th></th>\n      <th></th>\n      <th></th>\n      <th></th>\n      <th></th>\n    </tr>\n  </thead>\n  <tbody>\n    <tr>\n      <th>Other</th>\n      <td>9</td>\n      <td>13</td>\n      <td>1</td>\n      <td>13</td>\n      <td>2</td>\n      <td>61</td>\n      <td>141</td>\n      <td>253</td>\n      <td>4</td>\n    </tr>\n    <tr>\n      <th>USA</th>\n      <td>0</td>\n      <td>56</td>\n      <td>4</td>\n      <td>11</td>\n      <td>1</td>\n      <td>455</td>\n      <td>1061</td>\n      <td>1430</td>\n      <td>9</td>\n    </tr>\n  </tbody>\n</table>\n</div>"
     },
     "metadata": {}
    },
    {
     "output_type": "stream",
     "name": "stdout",
     "text": [
      "Observed Values\n"
     ]
    },
    {
     "output_type": "display_data",
     "data": {
      "text/plain": "array([[   9,   13,    1,   13,    2,   61,  141,  253,    4],\n       [   0,   56,    4,   11,    1,  455, 1061, 1430,    9]],\n      dtype=int64)"
     },
     "metadata": {}
    },
    {
     "output_type": "stream",
     "name": "stdout",
     "text": [
      "chi2_test_statistic, p, dof, expected\n"
     ]
    },
    {
     "output_type": "display_data",
     "data": {
      "text/plain": "106.86195191438502"
     },
     "metadata": {}
    },
    {
     "output_type": "display_data",
     "data": {
      "text/plain": "1.6790128058106214e-19"
     },
     "metadata": {}
    },
    {
     "output_type": "display_data",
     "data": {
      "text/plain": "8"
     },
     "metadata": {}
    },
    {
     "output_type": "display_data",
     "data": {
      "text/plain": "array([[1.26929625e+00, 9.73127128e+00, 7.05164586e-01, 3.38479001e+00,\n        4.23098751e-01, 7.27729852e+01, 1.69521566e+02, 2.37358400e+02,\n        1.83342792e+00],\n       [7.73070375e+00, 5.92687287e+01, 4.29483541e+00, 2.06152100e+01,\n        2.57690125e+00, 4.43227015e+02, 1.03247843e+03, 1.44564160e+03,\n        1.11665721e+01]])"
     },
     "metadata": {}
    },
    {
     "output_type": "stream",
     "name": "stdout",
     "text": [
      "critical = 15.507, chi2_test_statistic = 106.862\nDependent (reject H0)\n\nsignificance = 0.050, p = 0.000\nDependent (reject H0)\n"
     ]
    },
    {
     "output_type": "display_data",
     "data": {
      "text/plain": "released  0  1.01.2004 00:00  1.02.1991 00:00  1.02.2002 00:00  \\\ncountry                                                          \nOther     9                1                0                2   \nUSA       0                0                2                0   \n\nreleased  1.02.2008 00:00  1.02.2013 00:00  1.03.1991 00:00  1.03.1996 00:00  \\\ncountry                                                                        \nOther                   0                0                0                0   \nUSA                     2                3                1                2   \n\nreleased  1.03.2002 00:00  1.03.2013 00:00  ...  9.11.1994 00:00  \\\ncountry                                     ...                    \nOther                   0                0  ...                0   \nUSA                     3                2  ...                1   \n\nreleased  9.11.2001 00:00  9.11.2005 00:00  9.11.2007 00:00  9.11.2012 00:00  \\\ncountry                                                                        \nOther                   0                0                0                1   \nUSA                     2                1                3                0   \n\nreleased  9.12.1988 00:00  9.12.1994 00:00  9.12.2005 00:00  9.12.2011 00:00  \\\ncountry                                                                        \nOther                   0                0                0                0   \nUSA                     1                2                2                2   \n\nreleased  9.12.2016 00:00  \ncountry                    \nOther                   0  \nUSA                     2  \n\n[2 rows x 1772 columns]",
      "text/html": "<div>\n<style scoped>\n    .dataframe tbody tr th:only-of-type {\n        vertical-align: middle;\n    }\n\n    .dataframe tbody tr th {\n        vertical-align: top;\n    }\n\n    .dataframe thead th {\n        text-align: right;\n    }\n</style>\n<table border=\"1\" class=\"dataframe\">\n  <thead>\n    <tr style=\"text-align: right;\">\n      <th>released</th>\n      <th>0</th>\n      <th>1.01.2004 00:00</th>\n      <th>1.02.1991 00:00</th>\n      <th>1.02.2002 00:00</th>\n      <th>1.02.2008 00:00</th>\n      <th>1.02.2013 00:00</th>\n      <th>1.03.1991 00:00</th>\n      <th>1.03.1996 00:00</th>\n      <th>1.03.2002 00:00</th>\n      <th>1.03.2013 00:00</th>\n      <th>...</th>\n      <th>9.11.1994 00:00</th>\n      <th>9.11.2001 00:00</th>\n      <th>9.11.2005 00:00</th>\n      <th>9.11.2007 00:00</th>\n      <th>9.11.2012 00:00</th>\n      <th>9.12.1988 00:00</th>\n      <th>9.12.1994 00:00</th>\n      <th>9.12.2005 00:00</th>\n      <th>9.12.2011 00:00</th>\n      <th>9.12.2016 00:00</th>\n    </tr>\n    <tr>\n      <th>country</th>\n      <th></th>\n      <th></th>\n      <th></th>\n      <th></th>\n      <th></th>\n      <th></th>\n      <th></th>\n      <th></th>\n      <th></th>\n      <th></th>\n      <th></th>\n      <th></th>\n      <th></th>\n      <th></th>\n      <th></th>\n      <th></th>\n      <th></th>\n      <th></th>\n      <th></th>\n      <th></th>\n      <th></th>\n    </tr>\n  </thead>\n  <tbody>\n    <tr>\n      <th>Other</th>\n      <td>9</td>\n      <td>1</td>\n      <td>0</td>\n      <td>2</td>\n      <td>0</td>\n      <td>0</td>\n      <td>0</td>\n      <td>0</td>\n      <td>0</td>\n      <td>0</td>\n      <td>...</td>\n      <td>0</td>\n      <td>0</td>\n      <td>0</td>\n      <td>0</td>\n      <td>1</td>\n      <td>0</td>\n      <td>0</td>\n      <td>0</td>\n      <td>0</td>\n      <td>0</td>\n    </tr>\n    <tr>\n      <th>USA</th>\n      <td>0</td>\n      <td>0</td>\n      <td>2</td>\n      <td>0</td>\n      <td>2</td>\n      <td>3</td>\n      <td>1</td>\n      <td>2</td>\n      <td>3</td>\n      <td>2</td>\n      <td>...</td>\n      <td>1</td>\n      <td>2</td>\n      <td>1</td>\n      <td>3</td>\n      <td>0</td>\n      <td>1</td>\n      <td>2</td>\n      <td>2</td>\n      <td>2</td>\n      <td>2</td>\n    </tr>\n  </tbody>\n</table>\n<p>2 rows × 1772 columns</p>\n</div>"
     },
     "metadata": {}
    },
    {
     "output_type": "stream",
     "name": "stdout",
     "text": [
      "Observed Values\n"
     ]
    },
    {
     "output_type": "display_data",
     "data": {
      "text/plain": "array([[9, 1, 0, ..., 0, 0, 0],\n       [0, 0, 2, ..., 2, 2, 2]], dtype=int64)"
     },
     "metadata": {}
    },
    {
     "output_type": "stream",
     "name": "stdout",
     "text": [
      "chi2_test_statistic, p, dof, expected\n"
     ]
    },
    {
     "output_type": "display_data",
     "data": {
      "text/plain": "1736.2411953179583"
     },
     "metadata": {}
    },
    {
     "output_type": "display_data",
     "data": {
      "text/plain": "0.7179228733334809"
     },
     "metadata": {}
    },
    {
     "output_type": "display_data",
     "data": {
      "text/plain": "1771"
     },
     "metadata": {}
    },
    {
     "output_type": "display_data",
     "data": {
      "text/plain": "array([[1.26929625, 0.14103292, 0.28206583, ..., 0.28206583, 0.28206583,\n        0.28206583],\n       [7.73070375, 0.85896708, 1.71793417, ..., 1.71793417, 1.71793417,\n        1.71793417]])"
     },
     "metadata": {}
    },
    {
     "output_type": "stream",
     "name": "stdout",
     "text": [
      "critical = 1870.017, chi2_test_statistic = 1736.241\nIndependent (fail to reject H0)\n\nsignificance = 0.050, p = 0.718\nIndependent (fail to reject H0)\n"
     ]
    },
    {
     "output_type": "display_data",
     "data": {
      "text/plain": "isprofit     0     1\ncountry             \nOther      330   167\nUSA       1395  1632",
      "text/html": "<div>\n<style scoped>\n    .dataframe tbody tr th:only-of-type {\n        vertical-align: middle;\n    }\n\n    .dataframe tbody tr th {\n        vertical-align: top;\n    }\n\n    .dataframe thead th {\n        text-align: right;\n    }\n</style>\n<table border=\"1\" class=\"dataframe\">\n  <thead>\n    <tr style=\"text-align: right;\">\n      <th>isprofit</th>\n      <th>0</th>\n      <th>1</th>\n    </tr>\n    <tr>\n      <th>country</th>\n      <th></th>\n      <th></th>\n    </tr>\n  </thead>\n  <tbody>\n    <tr>\n      <th>Other</th>\n      <td>330</td>\n      <td>167</td>\n    </tr>\n    <tr>\n      <th>USA</th>\n      <td>1395</td>\n      <td>1632</td>\n    </tr>\n  </tbody>\n</table>\n</div>"
     },
     "metadata": {}
    },
    {
     "output_type": "stream",
     "name": "stdout",
     "text": [
      "Observed Values\n"
     ]
    },
    {
     "output_type": "display_data",
     "data": {
      "text/plain": "array([[ 330,  167],\n       [1395, 1632]], dtype=int64)"
     },
     "metadata": {}
    },
    {
     "output_type": "stream",
     "name": "stdout",
     "text": [
      "chi2_test_statistic, p, dof, expected\n"
     ]
    },
    {
     "output_type": "display_data",
     "data": {
      "text/plain": "69.68137484569843"
     },
     "metadata": {}
    },
    {
     "output_type": "display_data",
     "data": {
      "text/plain": "6.970116776098656e-17"
     },
     "metadata": {}
    },
    {
     "output_type": "display_data",
     "data": {
      "text/plain": "1"
     },
     "metadata": {}
    },
    {
     "output_type": "display_data",
     "data": {
      "text/plain": "array([[ 243.28178207,  253.71821793],\n       [1481.71821793, 1545.28178207]])"
     },
     "metadata": {}
    },
    {
     "output_type": "stream",
     "name": "stdout",
     "text": [
      "critical = 3.841, chi2_test_statistic = 69.681\nDependent (reject H0)\n\nsignificance = 0.050, p = 0.000\nDependent (reject H0)\n"
     ]
    },
    {
     "output_type": "display_data",
     "data": {
      "text/plain": "rating             0   G  NC-17  NOT RATED  Not specified   PG  PG-13     R  \\\ndirector                                                                      \nBarry Levinson     0   0      0          0              0    0      2    10   \nBruce Beresford    0   0      0          0              0    2      3     5   \nClint Eastwood     0   0      0          0              0    1      7    12   \nDennis Dugan       0   0      0          0              0    2      9     0   \nMartin Scorsese    0   0      0          0              0    1      1     8   \nMichael Apted      0   0      0          0              0    2      4     4   \nOliver Stone       0   0      0          0              0    0      3    11   \nOther              9  68      5         23              3  484   1097  1539   \nRenny Harlin       0   0      0          0              0    0      4     8   \nRichard Donner     0   0      0          0              0    1      4     6   \nRichard Linklater  0   0      0          0              0    0      4     9   \nRidley Scott       0   0      0          0              0    0      5    10   \nRob Reiner         0   0      0          0              0    2      6     5   \nRobert Zemeckis    0   1      0          0              0    5      4     2   \nRon Howard         0   0      0          0              0    3     10     4   \nSpike Lee          0   0      0          0              0    0      1    14   \nSteven Soderbergh  0   0      0          1              0    0      6    10   \nSteven Spielberg   0   0      0          0              0    4     11     4   \nTim Burton         0   0      0          0              0    3      7     2   \nWes Craven         0   0      0          0              0    1      1    10   \nWoody Allen        0   0      0          0              0    5     13    10   \n\nrating             UNRATED  \ndirector                    \nBarry Levinson           0  \nBruce Beresford          0  \nClint Eastwood           0  \nDennis Dugan             0  \nMartin Scorsese          0  \nMichael Apted            0  \nOliver Stone             0  \nOther                   13  \nRenny Harlin             0  \nRichard Donner           0  \nRichard Linklater        0  \nRidley Scott             0  \nRob Reiner               0  \nRobert Zemeckis          0  \nRon Howard               0  \nSpike Lee                0  \nSteven Soderbergh        0  \nSteven Spielberg         0  \nTim Burton               0  \nWes Craven               0  \nWoody Allen              0  ",
      "text/html": "<div>\n<style scoped>\n    .dataframe tbody tr th:only-of-type {\n        vertical-align: middle;\n    }\n\n    .dataframe tbody tr th {\n        vertical-align: top;\n    }\n\n    .dataframe thead th {\n        text-align: right;\n    }\n</style>\n<table border=\"1\" class=\"dataframe\">\n  <thead>\n    <tr style=\"text-align: right;\">\n      <th>rating</th>\n      <th>0</th>\n      <th>G</th>\n      <th>NC-17</th>\n      <th>NOT RATED</th>\n      <th>Not specified</th>\n      <th>PG</th>\n      <th>PG-13</th>\n      <th>R</th>\n      <th>UNRATED</th>\n    </tr>\n    <tr>\n      <th>director</th>\n      <th></th>\n      <th></th>\n      <th></th>\n      <th></th>\n      <th></th>\n      <th></th>\n      <th></th>\n      <th></th>\n      <th></th>\n    </tr>\n  </thead>\n  <tbody>\n    <tr>\n      <th>Barry Levinson</th>\n      <td>0</td>\n      <td>0</td>\n      <td>0</td>\n      <td>0</td>\n      <td>0</td>\n      <td>0</td>\n      <td>2</td>\n      <td>10</td>\n      <td>0</td>\n    </tr>\n    <tr>\n      <th>Bruce Beresford</th>\n      <td>0</td>\n      <td>0</td>\n      <td>0</td>\n      <td>0</td>\n      <td>0</td>\n      <td>2</td>\n      <td>3</td>\n      <td>5</td>\n      <td>0</td>\n    </tr>\n    <tr>\n      <th>Clint Eastwood</th>\n      <td>0</td>\n      <td>0</td>\n      <td>0</td>\n      <td>0</td>\n      <td>0</td>\n      <td>1</td>\n      <td>7</td>\n      <td>12</td>\n      <td>0</td>\n    </tr>\n    <tr>\n      <th>Dennis Dugan</th>\n      <td>0</td>\n      <td>0</td>\n      <td>0</td>\n      <td>0</td>\n      <td>0</td>\n      <td>2</td>\n      <td>9</td>\n      <td>0</td>\n      <td>0</td>\n    </tr>\n    <tr>\n      <th>Martin Scorsese</th>\n      <td>0</td>\n      <td>0</td>\n      <td>0</td>\n      <td>0</td>\n      <td>0</td>\n      <td>1</td>\n      <td>1</td>\n      <td>8</td>\n      <td>0</td>\n    </tr>\n    <tr>\n      <th>Michael Apted</th>\n      <td>0</td>\n      <td>0</td>\n      <td>0</td>\n      <td>0</td>\n      <td>0</td>\n      <td>2</td>\n      <td>4</td>\n      <td>4</td>\n      <td>0</td>\n    </tr>\n    <tr>\n      <th>Oliver Stone</th>\n      <td>0</td>\n      <td>0</td>\n      <td>0</td>\n      <td>0</td>\n      <td>0</td>\n      <td>0</td>\n      <td>3</td>\n      <td>11</td>\n      <td>0</td>\n    </tr>\n    <tr>\n      <th>Other</th>\n      <td>9</td>\n      <td>68</td>\n      <td>5</td>\n      <td>23</td>\n      <td>3</td>\n      <td>484</td>\n      <td>1097</td>\n      <td>1539</td>\n      <td>13</td>\n    </tr>\n    <tr>\n      <th>Renny Harlin</th>\n      <td>0</td>\n      <td>0</td>\n      <td>0</td>\n      <td>0</td>\n      <td>0</td>\n      <td>0</td>\n      <td>4</td>\n      <td>8</td>\n      <td>0</td>\n    </tr>\n    <tr>\n      <th>Richard Donner</th>\n      <td>0</td>\n      <td>0</td>\n      <td>0</td>\n      <td>0</td>\n      <td>0</td>\n      <td>1</td>\n      <td>4</td>\n      <td>6</td>\n      <td>0</td>\n    </tr>\n    <tr>\n      <th>Richard Linklater</th>\n      <td>0</td>\n      <td>0</td>\n      <td>0</td>\n      <td>0</td>\n      <td>0</td>\n      <td>0</td>\n      <td>4</td>\n      <td>9</td>\n      <td>0</td>\n    </tr>\n    <tr>\n      <th>Ridley Scott</th>\n      <td>0</td>\n      <td>0</td>\n      <td>0</td>\n      <td>0</td>\n      <td>0</td>\n      <td>0</td>\n      <td>5</td>\n      <td>10</td>\n      <td>0</td>\n    </tr>\n    <tr>\n      <th>Rob Reiner</th>\n      <td>0</td>\n      <td>0</td>\n      <td>0</td>\n      <td>0</td>\n      <td>0</td>\n      <td>2</td>\n      <td>6</td>\n      <td>5</td>\n      <td>0</td>\n    </tr>\n    <tr>\n      <th>Robert Zemeckis</th>\n      <td>0</td>\n      <td>1</td>\n      <td>0</td>\n      <td>0</td>\n      <td>0</td>\n      <td>5</td>\n      <td>4</td>\n      <td>2</td>\n      <td>0</td>\n    </tr>\n    <tr>\n      <th>Ron Howard</th>\n      <td>0</td>\n      <td>0</td>\n      <td>0</td>\n      <td>0</td>\n      <td>0</td>\n      <td>3</td>\n      <td>10</td>\n      <td>4</td>\n      <td>0</td>\n    </tr>\n    <tr>\n      <th>Spike Lee</th>\n      <td>0</td>\n      <td>0</td>\n      <td>0</td>\n      <td>0</td>\n      <td>0</td>\n      <td>0</td>\n      <td>1</td>\n      <td>14</td>\n      <td>0</td>\n    </tr>\n    <tr>\n      <th>Steven Soderbergh</th>\n      <td>0</td>\n      <td>0</td>\n      <td>0</td>\n      <td>1</td>\n      <td>0</td>\n      <td>0</td>\n      <td>6</td>\n      <td>10</td>\n      <td>0</td>\n    </tr>\n    <tr>\n      <th>Steven Spielberg</th>\n      <td>0</td>\n      <td>0</td>\n      <td>0</td>\n      <td>0</td>\n      <td>0</td>\n      <td>4</td>\n      <td>11</td>\n      <td>4</td>\n      <td>0</td>\n    </tr>\n    <tr>\n      <th>Tim Burton</th>\n      <td>0</td>\n      <td>0</td>\n      <td>0</td>\n      <td>0</td>\n      <td>0</td>\n      <td>3</td>\n      <td>7</td>\n      <td>2</td>\n      <td>0</td>\n    </tr>\n    <tr>\n      <th>Wes Craven</th>\n      <td>0</td>\n      <td>0</td>\n      <td>0</td>\n      <td>0</td>\n      <td>0</td>\n      <td>1</td>\n      <td>1</td>\n      <td>10</td>\n      <td>0</td>\n    </tr>\n    <tr>\n      <th>Woody Allen</th>\n      <td>0</td>\n      <td>0</td>\n      <td>0</td>\n      <td>0</td>\n      <td>0</td>\n      <td>5</td>\n      <td>13</td>\n      <td>10</td>\n      <td>0</td>\n    </tr>\n  </tbody>\n</table>\n</div>"
     },
     "metadata": {}
    },
    {
     "output_type": "stream",
     "name": "stdout",
     "text": [
      "Observed Values\n"
     ]
    },
    {
     "output_type": "display_data",
     "data": {
      "text/plain": "array([[   0,    0,    0,    0,    0,    0,    2,   10,    0],\n       [   0,    0,    0,    0,    0,    2,    3,    5,    0],\n       [   0,    0,    0,    0,    0,    1,    7,   12,    0],\n       [   0,    0,    0,    0,    0,    2,    9,    0,    0],\n       [   0,    0,    0,    0,    0,    1,    1,    8,    0],\n       [   0,    0,    0,    0,    0,    2,    4,    4,    0],\n       [   0,    0,    0,    0,    0,    0,    3,   11,    0],\n       [   9,   68,    5,   23,    3,  484, 1097, 1539,   13],\n       [   0,    0,    0,    0,    0,    0,    4,    8,    0],\n       [   0,    0,    0,    0,    0,    1,    4,    6,    0],\n       [   0,    0,    0,    0,    0,    0,    4,    9,    0],\n       [   0,    0,    0,    0,    0,    0,    5,   10,    0],\n       [   0,    0,    0,    0,    0,    2,    6,    5,    0],\n       [   0,    1,    0,    0,    0,    5,    4,    2,    0],\n       [   0,    0,    0,    0,    0,    3,   10,    4,    0],\n       [   0,    0,    0,    0,    0,    0,    1,   14,    0],\n       [   0,    0,    0,    1,    0,    0,    6,   10,    0],\n       [   0,    0,    0,    0,    0,    4,   11,    4,    0],\n       [   0,    0,    0,    0,    0,    3,    7,    2,    0],\n       [   0,    0,    0,    0,    0,    1,    1,   10,    0],\n       [   0,    0,    0,    0,    0,    5,   13,   10,    0]],\n      dtype=int64)"
     },
     "metadata": {}
    },
    {
     "output_type": "stream",
     "name": "stdout",
     "text": [
      "chi2_test_statistic, p, dof, expected\n"
     ]
    },
    {
     "output_type": "display_data",
     "data": {
      "text/plain": "109.42592092116308"
     },
     "metadata": {}
    },
    {
     "output_type": "display_data",
     "data": {
      "text/plain": "0.9992045661618998"
     },
     "metadata": {}
    },
    {
     "output_type": "display_data",
     "data": {
      "text/plain": "160"
     },
     "metadata": {}
    },
    {
     "output_type": "display_data",
     "data": {
      "text/plain": "array([[3.06469921e-02, 2.34960272e-01, 1.70261067e-02, 8.17253121e-02,\n        1.02156640e-02, 1.75709421e+00, 4.09307605e+00, 5.73098751e+00,\n        4.42678774e-02],\n       [2.55391600e-02, 1.95800227e-01, 1.41884222e-02, 6.81044268e-02,\n        8.51305335e-03, 1.46424518e+00, 3.41089671e+00, 4.77582293e+00,\n        3.68898978e-02],\n       [5.10783201e-02, 3.91600454e-01, 2.83768445e-02, 1.36208854e-01,\n        1.70261067e-02, 2.92849035e+00, 6.82179342e+00, 9.55164586e+00,\n        7.37797957e-02],\n       [2.80930760e-02, 2.15380250e-01, 1.56072645e-02, 7.49148695e-02,\n        9.36435868e-03, 1.61066969e+00, 3.75198638e+00, 5.25340522e+00,\n        4.05788876e-02],\n       [2.55391600e-02, 1.95800227e-01, 1.41884222e-02, 6.81044268e-02,\n        8.51305335e-03, 1.46424518e+00, 3.41089671e+00, 4.77582293e+00,\n        3.68898978e-02],\n       [2.55391600e-02, 1.95800227e-01, 1.41884222e-02, 6.81044268e-02,\n        8.51305335e-03, 1.46424518e+00, 3.41089671e+00, 4.77582293e+00,\n        3.68898978e-02],\n       [3.57548241e-02, 2.74120318e-01, 1.98637911e-02, 9.53461975e-02,\n        1.19182747e-02, 2.04994325e+00, 4.77525539e+00, 6.68615210e+00,\n        5.16458570e-02],\n       [8.27724177e+00, 6.34588536e+01, 4.59846765e+00, 2.20726447e+01,\n        2.75908059e+00, 4.74561862e+02, 1.10547162e+03, 1.54784421e+03,\n        1.19560159e+01],\n       [3.06469921e-02, 2.34960272e-01, 1.70261067e-02, 8.17253121e-02,\n        1.02156640e-02, 1.75709421e+00, 4.09307605e+00, 5.73098751e+00,\n        4.42678774e-02],\n       [2.80930760e-02, 2.15380250e-01, 1.56072645e-02, 7.49148695e-02,\n        9.36435868e-03, 1.61066969e+00, 3.75198638e+00, 5.25340522e+00,\n        4.05788876e-02],\n       [3.32009081e-02, 2.54540295e-01, 1.84449489e-02, 8.85357548e-02,\n        1.10669694e-02, 1.90351873e+00, 4.43416572e+00, 6.20856981e+00,\n        4.79568672e-02],\n       [3.83087401e-02, 2.93700341e-01, 2.12826334e-02, 1.02156640e-01,\n        1.27695800e-02, 2.19636776e+00, 5.11634506e+00, 7.16373439e+00,\n        5.53348468e-02],\n       [3.32009081e-02, 2.54540295e-01, 1.84449489e-02, 8.85357548e-02,\n        1.10669694e-02, 1.90351873e+00, 4.43416572e+00, 6.20856981e+00,\n        4.79568672e-02],\n       [3.06469921e-02, 2.34960272e-01, 1.70261067e-02, 8.17253121e-02,\n        1.02156640e-02, 1.75709421e+00, 4.09307605e+00, 5.73098751e+00,\n        4.42678774e-02],\n       [4.34165721e-02, 3.32860386e-01, 2.41203178e-02, 1.15777526e-01,\n        1.44721907e-02, 2.48921680e+00, 5.79852440e+00, 8.11889898e+00,\n        6.27128263e-02],\n       [3.83087401e-02, 2.93700341e-01, 2.12826334e-02, 1.02156640e-01,\n        1.27695800e-02, 2.19636776e+00, 5.11634506e+00, 7.16373439e+00,\n        5.53348468e-02],\n       [4.34165721e-02, 3.32860386e-01, 2.41203178e-02, 1.15777526e-01,\n        1.44721907e-02, 2.48921680e+00, 5.79852440e+00, 8.11889898e+00,\n        6.27128263e-02],\n       [4.85244041e-02, 3.72020431e-01, 2.69580023e-02, 1.29398411e-01,\n        1.61748014e-02, 2.78206583e+00, 6.48070375e+00, 9.07406356e+00,\n        7.00908059e-02],\n       [3.06469921e-02, 2.34960272e-01, 1.70261067e-02, 8.17253121e-02,\n        1.02156640e-02, 1.75709421e+00, 4.09307605e+00, 5.73098751e+00,\n        4.42678774e-02],\n       [3.06469921e-02, 2.34960272e-01, 1.70261067e-02, 8.17253121e-02,\n        1.02156640e-02, 1.75709421e+00, 4.09307605e+00, 5.73098751e+00,\n        4.42678774e-02],\n       [7.15096481e-02, 5.48240636e-01, 3.97275823e-02, 1.90692395e-01,\n        2.38365494e-02, 4.09988649e+00, 9.55051078e+00, 1.33723042e+01,\n        1.03291714e-01]])"
     },
     "metadata": {}
    },
    {
     "output_type": "stream",
     "name": "stdout",
     "text": [
      "critical = 190.516, chi2_test_statistic = 109.426\nIndependent (fail to reject H0)\n\nsignificance = 0.050, p = 0.999\nIndependent (fail to reject H0)\n"
     ]
    },
    {
     "output_type": "display_data",
     "data": {
      "text/plain": "released           0  1.01.2004 00:00  1.02.1991 00:00  1.02.2002 00:00  \\\ndirector                                                                  \nBarry Levinson     0                0                0                0   \nBruce Beresford    0                0                0                0   \nClint Eastwood     0                0                0                0   \nDennis Dugan       0                0                0                0   \nMartin Scorsese    0                0                0                0   \nMichael Apted      0                0                0                0   \nOliver Stone       0                0                0                0   \nOther              9                1                2                2   \nRenny Harlin       0                0                0                0   \nRichard Donner     0                0                0                0   \nRichard Linklater  0                0                0                0   \nRidley Scott       0                0                0                0   \nRob Reiner         0                0                0                0   \nRobert Zemeckis    0                0                0                0   \nRon Howard         0                0                0                0   \nSpike Lee          0                0                0                0   \nSteven Soderbergh  0                0                0                0   \nSteven Spielberg   0                0                0                0   \nTim Burton         0                0                0                0   \nWes Craven         0                0                0                0   \nWoody Allen        0                0                0                0   \n\nreleased           1.02.2008 00:00  1.02.2013 00:00  1.03.1991 00:00  \\\ndirector                                                               \nBarry Levinson                   0                0                0   \nBruce Beresford                  0                0                0   \nClint Eastwood                   0                0                0   \nDennis Dugan                     0                0                0   \nMartin Scorsese                  0                0                0   \nMichael Apted                    0                0                0   \nOliver Stone                     0                0                1   \nOther                            2                3                0   \nRenny Harlin                     0                0                0   \nRichard Donner                   0                0                0   \nRichard Linklater                0                0                0   \nRidley Scott                     0                0                0   \nRob Reiner                       0                0                0   \nRobert Zemeckis                  0                0                0   \nRon Howard                       0                0                0   \nSpike Lee                        0                0                0   \nSteven Soderbergh                0                0                0   \nSteven Spielberg                 0                0                0   \nTim Burton                       0                0                0   \nWes Craven                       0                0                0   \nWoody Allen                      0                0                0   \n\nreleased           1.03.1996 00:00  1.03.2002 00:00  1.03.2013 00:00  ...  \\\ndirector                                                              ...   \nBarry Levinson                   0                0                0  ...   \nBruce Beresford                  0                0                0  ...   \nClint Eastwood                   0                0                0  ...   \nDennis Dugan                     0                0                0  ...   \nMartin Scorsese                  0                0                0  ...   \nMichael Apted                    0                0                0  ...   \nOliver Stone                     0                0                0  ...   \nOther                            2                3                2  ...   \nRenny Harlin                     0                0                0  ...   \nRichard Donner                   0                0                0  ...   \nRichard Linklater                0                0                0  ...   \nRidley Scott                     0                0                0  ...   \nRob Reiner                       0                0                0  ...   \nRobert Zemeckis                  0                0                0  ...   \nRon Howard                       0                0                0  ...   \nSpike Lee                        0                0                0  ...   \nSteven Soderbergh                0                0                0  ...   \nSteven Spielberg                 0                0                0  ...   \nTim Burton                       0                0                0  ...   \nWes Craven                       0                0                0  ...   \nWoody Allen                      0                0                0  ...   \n\nreleased           9.11.1994 00:00  9.11.2001 00:00  9.11.2005 00:00  \\\ndirector                                                               \nBarry Levinson                   0                0                0   \nBruce Beresford                  0                0                0   \nClint Eastwood                   0                0                0   \nDennis Dugan                     0                0                0   \nMartin Scorsese                  0                0                0   \nMichael Apted                    0                0                0   \nOliver Stone                     0                0                0   \nOther                            1                2                1   \nRenny Harlin                     0                0                0   \nRichard Donner                   0                0                0   \nRichard Linklater                0                0                0   \nRidley Scott                     0                0                0   \nRob Reiner                       0                0                0   \nRobert Zemeckis                  0                0                0   \nRon Howard                       0                0                0   \nSpike Lee                        0                0                0   \nSteven Soderbergh                0                0                0   \nSteven Spielberg                 0                0                0   \nTim Burton                       0                0                0   \nWes Craven                       0                0                0   \nWoody Allen                      0                0                0   \n\nreleased           9.11.2007 00:00  9.11.2012 00:00  9.12.1988 00:00  \\\ndirector                                                               \nBarry Levinson                   0                0                0   \nBruce Beresford                  0                0                0   \nClint Eastwood                   0                0                0   \nDennis Dugan                     0                0                0   \nMartin Scorsese                  0                0                0   \nMichael Apted                    0                0                0   \nOliver Stone                     0                0                0   \nOther                            3                1                1   \nRenny Harlin                     0                0                0   \nRichard Donner                   0                0                0   \nRichard Linklater                0                0                0   \nRidley Scott                     0                0                0   \nRob Reiner                       0                0                0   \nRobert Zemeckis                  0                0                0   \nRon Howard                       0                0                0   \nSpike Lee                        0                0                0   \nSteven Soderbergh                0                0                0   \nSteven Spielberg                 0                0                0   \nTim Burton                       0                0                0   \nWes Craven                       0                0                0   \nWoody Allen                      0                0                0   \n\nreleased           9.12.1994 00:00  9.12.2005 00:00  9.12.2011 00:00  \\\ndirector                                                               \nBarry Levinson                   1                0                0   \nBruce Beresford                  0                0                0   \nClint Eastwood                   0                0                0   \nDennis Dugan                     0                0                0   \nMartin Scorsese                  0                0                0   \nMichael Apted                    0                0                0   \nOliver Stone                     0                0                0   \nOther                            1                2                2   \nRenny Harlin                     0                0                0   \nRichard Donner                   0                0                0   \nRichard Linklater                0                0                0   \nRidley Scott                     0                0                0   \nRob Reiner                       0                0                0   \nRobert Zemeckis                  0                0                0   \nRon Howard                       0                0                0   \nSpike Lee                        0                0                0   \nSteven Soderbergh                0                0                0   \nSteven Spielberg                 0                0                0   \nTim Burton                       0                0                0   \nWes Craven                       0                0                0   \nWoody Allen                      0                0                0   \n\nreleased           9.12.2016 00:00  \ndirector                            \nBarry Levinson                   0  \nBruce Beresford                  0  \nClint Eastwood                   0  \nDennis Dugan                     0  \nMartin Scorsese                  0  \nMichael Apted                    0  \nOliver Stone                     0  \nOther                            2  \nRenny Harlin                     0  \nRichard Donner                   0  \nRichard Linklater                0  \nRidley Scott                     0  \nRob Reiner                       0  \nRobert Zemeckis                  0  \nRon Howard                       0  \nSpike Lee                        0  \nSteven Soderbergh                0  \nSteven Spielberg                 0  \nTim Burton                       0  \nWes Craven                       0  \nWoody Allen                      0  \n\n[21 rows x 1772 columns]",
      "text/html": "<div>\n<style scoped>\n    .dataframe tbody tr th:only-of-type {\n        vertical-align: middle;\n    }\n\n    .dataframe tbody tr th {\n        vertical-align: top;\n    }\n\n    .dataframe thead th {\n        text-align: right;\n    }\n</style>\n<table border=\"1\" class=\"dataframe\">\n  <thead>\n    <tr style=\"text-align: right;\">\n      <th>released</th>\n      <th>0</th>\n      <th>1.01.2004 00:00</th>\n      <th>1.02.1991 00:00</th>\n      <th>1.02.2002 00:00</th>\n      <th>1.02.2008 00:00</th>\n      <th>1.02.2013 00:00</th>\n      <th>1.03.1991 00:00</th>\n      <th>1.03.1996 00:00</th>\n      <th>1.03.2002 00:00</th>\n      <th>1.03.2013 00:00</th>\n      <th>...</th>\n      <th>9.11.1994 00:00</th>\n      <th>9.11.2001 00:00</th>\n      <th>9.11.2005 00:00</th>\n      <th>9.11.2007 00:00</th>\n      <th>9.11.2012 00:00</th>\n      <th>9.12.1988 00:00</th>\n      <th>9.12.1994 00:00</th>\n      <th>9.12.2005 00:00</th>\n      <th>9.12.2011 00:00</th>\n      <th>9.12.2016 00:00</th>\n    </tr>\n    <tr>\n      <th>director</th>\n      <th></th>\n      <th></th>\n      <th></th>\n      <th></th>\n      <th></th>\n      <th></th>\n      <th></th>\n      <th></th>\n      <th></th>\n      <th></th>\n      <th></th>\n      <th></th>\n      <th></th>\n      <th></th>\n      <th></th>\n      <th></th>\n      <th></th>\n      <th></th>\n      <th></th>\n      <th></th>\n      <th></th>\n    </tr>\n  </thead>\n  <tbody>\n    <tr>\n      <th>Barry Levinson</th>\n      <td>0</td>\n      <td>0</td>\n      <td>0</td>\n      <td>0</td>\n      <td>0</td>\n      <td>0</td>\n      <td>0</td>\n      <td>0</td>\n      <td>0</td>\n      <td>0</td>\n      <td>...</td>\n      <td>0</td>\n      <td>0</td>\n      <td>0</td>\n      <td>0</td>\n      <td>0</td>\n      <td>0</td>\n      <td>1</td>\n      <td>0</td>\n      <td>0</td>\n      <td>0</td>\n    </tr>\n    <tr>\n      <th>Bruce Beresford</th>\n      <td>0</td>\n      <td>0</td>\n      <td>0</td>\n      <td>0</td>\n      <td>0</td>\n      <td>0</td>\n      <td>0</td>\n      <td>0</td>\n      <td>0</td>\n      <td>0</td>\n      <td>...</td>\n      <td>0</td>\n      <td>0</td>\n      <td>0</td>\n      <td>0</td>\n      <td>0</td>\n      <td>0</td>\n      <td>0</td>\n      <td>0</td>\n      <td>0</td>\n      <td>0</td>\n    </tr>\n    <tr>\n      <th>Clint Eastwood</th>\n      <td>0</td>\n      <td>0</td>\n      <td>0</td>\n      <td>0</td>\n      <td>0</td>\n      <td>0</td>\n      <td>0</td>\n      <td>0</td>\n      <td>0</td>\n      <td>0</td>\n      <td>...</td>\n      <td>0</td>\n      <td>0</td>\n      <td>0</td>\n      <td>0</td>\n      <td>0</td>\n      <td>0</td>\n      <td>0</td>\n      <td>0</td>\n      <td>0</td>\n      <td>0</td>\n    </tr>\n    <tr>\n      <th>Dennis Dugan</th>\n      <td>0</td>\n      <td>0</td>\n      <td>0</td>\n      <td>0</td>\n      <td>0</td>\n      <td>0</td>\n      <td>0</td>\n      <td>0</td>\n      <td>0</td>\n      <td>0</td>\n      <td>...</td>\n      <td>0</td>\n      <td>0</td>\n      <td>0</td>\n      <td>0</td>\n      <td>0</td>\n      <td>0</td>\n      <td>0</td>\n      <td>0</td>\n      <td>0</td>\n      <td>0</td>\n    </tr>\n    <tr>\n      <th>Martin Scorsese</th>\n      <td>0</td>\n      <td>0</td>\n      <td>0</td>\n      <td>0</td>\n      <td>0</td>\n      <td>0</td>\n      <td>0</td>\n      <td>0</td>\n      <td>0</td>\n      <td>0</td>\n      <td>...</td>\n      <td>0</td>\n      <td>0</td>\n      <td>0</td>\n      <td>0</td>\n      <td>0</td>\n      <td>0</td>\n      <td>0</td>\n      <td>0</td>\n      <td>0</td>\n      <td>0</td>\n    </tr>\n    <tr>\n      <th>Michael Apted</th>\n      <td>0</td>\n      <td>0</td>\n      <td>0</td>\n      <td>0</td>\n      <td>0</td>\n      <td>0</td>\n      <td>0</td>\n      <td>0</td>\n      <td>0</td>\n      <td>0</td>\n      <td>...</td>\n      <td>0</td>\n      <td>0</td>\n      <td>0</td>\n      <td>0</td>\n      <td>0</td>\n      <td>0</td>\n      <td>0</td>\n      <td>0</td>\n      <td>0</td>\n      <td>0</td>\n    </tr>\n    <tr>\n      <th>Oliver Stone</th>\n      <td>0</td>\n      <td>0</td>\n      <td>0</td>\n      <td>0</td>\n      <td>0</td>\n      <td>0</td>\n      <td>1</td>\n      <td>0</td>\n      <td>0</td>\n      <td>0</td>\n      <td>...</td>\n      <td>0</td>\n      <td>0</td>\n      <td>0</td>\n      <td>0</td>\n      <td>0</td>\n      <td>0</td>\n      <td>0</td>\n      <td>0</td>\n      <td>0</td>\n      <td>0</td>\n    </tr>\n    <tr>\n      <th>Other</th>\n      <td>9</td>\n      <td>1</td>\n      <td>2</td>\n      <td>2</td>\n      <td>2</td>\n      <td>3</td>\n      <td>0</td>\n      <td>2</td>\n      <td>3</td>\n      <td>2</td>\n      <td>...</td>\n      <td>1</td>\n      <td>2</td>\n      <td>1</td>\n      <td>3</td>\n      <td>1</td>\n      <td>1</td>\n      <td>1</td>\n      <td>2</td>\n      <td>2</td>\n      <td>2</td>\n    </tr>\n    <tr>\n      <th>Renny Harlin</th>\n      <td>0</td>\n      <td>0</td>\n      <td>0</td>\n      <td>0</td>\n      <td>0</td>\n      <td>0</td>\n      <td>0</td>\n      <td>0</td>\n      <td>0</td>\n      <td>0</td>\n      <td>...</td>\n      <td>0</td>\n      <td>0</td>\n      <td>0</td>\n      <td>0</td>\n      <td>0</td>\n      <td>0</td>\n      <td>0</td>\n      <td>0</td>\n      <td>0</td>\n      <td>0</td>\n    </tr>\n    <tr>\n      <th>Richard Donner</th>\n      <td>0</td>\n      <td>0</td>\n      <td>0</td>\n      <td>0</td>\n      <td>0</td>\n      <td>0</td>\n      <td>0</td>\n      <td>0</td>\n      <td>0</td>\n      <td>0</td>\n      <td>...</td>\n      <td>0</td>\n      <td>0</td>\n      <td>0</td>\n      <td>0</td>\n      <td>0</td>\n      <td>0</td>\n      <td>0</td>\n      <td>0</td>\n      <td>0</td>\n      <td>0</td>\n    </tr>\n    <tr>\n      <th>Richard Linklater</th>\n      <td>0</td>\n      <td>0</td>\n      <td>0</td>\n      <td>0</td>\n      <td>0</td>\n      <td>0</td>\n      <td>0</td>\n      <td>0</td>\n      <td>0</td>\n      <td>0</td>\n      <td>...</td>\n      <td>0</td>\n      <td>0</td>\n      <td>0</td>\n      <td>0</td>\n      <td>0</td>\n      <td>0</td>\n      <td>0</td>\n      <td>0</td>\n      <td>0</td>\n      <td>0</td>\n    </tr>\n    <tr>\n      <th>Ridley Scott</th>\n      <td>0</td>\n      <td>0</td>\n      <td>0</td>\n      <td>0</td>\n      <td>0</td>\n      <td>0</td>\n      <td>0</td>\n      <td>0</td>\n      <td>0</td>\n      <td>0</td>\n      <td>...</td>\n      <td>0</td>\n      <td>0</td>\n      <td>0</td>\n      <td>0</td>\n      <td>0</td>\n      <td>0</td>\n      <td>0</td>\n      <td>0</td>\n      <td>0</td>\n      <td>0</td>\n    </tr>\n    <tr>\n      <th>Rob Reiner</th>\n      <td>0</td>\n      <td>0</td>\n      <td>0</td>\n      <td>0</td>\n      <td>0</td>\n      <td>0</td>\n      <td>0</td>\n      <td>0</td>\n      <td>0</td>\n      <td>0</td>\n      <td>...</td>\n      <td>0</td>\n      <td>0</td>\n      <td>0</td>\n      <td>0</td>\n      <td>0</td>\n      <td>0</td>\n      <td>0</td>\n      <td>0</td>\n      <td>0</td>\n      <td>0</td>\n    </tr>\n    <tr>\n      <th>Robert Zemeckis</th>\n      <td>0</td>\n      <td>0</td>\n      <td>0</td>\n      <td>0</td>\n      <td>0</td>\n      <td>0</td>\n      <td>0</td>\n      <td>0</td>\n      <td>0</td>\n      <td>0</td>\n      <td>...</td>\n      <td>0</td>\n      <td>0</td>\n      <td>0</td>\n      <td>0</td>\n      <td>0</td>\n      <td>0</td>\n      <td>0</td>\n      <td>0</td>\n      <td>0</td>\n      <td>0</td>\n    </tr>\n    <tr>\n      <th>Ron Howard</th>\n      <td>0</td>\n      <td>0</td>\n      <td>0</td>\n      <td>0</td>\n      <td>0</td>\n      <td>0</td>\n      <td>0</td>\n      <td>0</td>\n      <td>0</td>\n      <td>0</td>\n      <td>...</td>\n      <td>0</td>\n      <td>0</td>\n      <td>0</td>\n      <td>0</td>\n      <td>0</td>\n      <td>0</td>\n      <td>0</td>\n      <td>0</td>\n      <td>0</td>\n      <td>0</td>\n    </tr>\n    <tr>\n      <th>Spike Lee</th>\n      <td>0</td>\n      <td>0</td>\n      <td>0</td>\n      <td>0</td>\n      <td>0</td>\n      <td>0</td>\n      <td>0</td>\n      <td>0</td>\n      <td>0</td>\n      <td>0</td>\n      <td>...</td>\n      <td>0</td>\n      <td>0</td>\n      <td>0</td>\n      <td>0</td>\n      <td>0</td>\n      <td>0</td>\n      <td>0</td>\n      <td>0</td>\n      <td>0</td>\n      <td>0</td>\n    </tr>\n    <tr>\n      <th>Steven Soderbergh</th>\n      <td>0</td>\n      <td>0</td>\n      <td>0</td>\n      <td>0</td>\n      <td>0</td>\n      <td>0</td>\n      <td>0</td>\n      <td>0</td>\n      <td>0</td>\n      <td>0</td>\n      <td>...</td>\n      <td>0</td>\n      <td>0</td>\n      <td>0</td>\n      <td>0</td>\n      <td>0</td>\n      <td>0</td>\n      <td>0</td>\n      <td>0</td>\n      <td>0</td>\n      <td>0</td>\n    </tr>\n    <tr>\n      <th>Steven Spielberg</th>\n      <td>0</td>\n      <td>0</td>\n      <td>0</td>\n      <td>0</td>\n      <td>0</td>\n      <td>0</td>\n      <td>0</td>\n      <td>0</td>\n      <td>0</td>\n      <td>0</td>\n      <td>...</td>\n      <td>0</td>\n      <td>0</td>\n      <td>0</td>\n      <td>0</td>\n      <td>0</td>\n      <td>0</td>\n      <td>0</td>\n      <td>0</td>\n      <td>0</td>\n      <td>0</td>\n    </tr>\n    <tr>\n      <th>Tim Burton</th>\n      <td>0</td>\n      <td>0</td>\n      <td>0</td>\n      <td>0</td>\n      <td>0</td>\n      <td>0</td>\n      <td>0</td>\n      <td>0</td>\n      <td>0</td>\n      <td>0</td>\n      <td>...</td>\n      <td>0</td>\n      <td>0</td>\n      <td>0</td>\n      <td>0</td>\n      <td>0</td>\n      <td>0</td>\n      <td>0</td>\n      <td>0</td>\n      <td>0</td>\n      <td>0</td>\n    </tr>\n    <tr>\n      <th>Wes Craven</th>\n      <td>0</td>\n      <td>0</td>\n      <td>0</td>\n      <td>0</td>\n      <td>0</td>\n      <td>0</td>\n      <td>0</td>\n      <td>0</td>\n      <td>0</td>\n      <td>0</td>\n      <td>...</td>\n      <td>0</td>\n      <td>0</td>\n      <td>0</td>\n      <td>0</td>\n      <td>0</td>\n      <td>0</td>\n      <td>0</td>\n      <td>0</td>\n      <td>0</td>\n      <td>0</td>\n    </tr>\n    <tr>\n      <th>Woody Allen</th>\n      <td>0</td>\n      <td>0</td>\n      <td>0</td>\n      <td>0</td>\n      <td>0</td>\n      <td>0</td>\n      <td>0</td>\n      <td>0</td>\n      <td>0</td>\n      <td>0</td>\n      <td>...</td>\n      <td>0</td>\n      <td>0</td>\n      <td>0</td>\n      <td>0</td>\n      <td>0</td>\n      <td>0</td>\n      <td>0</td>\n      <td>0</td>\n      <td>0</td>\n      <td>0</td>\n    </tr>\n  </tbody>\n</table>\n<p>21 rows × 1772 columns</p>\n</div>"
     },
     "metadata": {}
    },
    {
     "output_type": "stream",
     "name": "stdout",
     "text": [
      "Observed Values\n"
     ]
    },
    {
     "output_type": "display_data",
     "data": {
      "text/plain": "array([[0, 0, 0, ..., 0, 0, 0],\n       [0, 0, 0, ..., 0, 0, 0],\n       [0, 0, 0, ..., 0, 0, 0],\n       ...,\n       [0, 0, 0, ..., 0, 0, 0],\n       [0, 0, 0, ..., 0, 0, 0],\n       [0, 0, 0, ..., 0, 0, 0]], dtype=int64)"
     },
     "metadata": {}
    },
    {
     "output_type": "stream",
     "name": "stdout",
     "text": [
      "chi2_test_statistic, p, dof, expected\n"
     ]
    },
    {
     "output_type": "display_data",
     "data": {
      "text/plain": "36241.10439846513"
     },
     "metadata": {}
    },
    {
     "output_type": "display_data",
     "data": {
      "text/plain": "0.0010919718939522557"
     },
     "metadata": {}
    },
    {
     "output_type": "display_data",
     "data": {
      "text/plain": "35420"
     },
     "metadata": {}
    },
    {
     "output_type": "display_data",
     "data": {
      "text/plain": "array([[0.03064699, 0.00340522, 0.00681044, ..., 0.00681044, 0.00681044,\n        0.00681044],\n       [0.02553916, 0.00283768, 0.00567537, ..., 0.00567537, 0.00567537,\n        0.00567537],\n       [0.05107832, 0.00567537, 0.01135074, ..., 0.01135074, 0.01135074,\n        0.01135074],\n       ...,\n       [0.03064699, 0.00340522, 0.00681044, ..., 0.00681044, 0.00681044,\n        0.00681044],\n       [0.03064699, 0.00340522, 0.00681044, ..., 0.00681044, 0.00681044,\n        0.00681044],\n       [0.07150965, 0.00794552, 0.01589103, ..., 0.01589103, 0.01589103,\n        0.01589103]])"
     },
     "metadata": {}
    },
    {
     "output_type": "stream",
     "name": "stdout",
     "text": [
      "critical = 35858.925, chi2_test_statistic = 36241.104\nDependent (reject H0)\n\nsignificance = 0.050, p = 0.001\nDependent (reject H0)\n"
     ]
    },
    {
     "output_type": "display_data",
     "data": {
      "text/plain": "isprofit              0     1\ndirector                     \nBarry Levinson        5     7\nBruce Beresford       7     3\nClint Eastwood        8    12\nDennis Dugan          2     9\nMartin Scorsese       5     5\nMichael Apted         4     6\nOliver Stone          6     8\nOther              1595  1646\nRenny Harlin          8     4\nRichard Donner        5     6\nRichard Linklater     4     9\nRidley Scott          9     6\nRob Reiner            6     7\nRobert Zemeckis       2    10\nRon Howard            8     9\nSpike Lee             8     7\nSteven Soderbergh     7    10\nSteven Spielberg      5    14\nTim Burton            5     7\nWes Craven            4     8\nWoody Allen          22     6",
      "text/html": "<div>\n<style scoped>\n    .dataframe tbody tr th:only-of-type {\n        vertical-align: middle;\n    }\n\n    .dataframe tbody tr th {\n        vertical-align: top;\n    }\n\n    .dataframe thead th {\n        text-align: right;\n    }\n</style>\n<table border=\"1\" class=\"dataframe\">\n  <thead>\n    <tr style=\"text-align: right;\">\n      <th>isprofit</th>\n      <th>0</th>\n      <th>1</th>\n    </tr>\n    <tr>\n      <th>director</th>\n      <th></th>\n      <th></th>\n    </tr>\n  </thead>\n  <tbody>\n    <tr>\n      <th>Barry Levinson</th>\n      <td>5</td>\n      <td>7</td>\n    </tr>\n    <tr>\n      <th>Bruce Beresford</th>\n      <td>7</td>\n      <td>3</td>\n    </tr>\n    <tr>\n      <th>Clint Eastwood</th>\n      <td>8</td>\n      <td>12</td>\n    </tr>\n    <tr>\n      <th>Dennis Dugan</th>\n      <td>2</td>\n      <td>9</td>\n    </tr>\n    <tr>\n      <th>Martin Scorsese</th>\n      <td>5</td>\n      <td>5</td>\n    </tr>\n    <tr>\n      <th>Michael Apted</th>\n      <td>4</td>\n      <td>6</td>\n    </tr>\n    <tr>\n      <th>Oliver Stone</th>\n      <td>6</td>\n      <td>8</td>\n    </tr>\n    <tr>\n      <th>Other</th>\n      <td>1595</td>\n      <td>1646</td>\n    </tr>\n    <tr>\n      <th>Renny Harlin</th>\n      <td>8</td>\n      <td>4</td>\n    </tr>\n    <tr>\n      <th>Richard Donner</th>\n      <td>5</td>\n      <td>6</td>\n    </tr>\n    <tr>\n      <th>Richard Linklater</th>\n      <td>4</td>\n      <td>9</td>\n    </tr>\n    <tr>\n      <th>Ridley Scott</th>\n      <td>9</td>\n      <td>6</td>\n    </tr>\n    <tr>\n      <th>Rob Reiner</th>\n      <td>6</td>\n      <td>7</td>\n    </tr>\n    <tr>\n      <th>Robert Zemeckis</th>\n      <td>2</td>\n      <td>10</td>\n    </tr>\n    <tr>\n      <th>Ron Howard</th>\n      <td>8</td>\n      <td>9</td>\n    </tr>\n    <tr>\n      <th>Spike Lee</th>\n      <td>8</td>\n      <td>7</td>\n    </tr>\n    <tr>\n      <th>Steven Soderbergh</th>\n      <td>7</td>\n      <td>10</td>\n    </tr>\n    <tr>\n      <th>Steven Spielberg</th>\n      <td>5</td>\n      <td>14</td>\n    </tr>\n    <tr>\n      <th>Tim Burton</th>\n      <td>5</td>\n      <td>7</td>\n    </tr>\n    <tr>\n      <th>Wes Craven</th>\n      <td>4</td>\n      <td>8</td>\n    </tr>\n    <tr>\n      <th>Woody Allen</th>\n      <td>22</td>\n      <td>6</td>\n    </tr>\n  </tbody>\n</table>\n</div>"
     },
     "metadata": {}
    },
    {
     "output_type": "stream",
     "name": "stdout",
     "text": [
      "Observed Values\n"
     ]
    },
    {
     "output_type": "display_data",
     "data": {
      "text/plain": "array([[   5,    7],\n       [   7,    3],\n       [   8,   12],\n       [   2,    9],\n       [   5,    5],\n       [   4,    6],\n       [   6,    8],\n       [1595, 1646],\n       [   8,    4],\n       [   5,    6],\n       [   4,    9],\n       [   9,    6],\n       [   6,    7],\n       [   2,   10],\n       [   8,    9],\n       [   8,    7],\n       [   7,   10],\n       [   5,   14],\n       [   5,    7],\n       [   4,    8],\n       [  22,    6]], dtype=int64)"
     },
     "metadata": {}
    },
    {
     "output_type": "stream",
     "name": "stdout",
     "text": [
      "chi2_test_statistic, p, dof, expected\n"
     ]
    },
    {
     "output_type": "display_data",
     "data": {
      "text/plain": "32.22157475338656"
     },
     "metadata": {}
    },
    {
     "output_type": "display_data",
     "data": {
      "text/plain": "0.04099378720033222"
     },
     "metadata": {}
    },
    {
     "output_type": "display_data",
     "data": {
      "text/plain": "20"
     },
     "metadata": {}
    },
    {
     "output_type": "display_data",
     "data": {
      "text/plain": "array([[   5.87400681,    6.12599319],\n       [   4.89500568,    5.10499432],\n       [   9.79001135,   10.20998865],\n       [   5.38450624,    5.61549376],\n       [   4.89500568,    5.10499432],\n       [   4.89500568,    5.10499432],\n       [   6.85300795,    7.14699205],\n       [1586.47133939, 1654.52866061],\n       [   5.87400681,    6.12599319],\n       [   5.38450624,    5.61549376],\n       [   6.36350738,    6.63649262],\n       [   7.34250851,    7.65749149],\n       [   6.36350738,    6.63649262],\n       [   5.87400681,    6.12599319],\n       [   8.32150965,    8.67849035],\n       [   7.34250851,    7.65749149],\n       [   8.32150965,    8.67849035],\n       [   9.30051078,    9.69948922],\n       [   5.87400681,    6.12599319],\n       [   5.87400681,    6.12599319],\n       [  13.70601589,   14.29398411]])"
     },
     "metadata": {}
    },
    {
     "output_type": "stream",
     "name": "stdout",
     "text": [
      "critical = 31.410, chi2_test_statistic = 32.222\nDependent (reject H0)\n\nsignificance = 0.050, p = 0.041\nDependent (reject H0)\n"
     ]
    },
    {
     "output_type": "display_data",
     "data": {
      "text/plain": "released       0  1.01.2004 00:00  1.02.1991 00:00  1.02.2002 00:00  \\\nrating                                                                \n0              9                0                0                0   \nG              0                0                0                0   \nNC-17          0                0                0                0   \nNOT RATED      0                0                0                0   \nNot specified  0                0                0                0   \nPG             0                0                0                0   \nPG-13          0                1                0                0   \nR              0                0                2                2   \nUNRATED        0                0                0                0   \n\nreleased       1.02.2008 00:00  1.02.2013 00:00  1.03.1991 00:00  \\\nrating                                                             \n0                            0                0                0   \nG                            0                0                0   \nNC-17                        0                0                0   \nNOT RATED                    0                0                0   \nNot specified                0                0                0   \nPG                           0                0                0   \nPG-13                        1                1                0   \nR                            1                2                1   \nUNRATED                      0                0                0   \n\nreleased       1.03.1996 00:00  1.03.2002 00:00  1.03.2013 00:00  ...  \\\nrating                                                            ...   \n0                            0                0                0  ...   \nG                            0                0                0  ...   \nNC-17                        0                0                0  ...   \nNOT RATED                    0                0                0  ...   \nNot specified                0                0                0  ...   \nPG                           0                0                0  ...   \nPG-13                        2                0                1  ...   \nR                            0                3                1  ...   \nUNRATED                      0                0                0  ...   \n\nreleased       9.11.1994 00:00  9.11.2001 00:00  9.11.2005 00:00  \\\nrating                                                             \n0                            0                0                0   \nG                            0                0                0   \nNC-17                        0                0                0   \nNOT RATED                    0                0                0   \nNot specified                0                0                0   \nPG                           0                0                0   \nPG-13                        0                1                0   \nR                            1                1                1   \nUNRATED                      0                0                0   \n\nreleased       9.11.2007 00:00  9.11.2012 00:00  9.12.1988 00:00  \\\nrating                                                             \n0                            0                0                0   \nG                            0                0                0   \nNC-17                        0                0                0   \nNOT RATED                    0                0                0   \nNot specified                0                0                0   \nPG                           1                0                1   \nPG-13                        0                1                0   \nR                            2                0                0   \nUNRATED                      0                0                0   \n\nreleased       9.12.1994 00:00  9.12.2005 00:00  9.12.2011 00:00  \\\nrating                                                             \n0                            0                0                0   \nG                            0                0                0   \nNC-17                        0                0                0   \nNOT RATED                    0                0                0   \nNot specified                0                0                0   \nPG                           0                1                0   \nPG-13                        0                0                0   \nR                            2                1                2   \nUNRATED                      0                0                0   \n\nreleased       9.12.2016 00:00  \nrating                          \n0                            0  \nG                            0  \nNC-17                        0  \nNOT RATED                    0  \nNot specified                0  \nPG                           0  \nPG-13                        0  \nR                            2  \nUNRATED                      0  \n\n[9 rows x 1772 columns]",
      "text/html": "<div>\n<style scoped>\n    .dataframe tbody tr th:only-of-type {\n        vertical-align: middle;\n    }\n\n    .dataframe tbody tr th {\n        vertical-align: top;\n    }\n\n    .dataframe thead th {\n        text-align: right;\n    }\n</style>\n<table border=\"1\" class=\"dataframe\">\n  <thead>\n    <tr style=\"text-align: right;\">\n      <th>released</th>\n      <th>0</th>\n      <th>1.01.2004 00:00</th>\n      <th>1.02.1991 00:00</th>\n      <th>1.02.2002 00:00</th>\n      <th>1.02.2008 00:00</th>\n      <th>1.02.2013 00:00</th>\n      <th>1.03.1991 00:00</th>\n      <th>1.03.1996 00:00</th>\n      <th>1.03.2002 00:00</th>\n      <th>1.03.2013 00:00</th>\n      <th>...</th>\n      <th>9.11.1994 00:00</th>\n      <th>9.11.2001 00:00</th>\n      <th>9.11.2005 00:00</th>\n      <th>9.11.2007 00:00</th>\n      <th>9.11.2012 00:00</th>\n      <th>9.12.1988 00:00</th>\n      <th>9.12.1994 00:00</th>\n      <th>9.12.2005 00:00</th>\n      <th>9.12.2011 00:00</th>\n      <th>9.12.2016 00:00</th>\n    </tr>\n    <tr>\n      <th>rating</th>\n      <th></th>\n      <th></th>\n      <th></th>\n      <th></th>\n      <th></th>\n      <th></th>\n      <th></th>\n      <th></th>\n      <th></th>\n      <th></th>\n      <th></th>\n      <th></th>\n      <th></th>\n      <th></th>\n      <th></th>\n      <th></th>\n      <th></th>\n      <th></th>\n      <th></th>\n      <th></th>\n      <th></th>\n    </tr>\n  </thead>\n  <tbody>\n    <tr>\n      <th>0</th>\n      <td>9</td>\n      <td>0</td>\n      <td>0</td>\n      <td>0</td>\n      <td>0</td>\n      <td>0</td>\n      <td>0</td>\n      <td>0</td>\n      <td>0</td>\n      <td>0</td>\n      <td>...</td>\n      <td>0</td>\n      <td>0</td>\n      <td>0</td>\n      <td>0</td>\n      <td>0</td>\n      <td>0</td>\n      <td>0</td>\n      <td>0</td>\n      <td>0</td>\n      <td>0</td>\n    </tr>\n    <tr>\n      <th>G</th>\n      <td>0</td>\n      <td>0</td>\n      <td>0</td>\n      <td>0</td>\n      <td>0</td>\n      <td>0</td>\n      <td>0</td>\n      <td>0</td>\n      <td>0</td>\n      <td>0</td>\n      <td>...</td>\n      <td>0</td>\n      <td>0</td>\n      <td>0</td>\n      <td>0</td>\n      <td>0</td>\n      <td>0</td>\n      <td>0</td>\n      <td>0</td>\n      <td>0</td>\n      <td>0</td>\n    </tr>\n    <tr>\n      <th>NC-17</th>\n      <td>0</td>\n      <td>0</td>\n      <td>0</td>\n      <td>0</td>\n      <td>0</td>\n      <td>0</td>\n      <td>0</td>\n      <td>0</td>\n      <td>0</td>\n      <td>0</td>\n      <td>...</td>\n      <td>0</td>\n      <td>0</td>\n      <td>0</td>\n      <td>0</td>\n      <td>0</td>\n      <td>0</td>\n      <td>0</td>\n      <td>0</td>\n      <td>0</td>\n      <td>0</td>\n    </tr>\n    <tr>\n      <th>NOT RATED</th>\n      <td>0</td>\n      <td>0</td>\n      <td>0</td>\n      <td>0</td>\n      <td>0</td>\n      <td>0</td>\n      <td>0</td>\n      <td>0</td>\n      <td>0</td>\n      <td>0</td>\n      <td>...</td>\n      <td>0</td>\n      <td>0</td>\n      <td>0</td>\n      <td>0</td>\n      <td>0</td>\n      <td>0</td>\n      <td>0</td>\n      <td>0</td>\n      <td>0</td>\n      <td>0</td>\n    </tr>\n    <tr>\n      <th>Not specified</th>\n      <td>0</td>\n      <td>0</td>\n      <td>0</td>\n      <td>0</td>\n      <td>0</td>\n      <td>0</td>\n      <td>0</td>\n      <td>0</td>\n      <td>0</td>\n      <td>0</td>\n      <td>...</td>\n      <td>0</td>\n      <td>0</td>\n      <td>0</td>\n      <td>0</td>\n      <td>0</td>\n      <td>0</td>\n      <td>0</td>\n      <td>0</td>\n      <td>0</td>\n      <td>0</td>\n    </tr>\n    <tr>\n      <th>PG</th>\n      <td>0</td>\n      <td>0</td>\n      <td>0</td>\n      <td>0</td>\n      <td>0</td>\n      <td>0</td>\n      <td>0</td>\n      <td>0</td>\n      <td>0</td>\n      <td>0</td>\n      <td>...</td>\n      <td>0</td>\n      <td>0</td>\n      <td>0</td>\n      <td>1</td>\n      <td>0</td>\n      <td>1</td>\n      <td>0</td>\n      <td>1</td>\n      <td>0</td>\n      <td>0</td>\n    </tr>\n    <tr>\n      <th>PG-13</th>\n      <td>0</td>\n      <td>1</td>\n      <td>0</td>\n      <td>0</td>\n      <td>1</td>\n      <td>1</td>\n      <td>0</td>\n      <td>2</td>\n      <td>0</td>\n      <td>1</td>\n      <td>...</td>\n      <td>0</td>\n      <td>1</td>\n      <td>0</td>\n      <td>0</td>\n      <td>1</td>\n      <td>0</td>\n      <td>0</td>\n      <td>0</td>\n      <td>0</td>\n      <td>0</td>\n    </tr>\n    <tr>\n      <th>R</th>\n      <td>0</td>\n      <td>0</td>\n      <td>2</td>\n      <td>2</td>\n      <td>1</td>\n      <td>2</td>\n      <td>1</td>\n      <td>0</td>\n      <td>3</td>\n      <td>1</td>\n      <td>...</td>\n      <td>1</td>\n      <td>1</td>\n      <td>1</td>\n      <td>2</td>\n      <td>0</td>\n      <td>0</td>\n      <td>2</td>\n      <td>1</td>\n      <td>2</td>\n      <td>2</td>\n    </tr>\n    <tr>\n      <th>UNRATED</th>\n      <td>0</td>\n      <td>0</td>\n      <td>0</td>\n      <td>0</td>\n      <td>0</td>\n      <td>0</td>\n      <td>0</td>\n      <td>0</td>\n      <td>0</td>\n      <td>0</td>\n      <td>...</td>\n      <td>0</td>\n      <td>0</td>\n      <td>0</td>\n      <td>0</td>\n      <td>0</td>\n      <td>0</td>\n      <td>0</td>\n      <td>0</td>\n      <td>0</td>\n      <td>0</td>\n    </tr>\n  </tbody>\n</table>\n<p>9 rows × 1772 columns</p>\n</div>"
     },
     "metadata": {}
    },
    {
     "output_type": "stream",
     "name": "stdout",
     "text": [
      "Observed Values\n"
     ]
    },
    {
     "output_type": "display_data",
     "data": {
      "text/plain": "array([[9, 0, 0, ..., 0, 0, 0],\n       [0, 0, 0, ..., 0, 0, 0],\n       [0, 0, 0, ..., 0, 0, 0],\n       ...,\n       [0, 1, 0, ..., 0, 0, 0],\n       [0, 0, 2, ..., 1, 2, 2],\n       [0, 0, 0, ..., 0, 0, 0]], dtype=int64)"
     },
     "metadata": {}
    },
    {
     "output_type": "stream",
     "name": "stdout",
     "text": [
      "chi2_test_statistic, p, dof, expected\n"
     ]
    },
    {
     "output_type": "display_data",
     "data": {
      "text/plain": "16264.548918097264"
     },
     "metadata": {}
    },
    {
     "output_type": "display_data",
     "data": {
      "text/plain": "6.47638321973948e-33"
     },
     "metadata": {}
    },
    {
     "output_type": "display_data",
     "data": {
      "text/plain": "14168"
     },
     "metadata": {}
    },
    {
     "output_type": "display_data",
     "data": {
      "text/plain": "array([[2.29852440e-02, 2.55391600e-03, 5.10783201e-03, ...,\n        5.10783201e-03, 5.10783201e-03, 5.10783201e-03],\n       [1.76220204e-01, 1.95800227e-02, 3.91600454e-02, ...,\n        3.91600454e-02, 3.91600454e-02, 3.91600454e-02],\n       [1.27695800e-02, 1.41884222e-03, 2.83768445e-03, ...,\n        2.83768445e-03, 2.83768445e-03, 2.83768445e-03],\n       ...,\n       [3.06980704e+00, 3.41089671e-01, 6.82179342e-01, ...,\n        6.82179342e-01, 6.82179342e-01, 6.82179342e-01],\n       [4.29824064e+00, 4.77582293e-01, 9.55164586e-01, ...,\n        9.55164586e-01, 9.55164586e-01, 9.55164586e-01],\n       [3.32009081e-02, 3.68898978e-03, 7.37797957e-03, ...,\n        7.37797957e-03, 7.37797957e-03, 7.37797957e-03]])"
     },
     "metadata": {}
    },
    {
     "output_type": "stream",
     "name": "stdout",
     "text": [
      "critical = 14446.016, chi2_test_statistic = 16264.549\nDependent (reject H0)\n\nsignificance = 0.050, p = 0.000\nDependent (reject H0)\n"
     ]
    },
    {
     "output_type": "display_data",
     "data": {
      "text/plain": "isprofit         0    1\nrating                 \n0                9    0\nG               26   43\nNC-17            3    2\nNOT RATED       16    8\nNot specified    2    1\nPG             213  303\nPG-13          561  641\nR              889  794\nUNRATED          6    7",
      "text/html": "<div>\n<style scoped>\n    .dataframe tbody tr th:only-of-type {\n        vertical-align: middle;\n    }\n\n    .dataframe tbody tr th {\n        vertical-align: top;\n    }\n\n    .dataframe thead th {\n        text-align: right;\n    }\n</style>\n<table border=\"1\" class=\"dataframe\">\n  <thead>\n    <tr style=\"text-align: right;\">\n      <th>isprofit</th>\n      <th>0</th>\n      <th>1</th>\n    </tr>\n    <tr>\n      <th>rating</th>\n      <th></th>\n      <th></th>\n    </tr>\n  </thead>\n  <tbody>\n    <tr>\n      <th>0</th>\n      <td>9</td>\n      <td>0</td>\n    </tr>\n    <tr>\n      <th>G</th>\n      <td>26</td>\n      <td>43</td>\n    </tr>\n    <tr>\n      <th>NC-17</th>\n      <td>3</td>\n      <td>2</td>\n    </tr>\n    <tr>\n      <th>NOT RATED</th>\n      <td>16</td>\n      <td>8</td>\n    </tr>\n    <tr>\n      <th>Not specified</th>\n      <td>2</td>\n      <td>1</td>\n    </tr>\n    <tr>\n      <th>PG</th>\n      <td>213</td>\n      <td>303</td>\n    </tr>\n    <tr>\n      <th>PG-13</th>\n      <td>561</td>\n      <td>641</td>\n    </tr>\n    <tr>\n      <th>R</th>\n      <td>889</td>\n      <td>794</td>\n    </tr>\n    <tr>\n      <th>UNRATED</th>\n      <td>6</td>\n      <td>7</td>\n    </tr>\n  </tbody>\n</table>\n</div>"
     },
     "metadata": {}
    },
    {
     "output_type": "stream",
     "name": "stdout",
     "text": [
      "Observed Values\n"
     ]
    },
    {
     "output_type": "display_data",
     "data": {
      "text/plain": "array([[  9,   0],\n       [ 26,  43],\n       [  3,   2],\n       [ 16,   8],\n       [  2,   1],\n       [213, 303],\n       [561, 641],\n       [889, 794],\n       [  6,   7]], dtype=int64)"
     },
     "metadata": {}
    },
    {
     "output_type": "stream",
     "name": "stdout",
     "text": [
      "chi2_test_statistic, p, dof, expected\n"
     ]
    },
    {
     "output_type": "display_data",
     "data": {
      "text/plain": "41.314212130230835"
     },
     "metadata": {}
    },
    {
     "output_type": "display_data",
     "data": {
      "text/plain": "1.820693238192019e-06"
     },
     "metadata": {}
    },
    {
     "output_type": "display_data",
     "data": {
      "text/plain": "8"
     },
     "metadata": {}
    },
    {
     "output_type": "display_data",
     "data": {
      "text/plain": "array([[  4.40550511,   4.59449489],\n       [ 33.77553916,  35.22446084],\n       [  2.44750284,   2.55249716],\n       [ 11.74801362,  12.25198638],\n       [  1.4685017 ,   1.5314983 ],\n       [252.58229285, 263.41770715],\n       [588.37968218, 613.62031782],\n       [823.82945516, 859.17054484],\n       [  6.36350738,   6.63649262]])"
     },
     "metadata": {}
    },
    {
     "output_type": "stream",
     "name": "stdout",
     "text": [
      "critical = 15.507, chi2_test_statistic = 41.314\nDependent (reject H0)\n\nsignificance = 0.050, p = 0.000\nDependent (reject H0)\n"
     ]
    },
    {
     "output_type": "display_data",
     "data": {
      "text/plain": "isprofit         0  1\nreleased             \n0                9  0\n1.01.2004 00:00  0  1\n1.02.1991 00:00  2  0\n1.02.2002 00:00  2  0\n1.02.2008 00:00  2  0\n...             .. ..\n9.12.1988 00:00  0  1\n9.12.1994 00:00  1  1\n9.12.2005 00:00  0  2\n9.12.2011 00:00  1  1\n9.12.2016 00:00  1  1\n\n[1772 rows x 2 columns]",
      "text/html": "<div>\n<style scoped>\n    .dataframe tbody tr th:only-of-type {\n        vertical-align: middle;\n    }\n\n    .dataframe tbody tr th {\n        vertical-align: top;\n    }\n\n    .dataframe thead th {\n        text-align: right;\n    }\n</style>\n<table border=\"1\" class=\"dataframe\">\n  <thead>\n    <tr style=\"text-align: right;\">\n      <th>isprofit</th>\n      <th>0</th>\n      <th>1</th>\n    </tr>\n    <tr>\n      <th>released</th>\n      <th></th>\n      <th></th>\n    </tr>\n  </thead>\n  <tbody>\n    <tr>\n      <th>0</th>\n      <td>9</td>\n      <td>0</td>\n    </tr>\n    <tr>\n      <th>1.01.2004 00:00</th>\n      <td>0</td>\n      <td>1</td>\n    </tr>\n    <tr>\n      <th>1.02.1991 00:00</th>\n      <td>2</td>\n      <td>0</td>\n    </tr>\n    <tr>\n      <th>1.02.2002 00:00</th>\n      <td>2</td>\n      <td>0</td>\n    </tr>\n    <tr>\n      <th>1.02.2008 00:00</th>\n      <td>2</td>\n      <td>0</td>\n    </tr>\n    <tr>\n      <th>...</th>\n      <td>...</td>\n      <td>...</td>\n    </tr>\n    <tr>\n      <th>9.12.1988 00:00</th>\n      <td>0</td>\n      <td>1</td>\n    </tr>\n    <tr>\n      <th>9.12.1994 00:00</th>\n      <td>1</td>\n      <td>1</td>\n    </tr>\n    <tr>\n      <th>9.12.2005 00:00</th>\n      <td>0</td>\n      <td>2</td>\n    </tr>\n    <tr>\n      <th>9.12.2011 00:00</th>\n      <td>1</td>\n      <td>1</td>\n    </tr>\n    <tr>\n      <th>9.12.2016 00:00</th>\n      <td>1</td>\n      <td>1</td>\n    </tr>\n  </tbody>\n</table>\n<p>1772 rows × 2 columns</p>\n</div>"
     },
     "metadata": {}
    },
    {
     "output_type": "stream",
     "name": "stdout",
     "text": [
      "Observed Values\n"
     ]
    },
    {
     "output_type": "display_data",
     "data": {
      "text/plain": "array([[9, 0],\n       [0, 1],\n       [2, 0],\n       ...,\n       [0, 2],\n       [1, 1],\n       [1, 1]], dtype=int64)"
     },
     "metadata": {}
    },
    {
     "output_type": "stream",
     "name": "stdout",
     "text": [
      "chi2_test_statistic, p, dof, expected\n"
     ]
    },
    {
     "output_type": "display_data",
     "data": {
      "text/plain": "1803.4698996751126"
     },
     "metadata": {}
    },
    {
     "output_type": "display_data",
     "data": {
      "text/plain": "0.28997295194919154"
     },
     "metadata": {}
    },
    {
     "output_type": "display_data",
     "data": {
      "text/plain": "1771"
     },
     "metadata": {}
    },
    {
     "output_type": "display_data",
     "data": {
      "text/plain": "array([[4.40550511, 4.59449489],\n       [0.48950057, 0.51049943],\n       [0.97900114, 1.02099886],\n       ...,\n       [0.97900114, 1.02099886],\n       [0.97900114, 1.02099886],\n       [0.97900114, 1.02099886]])"
     },
     "metadata": {}
    },
    {
     "output_type": "stream",
     "name": "stdout",
     "text": [
      "critical = 1870.017, chi2_test_statistic = 1803.470\nIndependent (fail to reject H0)\n\nsignificance = 0.050, p = 0.290\nIndependent (fail to reject H0)\n"
     ]
    }
   ],
   "source": [
    "\n",
    "# Get all combinations of columns array of length 2, C(7, 2) = 21 combinations\n",
    "comb = it.combinations(columns, 2) \n",
    "\n",
    "for i in list(comb): \n",
    "    # Contingency Table\n",
    "    table = pd.crosstab(df[i[0]], df[i[1]])\n",
    "    display(table)\n",
    "    \n",
    "    # Observed Values\n",
    "    Observed_Values = table.values\n",
    "    print(\"Observed Values\")\n",
    "    display(Observed_Values)\n",
    "    \n",
    "    # Calculate Chi-Squared test\n",
    "    # Returns of scipy.state.chi2_contigency()\n",
    "    # chi2: The test statistic\n",
    "    # p: The p-value of the test\n",
    "    # dof: Degrees of freedom\n",
    "    # expected: The expected frequencies, based on the marginal sums of the table\n",
    "    \n",
    "    chi2_test_statistic, p, dof, expected = sp.chi2_contingency(table)\n",
    "    print(\"chi2_test_statistic, p, dof, expected\")\n",
    "    display(chi2_test_statistic, p, dof, expected)\n",
    "    \n",
    "    # interpret test statistic\n",
    "    \n",
    "    # Test Statistic >= Critical Value: reject null hypotheses, dependent (Ha)\n",
    "    # Test Statistic < Critical Value: fail to reject null hypotheses, independent (Ho)\n",
    "    # chi2.ppf(q, df, loc=0, scale=1) inverset CDF\n",
    "    \n",
    "    prob = 0.95 # significant value = 1 - 0.95 = 0.05\n",
    "    critical = chi2.ppf(prob, dof)\n",
    "    print(\"critical = %.3f, chi2_test_statistic = %.3f\" % (critical, chi2_test_statistic))\n",
    "    \n",
    "    if chi2_test_statistic >= critical:\n",
    "        print(\"Dependent (reject H0)\\n\")\n",
    "    else:\n",
    "        print(\"Independent (fail to reject H0)\\n\")\n",
    "        \n",
    "    # interpret p-value\n",
    "    # p-value <= alpha: reject null hypothesis, dependent (Ha)\n",
    "    # p-value: > alpha: fail to reject null hypothesis, independent (Ho)\n",
    "    alpha = 1.0 - prob\n",
    "    print(\"significance = %.3f, p = %.3f\" % (alpha, p))\n",
    "    if p <= alpha:\n",
    "        print(\"Dependent (reject H0)\")\n",
    "    else: \n",
    "        print(\"Independent (fail to reject H0)\")"
   ]
  },
  {
   "cell_type": "code",
   "execution_count": null,
   "metadata": {},
   "outputs": [],
   "source": []
  }
 ],
 "metadata": {
  "kernelspec": {
   "name": "Python 3.8.3 64-bit (conda)",
   "display_name": "Python 3.8.3 64-bit (conda)",
   "metadata": {
    "interpreter": {
     "hash": "ededa68a6ddfe33508872e0c5bac4cb7e916e68245dcfd63407618e922b79ff0"
    }
   }
  },
  "language_info": {
   "codemirror_mode": {
    "name": "ipython",
    "version": 3
   },
   "file_extension": ".py",
   "mimetype": "text/x-python",
   "name": "python",
   "nbconvert_exporter": "python",
   "pygments_lexer": "ipython3",
   "version": "3.8.3-final"
  }
 },
 "nbformat": 4,
 "nbformat_minor": 4
}