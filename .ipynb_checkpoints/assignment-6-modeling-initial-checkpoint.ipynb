{
 "cells": [
  {
   "cell_type": "markdown",
   "metadata": {},
   "source": [
    "### Import Libraries"
   ]
  },
  {
   "cell_type": "code",
   "execution_count": 165,
   "metadata": {},
   "outputs": [],
   "source": [
    "import pandas as pd\n",
    "import numpy as np\n",
    "import time\n",
    "from sklearn.model_selection import KFold\n",
    "from sklearn.model_selection import train_test_split\n",
    "from sklearn.ensemble import GradientBoostingClassifier\n",
    "from sklearn.metrics import roc_auc_score\n",
    "import matplotlib.pyplot as plt\n",
    "from sklearn.metrics import confusion_matrix\n",
    "from sklearn.metrics import roc_curve"
   ]
  },
  {
   "cell_type": "markdown",
   "metadata": {},
   "source": [
    "### Read Data & Assign Accordingly"
   ]
  },
  {
   "cell_type": "code",
   "execution_count": 151,
   "metadata": {},
   "outputs": [],
   "source": [
    "df = pd.read_csv('data/final_training_data.csv')"
   ]
  },
  {
   "cell_type": "code",
   "execution_count": 152,
   "metadata": {},
   "outputs": [],
   "source": [
    "clf_target = 'isprofit' # classification model target\n",
    "reg_target = 'profitability_ratio' # regression model target\n",
    "des_features = ['budget', 'budget_norm', 'genre', 'popularity', 'popularity_norm', 'rating', 'runtime',\n",
    "                'runtime_norm', 'score', 'score_norm', 'votes', 'votes_norm', 'year'] # descriptive features"
   ]
  },
  {
   "cell_type": "code",
   "execution_count": 153,
   "metadata": {},
   "outputs": [],
   "source": [
    "X = df[des_features] # training data is the same for classification model and regression model\n",
    "y1 = df[clf_target] # y1 corresponds to binary label outcome that will be used in classification\n",
    "y2 = df[reg_target] # y2 corresponds to continuous outcome that will be used in regression\n",
    "\n",
    "X_train, X_test, y1_train, y1_test = train_test_split(X, y1, test_size=0.2, random_state=17)\n",
    "X_train, X_test, y2_train, y2_test = train_test_split(X, y2, test_size=0.2, random_state=17)\n",
    "\n",
    "X_train = X_train.reset_index(drop=True)\n",
    "y1_train = pd.DataFrame(y1_train).reset_index(drop=True)\n",
    "y2_train = pd.DataFrame(y2_train).reset_index(drop=True)\n",
    "X_test = X_test.reset_index(drop=True)\n",
    "y1_test = pd.DataFrame(y1_test).reset_index(drop=True)\n",
    "y2_test = pd.DataFrame(y2_test).reset_index(drop=True)"
   ]
  },
  {
   "cell_type": "markdown",
   "metadata": {},
   "source": [
    "### Helper Functions"
   ]
  },
  {
   "cell_type": "code",
   "execution_count": 156,
   "metadata": {},
   "outputs": [],
   "source": [
    "def plot_confusion_matrix(y_true, y_pred, classes,\n",
    "                          normalize=False,\n",
    "                          title=None,\n",
    "                          cmap=plt.cm.Blues):\n",
    "    if not title:\n",
    "        if normalize:\n",
    "            pass\n",
    "        else:\n",
    "            title = 'Confusion matrix, without normalization'\n",
    "\n",
    "    # Compute confusion matrix\n",
    "    cm = confusion_matrix(y_true, y_pred)\n",
    "\n",
    "    fig, ax = plt.subplots()\n",
    "    im = ax.imshow(cm, interpolation='nearest', cmap=cmap)\n",
    "    ax.figure.colorbar(im, ax=ax)\n",
    "    ax.set(xticks=np.arange(cm.shape[1]),\n",
    "           yticks=np.arange(cm.shape[0]),\n",
    "           xticklabels=classes, yticklabels=classes,\n",
    "           title=title,\n",
    "           ylabel='True label',\n",
    "           xlabel='Predicted label')\n",
    "\n",
    "    plt.setp(ax.get_xticklabels(), rotation=45, ha=\"right\",\n",
    "             rotation_mode=\"anchor\")\n",
    "\n",
    "    fmt = '.2f' if normalize else 'd'\n",
    "    thresh = cm.max() / 2.\n",
    "    for i in range(cm.shape[0]):\n",
    "        for j in range(cm.shape[1]):\n",
    "            ax.text(j, i, format(cm[i, j], fmt),\n",
    "                    ha=\"center\", va=\"center\",\n",
    "                    color=\"white\" if cm[i, j] > thresh else \"black\")\n",
    "    fig.tight_layout()\n",
    "    return cm"
   ]
  },
  {
   "cell_type": "code",
   "execution_count": 157,
   "metadata": {},
   "outputs": [],
   "source": [
    "def run_kfold_model(X,y,X_test,y_test,model,fold_indexes,folds=[1,2,3],model_name='Unknown'):\n",
    "    results = {}\n",
    "    for fold in folds:\n",
    "        print('='*5+' '+model_name+' - fold '+str(fold)+' '+'='*5)\n",
    "        x_train = X.loc[list(fold_indexes[fold]['train'])]\n",
    "        x_valid = X.loc[list(fold_indexes[fold]['valid'])]\n",
    "        y_train = y.loc[list(fold_indexes[fold]['train'])]\n",
    "        y_valid = y.loc[list(fold_indexes[fold]['valid'])]\n",
    "        print('fitting model...')\n",
    "        start_time = time.time()\n",
    "        model.fit(x_train, np.ravel(y_train))\n",
    "        ex_time = (time.time() - start_time)\n",
    "        print('model fit!')\n",
    "        results[fold] = {}\n",
    "        results[fold]['model'] = model\n",
    "        results[fold]['preds'] = {\n",
    "            'train_y_pred': model.predict(x_train),\n",
    "            'train_y_prob': model.predict_proba(x_train)[:,0],\n",
    "            'valid_y_pred': model.predict(x_valid),\n",
    "            'valid_y_prob': model.predict_proba(x_valid)[:,0],\n",
    "            'test_y_pred': model.predict(X_test),\n",
    "            'test_y_prob': model.predict_proba(X_test)[:,0],\n",
    "        }\n",
    "        results[fold]['execution_time'] = ex_time\n",
    "        # pprint.pprint(results[fold])\n",
    "    return results"
   ]
  },
  {
   "cell_type": "code",
   "execution_count": 200,
   "metadata": {},
   "outputs": [],
   "source": [
    "# This is where we create our folds\n",
    "kf = KFold(n_splits=3, random_state=17, shuffle=True)\n",
    "kf.get_n_splits(X_train)\n",
    "fold_indexes = {}\n",
    "i = 1\n",
    "for train_index, valid_index in kf.split(X_train):\n",
    "    fold_indexes[i]={}\n",
    "    fold_indexes[i]['train']=train_index\n",
    "    fold_indexes[i]['valid']=valid_index\n",
    "    i+=1\n",
    "    \n",
    "y1_valid = np.ravel(y1_train.loc[list(fold_indexes[1]['valid'])+list(fold_indexes[2]['valid'])+list(fold_indexes[3]['valid'])])\n",
    "y1_test = np.ravel(y1_test)"
   ]
  },
  {
   "cell_type": "markdown",
   "metadata": {},
   "source": [
    "# ========= YOU CAN RUN ABOVE CODE UNTIL THIS POINT ========== "
   ]
  },
  {
   "cell_type": "markdown",
   "metadata": {},
   "source": [
    "## Classification Models"
   ]
  },
  {
   "cell_type": "markdown",
   "metadata": {},
   "source": [
    "### Gradient Boosting Classifier"
   ]
  },
  {
   "cell_type": "code",
   "execution_count": 201,
   "metadata": {},
   "outputs": [
    {
     "name": "stdout",
     "output_type": "stream",
     "text": [
      "===== GB Classification - fold 1 =====\n",
      "fitting model...\n",
      "model fit!\n",
      "===== GB Classification - fold 2 =====\n",
      "fitting model...\n",
      "model fit!\n",
      "===== GB Classification - fold 3 =====\n",
      "fitting model...\n",
      "model fit!\n"
     ]
    }
   ],
   "source": [
    "gb = GradientBoostingClassifier(n_estimators=100)\n",
    "gb_results = run_kfold_model(X_train,y1_train,X_test,y1_test,gb,fold_indexes,model_name='GB Classification')"
   ]
  },
  {
   "cell_type": "markdown",
   "metadata": {},
   "source": [
    "#### Confusion Matrix (Validation)"
   ]
  },
  {
   "cell_type": "code",
   "execution_count": 202,
   "metadata": {},
   "outputs": [],
   "source": [
    "valid_pred = list(gb_results[1]['preds']['valid_y_pred'])+\\\n",
    "             list(gb_results[2]['preds']['valid_y_pred'])+\\\n",
    "             list(gb_results[3]['preds']['valid_y_pred'])"
   ]
  },
  {
   "cell_type": "code",
   "execution_count": 205,
   "metadata": {},
   "outputs": [
    {
     "data": {
      "image/png": "[encoded data removed]",
      "text/plain": [
       "<Figure size 432x288 with 2 Axes>"
      ]
     },
     "metadata": {
      "needs_background": "light"
     },
     "output_type": "display_data"
    }
   ],
   "source": [
    "cm = plot_confusion_matrix(y1_valid,valid_pred,classes=[0,1],title='Confusion matrix')\n",
    "plt.show()"
   ]
  },
  {
   "cell_type": "code",
   "execution_count": 206,
   "metadata": {},
   "outputs": [
    {
     "name": "stdout",
     "output_type": "stream",
     "text": [
      "Accuracy: 0.7\n"
     ]
    }
   ],
   "source": [
    "accuracy = (cm[0,0] + cm[1,1]) / cm.sum() # Overall, how often is the classifier correct?\n",
    "print('Accuracy: {}'.format(round(accuracy,2)))"
   ]
  },
  {
   "cell_type": "markdown",
   "metadata": {},
   "source": [
    "#### Confusion Matrix (Test)"
   ]
  },
  {
   "cell_type": "code",
   "execution_count": 207,
   "metadata": {},
   "outputs": [],
   "source": [
    "threshold = 0.5\n",
    "test_probs = gb_results[1]['preds']['test_y_prob']+\\\n",
    "             gb_results[2]['preds']['test_y_prob']+\\\n",
    "             gb_results[3]['preds']['test_y_prob']\n",
    "test_probs /= 3\n",
    "test_pred = (test_probs>=threshold).astype(int)"
   ]
  },
  {
   "cell_type": "code",
   "execution_count": 208,
   "metadata": {},
   "outputs": [
    {
     "data": {
      "image/png": "[encoded data removed]",
      "text/plain": [
       "<Figure size 432x288 with 2 Axes>"
      ]
     },
     "metadata": {
      "needs_background": "light"
     },
     "output_type": "display_data"
    }
   ],
   "source": [
    "cm = plot_confusion_matrix(y1_test,test_pred,classes=[0,1],title='Confusion matrix')\n",
    "plt.show()"
   ]
  },
  {
   "cell_type": "code",
   "execution_count": 209,
   "metadata": {},
   "outputs": [
    {
     "name": "stdout",
     "output_type": "stream",
     "text": [
      "Accuracy: 0.31\n"
     ]
    }
   ],
   "source": [
    "accuracy = (cm[0,0] + cm[1,1]) / cm.sum() # Overall, how often is the classifier correct?\n",
    "print('Accuracy: {}'.format(round(accuracy,2)))"
   ]
  }
 ],
 "metadata": {
  "kernelspec": {
   "display_name": "Python 3",
   "language": "python",
   "name": "python3"
  },
  "language_info": {
   "codemirror_mode": {
    "name": "ipython",
    "version": 3
   },
   "file_extension": ".py",
   "mimetype": "text/x-python",
   "name": "python",
   "nbconvert_exporter": "python",
   "pygments_lexer": "ipython3",
   "version": "3.7.9"
  }
 },
 "nbformat": 4,
 "nbformat_minor": 4
}
